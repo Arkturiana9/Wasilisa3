{
  "metadata": {
    "colab": {
      "provenance": [],
      "gpuType": "T4"
    },
    "kernelspec": {
      "name": "python3",
      "display_name": "Python 3"
    },
    "language_info": {
      "name": "python",
      "version": "3.10.14",
      "mimetype": "text/x-python",
      "codemirror_mode": {
        "name": "ipython",
        "version": 3
      },
      "pygments_lexer": "ipython3",
      "nbconvert_exporter": "python",
      "file_extension": ".py"
    },
    "accelerator": "GPU",
    "kaggle": {
      "accelerator": "nvidiaTeslaT4",
      "dataSources": [],
      "dockerImageVersionId": 30762,
      "isInternetEnabled": true,
      "language": "python",
      "sourceType": "notebook",
      "isGpuEnabled": true
    },
    "widgets": {
      "application/vnd.jupyter.widget-state+json": {
        "fef4f8141b02468884aee223ae432d62": {
          "model_module": "@jupyter-widgets/controls",
          "model_name": "HBoxModel",
          "model_module_version": "1.5.0",
          "state": {
            "_dom_classes": [],
            "_model_module": "@jupyter-widgets/controls",
            "_model_module_version": "1.5.0",
            "_model_name": "HBoxModel",
            "_view_count": null,
            "_view_module": "@jupyter-widgets/controls",
            "_view_module_version": "1.5.0",
            "_view_name": "HBoxView",
            "box_style": "",
            "children": [
              "IPY_MODEL_a64e8359ddff44958f293a26a72cd2cc",
              "IPY_MODEL_a5afaa35e1fd42f793ab483f44d9d044",
              "IPY_MODEL_5575d5e1f88841159accdf8e90dadbbe"
            ],
            "layout": "IPY_MODEL_9a76d17a886547eaaafc3a0a59fc3b4a"
          }
        },
        "a64e8359ddff44958f293a26a72cd2cc": {
          "model_module": "@jupyter-widgets/controls",
          "model_name": "HTMLModel",
          "model_module_version": "1.5.0",
          "state": {
            "_dom_classes": [],
            "_model_module": "@jupyter-widgets/controls",
            "_model_module_version": "1.5.0",
            "_model_name": "HTMLModel",
            "_view_count": null,
            "_view_module": "@jupyter-widgets/controls",
            "_view_module_version": "1.5.0",
            "_view_name": "HTMLView",
            "description": "",
            "description_tooltip": null,
            "layout": "IPY_MODEL_abc974866e4048c390cd16bcc7543671",
            "placeholder": "​",
            "style": "IPY_MODEL_eef87d0d12f44a04a64bc3395817580d",
            "value": "config.json: 100%"
          }
        },
        "a5afaa35e1fd42f793ab483f44d9d044": {
          "model_module": "@jupyter-widgets/controls",
          "model_name": "FloatProgressModel",
          "model_module_version": "1.5.0",
          "state": {
            "_dom_classes": [],
            "_model_module": "@jupyter-widgets/controls",
            "_model_module_version": "1.5.0",
            "_model_name": "FloatProgressModel",
            "_view_count": null,
            "_view_module": "@jupyter-widgets/controls",
            "_view_module_version": "1.5.0",
            "_view_name": "ProgressView",
            "bar_style": "success",
            "description": "",
            "description_tooltip": null,
            "layout": "IPY_MODEL_23f79c3caf2b4722bf94a361ebd051b2",
            "max": 632,
            "min": 0,
            "orientation": "horizontal",
            "style": "IPY_MODEL_0325c0a12d2744058c33b76218389830",
            "value": 632
          }
        },
        "5575d5e1f88841159accdf8e90dadbbe": {
          "model_module": "@jupyter-widgets/controls",
          "model_name": "HTMLModel",
          "model_module_version": "1.5.0",
          "state": {
            "_dom_classes": [],
            "_model_module": "@jupyter-widgets/controls",
            "_model_module_version": "1.5.0",
            "_model_name": "HTMLModel",
            "_view_count": null,
            "_view_module": "@jupyter-widgets/controls",
            "_view_module_version": "1.5.0",
            "_view_name": "HTMLView",
            "description": "",
            "description_tooltip": null,
            "layout": "IPY_MODEL_159ffc032d634e879bf419134fa6ec21",
            "placeholder": "​",
            "style": "IPY_MODEL_13a98b741f24464b9ed8724c53055356",
            "value": " 632/632 [00:00&lt;00:00, 43.2kB/s]"
          }
        },
        "9a76d17a886547eaaafc3a0a59fc3b4a": {
          "model_module": "@jupyter-widgets/base",
          "model_name": "LayoutModel",
          "model_module_version": "1.2.0",
          "state": {
            "_model_module": "@jupyter-widgets/base",
            "_model_module_version": "1.2.0",
            "_model_name": "LayoutModel",
            "_view_count": null,
            "_view_module": "@jupyter-widgets/base",
            "_view_module_version": "1.2.0",
            "_view_name": "LayoutView",
            "align_content": null,
            "align_items": null,
            "align_self": null,
            "border": null,
            "bottom": null,
            "display": null,
            "flex": null,
            "flex_flow": null,
            "grid_area": null,
            "grid_auto_columns": null,
            "grid_auto_flow": null,
            "grid_auto_rows": null,
            "grid_column": null,
            "grid_gap": null,
            "grid_row": null,
            "grid_template_areas": null,
            "grid_template_columns": null,
            "grid_template_rows": null,
            "height": null,
            "justify_content": null,
            "justify_items": null,
            "left": null,
            "margin": null,
            "max_height": null,
            "max_width": null,
            "min_height": null,
            "min_width": null,
            "object_fit": null,
            "object_position": null,
            "order": null,
            "overflow": null,
            "overflow_x": null,
            "overflow_y": null,
            "padding": null,
            "right": null,
            "top": null,
            "visibility": null,
            "width": null
          }
        },
        "abc974866e4048c390cd16bcc7543671": {
          "model_module": "@jupyter-widgets/base",
          "model_name": "LayoutModel",
          "model_module_version": "1.2.0",
          "state": {
            "_model_module": "@jupyter-widgets/base",
            "_model_module_version": "1.2.0",
            "_model_name": "LayoutModel",
            "_view_count": null,
            "_view_module": "@jupyter-widgets/base",
            "_view_module_version": "1.2.0",
            "_view_name": "LayoutView",
            "align_content": null,
            "align_items": null,
            "align_self": null,
            "border": null,
            "bottom": null,
            "display": null,
            "flex": null,
            "flex_flow": null,
            "grid_area": null,
            "grid_auto_columns": null,
            "grid_auto_flow": null,
            "grid_auto_rows": null,
            "grid_column": null,
            "grid_gap": null,
            "grid_row": null,
            "grid_template_areas": null,
            "grid_template_columns": null,
            "grid_template_rows": null,
            "height": null,
            "justify_content": null,
            "justify_items": null,
            "left": null,
            "margin": null,
            "max_height": null,
            "max_width": null,
            "min_height": null,
            "min_width": null,
            "object_fit": null,
            "object_position": null,
            "order": null,
            "overflow": null,
            "overflow_x": null,
            "overflow_y": null,
            "padding": null,
            "right": null,
            "top": null,
            "visibility": null,
            "width": null
          }
        },
        "eef87d0d12f44a04a64bc3395817580d": {
          "model_module": "@jupyter-widgets/controls",
          "model_name": "DescriptionStyleModel",
          "model_module_version": "1.5.0",
          "state": {
            "_model_module": "@jupyter-widgets/controls",
            "_model_module_version": "1.5.0",
            "_model_name": "DescriptionStyleModel",
            "_view_count": null,
            "_view_module": "@jupyter-widgets/base",
            "_view_module_version": "1.2.0",
            "_view_name": "StyleView",
            "description_width": ""
          }
        },
        "23f79c3caf2b4722bf94a361ebd051b2": {
          "model_module": "@jupyter-widgets/base",
          "model_name": "LayoutModel",
          "model_module_version": "1.2.0",
          "state": {
            "_model_module": "@jupyter-widgets/base",
            "_model_module_version": "1.2.0",
            "_model_name": "LayoutModel",
            "_view_count": null,
            "_view_module": "@jupyter-widgets/base",
            "_view_module_version": "1.2.0",
            "_view_name": "LayoutView",
            "align_content": null,
            "align_items": null,
            "align_self": null,
            "border": null,
            "bottom": null,
            "display": null,
            "flex": null,
            "flex_flow": null,
            "grid_area": null,
            "grid_auto_columns": null,
            "grid_auto_flow": null,
            "grid_auto_rows": null,
            "grid_column": null,
            "grid_gap": null,
            "grid_row": null,
            "grid_template_areas": null,
            "grid_template_columns": null,
            "grid_template_rows": null,
            "height": null,
            "justify_content": null,
            "justify_items": null,
            "left": null,
            "margin": null,
            "max_height": null,
            "max_width": null,
            "min_height": null,
            "min_width": null,
            "object_fit": null,
            "object_position": null,
            "order": null,
            "overflow": null,
            "overflow_x": null,
            "overflow_y": null,
            "padding": null,
            "right": null,
            "top": null,
            "visibility": null,
            "width": null
          }
        },
        "0325c0a12d2744058c33b76218389830": {
          "model_module": "@jupyter-widgets/controls",
          "model_name": "ProgressStyleModel",
          "model_module_version": "1.5.0",
          "state": {
            "_model_module": "@jupyter-widgets/controls",
            "_model_module_version": "1.5.0",
            "_model_name": "ProgressStyleModel",
            "_view_count": null,
            "_view_module": "@jupyter-widgets/base",
            "_view_module_version": "1.2.0",
            "_view_name": "StyleView",
            "bar_color": null,
            "description_width": ""
          }
        },
        "159ffc032d634e879bf419134fa6ec21": {
          "model_module": "@jupyter-widgets/base",
          "model_name": "LayoutModel",
          "model_module_version": "1.2.0",
          "state": {
            "_model_module": "@jupyter-widgets/base",
            "_model_module_version": "1.2.0",
            "_model_name": "LayoutModel",
            "_view_count": null,
            "_view_module": "@jupyter-widgets/base",
            "_view_module_version": "1.2.0",
            "_view_name": "LayoutView",
            "align_content": null,
            "align_items": null,
            "align_self": null,
            "border": null,
            "bottom": null,
            "display": null,
            "flex": null,
            "flex_flow": null,
            "grid_area": null,
            "grid_auto_columns": null,
            "grid_auto_flow": null,
            "grid_auto_rows": null,
            "grid_column": null,
            "grid_gap": null,
            "grid_row": null,
            "grid_template_areas": null,
            "grid_template_columns": null,
            "grid_template_rows": null,
            "height": null,
            "justify_content": null,
            "justify_items": null,
            "left": null,
            "margin": null,
            "max_height": null,
            "max_width": null,
            "min_height": null,
            "min_width": null,
            "object_fit": null,
            "object_position": null,
            "order": null,
            "overflow": null,
            "overflow_x": null,
            "overflow_y": null,
            "padding": null,
            "right": null,
            "top": null,
            "visibility": null,
            "width": null
          }
        },
        "13a98b741f24464b9ed8724c53055356": {
          "model_module": "@jupyter-widgets/controls",
          "model_name": "DescriptionStyleModel",
          "model_module_version": "1.5.0",
          "state": {
            "_model_module": "@jupyter-widgets/controls",
            "_model_module_version": "1.5.0",
            "_model_name": "DescriptionStyleModel",
            "_view_count": null,
            "_view_module": "@jupyter-widgets/base",
            "_view_module_version": "1.2.0",
            "_view_name": "StyleView",
            "description_width": ""
          }
        },
        "231285fec2794145b55457c543a57016": {
          "model_module": "@jupyter-widgets/controls",
          "model_name": "HBoxModel",
          "model_module_version": "1.5.0",
          "state": {
            "_dom_classes": [],
            "_model_module": "@jupyter-widgets/controls",
            "_model_module_version": "1.5.0",
            "_model_name": "HBoxModel",
            "_view_count": null,
            "_view_module": "@jupyter-widgets/controls",
            "_view_module_version": "1.5.0",
            "_view_name": "HBoxView",
            "box_style": "",
            "children": [
              "IPY_MODEL_4577e8293f3a49c08e3c44beced95569",
              "IPY_MODEL_583efbb9d65046668936beb07cfe287a",
              "IPY_MODEL_e172eaea7d6c407fb9b300947bc96a20"
            ],
            "layout": "IPY_MODEL_8963e302c698473aaeb0ecd77b2712cc"
          }
        },
        "4577e8293f3a49c08e3c44beced95569": {
          "model_module": "@jupyter-widgets/controls",
          "model_name": "HTMLModel",
          "model_module_version": "1.5.0",
          "state": {
            "_dom_classes": [],
            "_model_module": "@jupyter-widgets/controls",
            "_model_module_version": "1.5.0",
            "_model_name": "HTMLModel",
            "_view_count": null,
            "_view_module": "@jupyter-widgets/controls",
            "_view_module_version": "1.5.0",
            "_view_name": "HTMLView",
            "description": "",
            "description_tooltip": null,
            "layout": "IPY_MODEL_4f81a6bd4b1043e1bd2c61a163d7934f",
            "placeholder": "​",
            "style": "IPY_MODEL_e22e139d7065445ba1ae3268ffa2eec3",
            "value": "model.safetensors: 100%"
          }
        },
        "583efbb9d65046668936beb07cfe287a": {
          "model_module": "@jupyter-widgets/controls",
          "model_name": "FloatProgressModel",
          "model_module_version": "1.5.0",
          "state": {
            "_dom_classes": [],
            "_model_module": "@jupyter-widgets/controls",
            "_model_module_version": "1.5.0",
            "_model_name": "FloatProgressModel",
            "_view_count": null,
            "_view_module": "@jupyter-widgets/controls",
            "_view_module_version": "1.5.0",
            "_view_name": "ProgressView",
            "bar_style": "success",
            "description": "",
            "description_tooltip": null,
            "layout": "IPY_MODEL_f887cf6336f8469c877f30966f8eadd4",
            "max": 47661730,
            "min": 0,
            "orientation": "horizontal",
            "style": "IPY_MODEL_afbd7bcfc4d140f0b63368a862b152b2",
            "value": 47661730
          }
        },
        "e172eaea7d6c407fb9b300947bc96a20": {
          "model_module": "@jupyter-widgets/controls",
          "model_name": "HTMLModel",
          "model_module_version": "1.5.0",
          "state": {
            "_dom_classes": [],
            "_model_module": "@jupyter-widgets/controls",
            "_model_module_version": "1.5.0",
            "_model_name": "HTMLModel",
            "_view_count": null,
            "_view_module": "@jupyter-widgets/controls",
            "_view_module_version": "1.5.0",
            "_view_name": "HTMLView",
            "description": "",
            "description_tooltip": null,
            "layout": "IPY_MODEL_267b02bb53694afb945d50d4a807fa67",
            "placeholder": "​",
            "style": "IPY_MODEL_3e88b171432642bfa8d0e7dcfde1491c",
            "value": " 47.7M/47.7M [00:00&lt;00:00, 103MB/s]"
          }
        },
        "8963e302c698473aaeb0ecd77b2712cc": {
          "model_module": "@jupyter-widgets/base",
          "model_name": "LayoutModel",
          "model_module_version": "1.2.0",
          "state": {
            "_model_module": "@jupyter-widgets/base",
            "_model_module_version": "1.2.0",
            "_model_name": "LayoutModel",
            "_view_count": null,
            "_view_module": "@jupyter-widgets/base",
            "_view_module_version": "1.2.0",
            "_view_name": "LayoutView",
            "align_content": null,
            "align_items": null,
            "align_self": null,
            "border": null,
            "bottom": null,
            "display": null,
            "flex": null,
            "flex_flow": null,
            "grid_area": null,
            "grid_auto_columns": null,
            "grid_auto_flow": null,
            "grid_auto_rows": null,
            "grid_column": null,
            "grid_gap": null,
            "grid_row": null,
            "grid_template_areas": null,
            "grid_template_columns": null,
            "grid_template_rows": null,
            "height": null,
            "justify_content": null,
            "justify_items": null,
            "left": null,
            "margin": null,
            "max_height": null,
            "max_width": null,
            "min_height": null,
            "min_width": null,
            "object_fit": null,
            "object_position": null,
            "order": null,
            "overflow": null,
            "overflow_x": null,
            "overflow_y": null,
            "padding": null,
            "right": null,
            "top": null,
            "visibility": null,
            "width": null
          }
        },
        "4f81a6bd4b1043e1bd2c61a163d7934f": {
          "model_module": "@jupyter-widgets/base",
          "model_name": "LayoutModel",
          "model_module_version": "1.2.0",
          "state": {
            "_model_module": "@jupyter-widgets/base",
            "_model_module_version": "1.2.0",
            "_model_name": "LayoutModel",
            "_view_count": null,
            "_view_module": "@jupyter-widgets/base",
            "_view_module_version": "1.2.0",
            "_view_name": "LayoutView",
            "align_content": null,
            "align_items": null,
            "align_self": null,
            "border": null,
            "bottom": null,
            "display": null,
            "flex": null,
            "flex_flow": null,
            "grid_area": null,
            "grid_auto_columns": null,
            "grid_auto_flow": null,
            "grid_auto_rows": null,
            "grid_column": null,
            "grid_gap": null,
            "grid_row": null,
            "grid_template_areas": null,
            "grid_template_columns": null,
            "grid_template_rows": null,
            "height": null,
            "justify_content": null,
            "justify_items": null,
            "left": null,
            "margin": null,
            "max_height": null,
            "max_width": null,
            "min_height": null,
            "min_width": null,
            "object_fit": null,
            "object_position": null,
            "order": null,
            "overflow": null,
            "overflow_x": null,
            "overflow_y": null,
            "padding": null,
            "right": null,
            "top": null,
            "visibility": null,
            "width": null
          }
        },
        "e22e139d7065445ba1ae3268ffa2eec3": {
          "model_module": "@jupyter-widgets/controls",
          "model_name": "DescriptionStyleModel",
          "model_module_version": "1.5.0",
          "state": {
            "_model_module": "@jupyter-widgets/controls",
            "_model_module_version": "1.5.0",
            "_model_name": "DescriptionStyleModel",
            "_view_count": null,
            "_view_module": "@jupyter-widgets/base",
            "_view_module_version": "1.2.0",
            "_view_name": "StyleView",
            "description_width": ""
          }
        },
        "f887cf6336f8469c877f30966f8eadd4": {
          "model_module": "@jupyter-widgets/base",
          "model_name": "LayoutModel",
          "model_module_version": "1.2.0",
          "state": {
            "_model_module": "@jupyter-widgets/base",
            "_model_module_version": "1.2.0",
            "_model_name": "LayoutModel",
            "_view_count": null,
            "_view_module": "@jupyter-widgets/base",
            "_view_module_version": "1.2.0",
            "_view_name": "LayoutView",
            "align_content": null,
            "align_items": null,
            "align_self": null,
            "border": null,
            "bottom": null,
            "display": null,
            "flex": null,
            "flex_flow": null,
            "grid_area": null,
            "grid_auto_columns": null,
            "grid_auto_flow": null,
            "grid_auto_rows": null,
            "grid_column": null,
            "grid_gap": null,
            "grid_row": null,
            "grid_template_areas": null,
            "grid_template_columns": null,
            "grid_template_rows": null,
            "height": null,
            "justify_content": null,
            "justify_items": null,
            "left": null,
            "margin": null,
            "max_height": null,
            "max_width": null,
            "min_height": null,
            "min_width": null,
            "object_fit": null,
            "object_position": null,
            "order": null,
            "overflow": null,
            "overflow_x": null,
            "overflow_y": null,
            "padding": null,
            "right": null,
            "top": null,
            "visibility": null,
            "width": null
          }
        },
        "afbd7bcfc4d140f0b63368a862b152b2": {
          "model_module": "@jupyter-widgets/controls",
          "model_name": "ProgressStyleModel",
          "model_module_version": "1.5.0",
          "state": {
            "_model_module": "@jupyter-widgets/controls",
            "_model_module_version": "1.5.0",
            "_model_name": "ProgressStyleModel",
            "_view_count": null,
            "_view_module": "@jupyter-widgets/base",
            "_view_module_version": "1.2.0",
            "_view_name": "StyleView",
            "bar_color": null,
            "description_width": ""
          }
        },
        "267b02bb53694afb945d50d4a807fa67": {
          "model_module": "@jupyter-widgets/base",
          "model_name": "LayoutModel",
          "model_module_version": "1.2.0",
          "state": {
            "_model_module": "@jupyter-widgets/base",
            "_model_module_version": "1.2.0",
            "_model_name": "LayoutModel",
            "_view_count": null,
            "_view_module": "@jupyter-widgets/base",
            "_view_module_version": "1.2.0",
            "_view_name": "LayoutView",
            "align_content": null,
            "align_items": null,
            "align_self": null,
            "border": null,
            "bottom": null,
            "display": null,
            "flex": null,
            "flex_flow": null,
            "grid_area": null,
            "grid_auto_columns": null,
            "grid_auto_flow": null,
            "grid_auto_rows": null,
            "grid_column": null,
            "grid_gap": null,
            "grid_row": null,
            "grid_template_areas": null,
            "grid_template_columns": null,
            "grid_template_rows": null,
            "height": null,
            "justify_content": null,
            "justify_items": null,
            "left": null,
            "margin": null,
            "max_height": null,
            "max_width": null,
            "min_height": null,
            "min_width": null,
            "object_fit": null,
            "object_position": null,
            "order": null,
            "overflow": null,
            "overflow_x": null,
            "overflow_y": null,
            "padding": null,
            "right": null,
            "top": null,
            "visibility": null,
            "width": null
          }
        },
        "3e88b171432642bfa8d0e7dcfde1491c": {
          "model_module": "@jupyter-widgets/controls",
          "model_name": "DescriptionStyleModel",
          "model_module_version": "1.5.0",
          "state": {
            "_model_module": "@jupyter-widgets/controls",
            "_model_module_version": "1.5.0",
            "_model_name": "DescriptionStyleModel",
            "_view_count": null,
            "_view_module": "@jupyter-widgets/base",
            "_view_module_version": "1.2.0",
            "_view_name": "StyleView",
            "description_width": ""
          }
        },
        "1b7f100ec71a4489849d5e95e257c787": {
          "model_module": "@jupyter-widgets/controls",
          "model_name": "HBoxModel",
          "model_module_version": "1.5.0",
          "state": {
            "_dom_classes": [],
            "_model_module": "@jupyter-widgets/controls",
            "_model_module_version": "1.5.0",
            "_model_name": "HBoxModel",
            "_view_count": null,
            "_view_module": "@jupyter-widgets/controls",
            "_view_module_version": "1.5.0",
            "_view_name": "HBoxView",
            "box_style": "",
            "children": [
              "IPY_MODEL_b4a7b65de2184d0db1367bb33a3306ec",
              "IPY_MODEL_fee0fc185bd4437da53089e9f53498d7",
              "IPY_MODEL_aad9fe029bf44bfe91a73866b64686e3"
            ],
            "layout": "IPY_MODEL_0701c670955045dc89292c0dab7ead25"
          }
        },
        "b4a7b65de2184d0db1367bb33a3306ec": {
          "model_module": "@jupyter-widgets/controls",
          "model_name": "HTMLModel",
          "model_module_version": "1.5.0",
          "state": {
            "_dom_classes": [],
            "_model_module": "@jupyter-widgets/controls",
            "_model_module_version": "1.5.0",
            "_model_name": "HTMLModel",
            "_view_count": null,
            "_view_module": "@jupyter-widgets/controls",
            "_view_module_version": "1.5.0",
            "_view_name": "HTMLView",
            "description": "",
            "description_tooltip": null,
            "layout": "IPY_MODEL_cb1e987eee084e8a91b48bb0d8a026ba",
            "placeholder": "​",
            "style": "IPY_MODEL_3c3a2a3a1a0c44efad5ac791fde6d7e9",
            "value": "tokenizer_config.json: 100%"
          }
        },
        "fee0fc185bd4437da53089e9f53498d7": {
          "model_module": "@jupyter-widgets/controls",
          "model_name": "FloatProgressModel",
          "model_module_version": "1.5.0",
          "state": {
            "_dom_classes": [],
            "_model_module": "@jupyter-widgets/controls",
            "_model_module_version": "1.5.0",
            "_model_name": "FloatProgressModel",
            "_view_count": null,
            "_view_module": "@jupyter-widgets/controls",
            "_view_module_version": "1.5.0",
            "_view_name": "ProgressView",
            "bar_style": "success",
            "description": "",
            "description_tooltip": null,
            "layout": "IPY_MODEL_b6d8a4ad856747a7957f23543f469681",
            "max": 341,
            "min": 0,
            "orientation": "horizontal",
            "style": "IPY_MODEL_9af0251223084cf9bb134deafa971248",
            "value": 341
          }
        },
        "aad9fe029bf44bfe91a73866b64686e3": {
          "model_module": "@jupyter-widgets/controls",
          "model_name": "HTMLModel",
          "model_module_version": "1.5.0",
          "state": {
            "_dom_classes": [],
            "_model_module": "@jupyter-widgets/controls",
            "_model_module_version": "1.5.0",
            "_model_name": "HTMLModel",
            "_view_count": null,
            "_view_module": "@jupyter-widgets/controls",
            "_view_module_version": "1.5.0",
            "_view_name": "HTMLView",
            "description": "",
            "description_tooltip": null,
            "layout": "IPY_MODEL_e58917a5b22c4b40a3cdf8ca4de5d44d",
            "placeholder": "​",
            "style": "IPY_MODEL_df937f80f6d84ac6a8f53f37f63f072a",
            "value": " 341/341 [00:00&lt;00:00, 21.3kB/s]"
          }
        },
        "0701c670955045dc89292c0dab7ead25": {
          "model_module": "@jupyter-widgets/base",
          "model_name": "LayoutModel",
          "model_module_version": "1.2.0",
          "state": {
            "_model_module": "@jupyter-widgets/base",
            "_model_module_version": "1.2.0",
            "_model_name": "LayoutModel",
            "_view_count": null,
            "_view_module": "@jupyter-widgets/base",
            "_view_module_version": "1.2.0",
            "_view_name": "LayoutView",
            "align_content": null,
            "align_items": null,
            "align_self": null,
            "border": null,
            "bottom": null,
            "display": null,
            "flex": null,
            "flex_flow": null,
            "grid_area": null,
            "grid_auto_columns": null,
            "grid_auto_flow": null,
            "grid_auto_rows": null,
            "grid_column": null,
            "grid_gap": null,
            "grid_row": null,
            "grid_template_areas": null,
            "grid_template_columns": null,
            "grid_template_rows": null,
            "height": null,
            "justify_content": null,
            "justify_items": null,
            "left": null,
            "margin": null,
            "max_height": null,
            "max_width": null,
            "min_height": null,
            "min_width": null,
            "object_fit": null,
            "object_position": null,
            "order": null,
            "overflow": null,
            "overflow_x": null,
            "overflow_y": null,
            "padding": null,
            "right": null,
            "top": null,
            "visibility": null,
            "width": null
          }
        },
        "cb1e987eee084e8a91b48bb0d8a026ba": {
          "model_module": "@jupyter-widgets/base",
          "model_name": "LayoutModel",
          "model_module_version": "1.2.0",
          "state": {
            "_model_module": "@jupyter-widgets/base",
            "_model_module_version": "1.2.0",
            "_model_name": "LayoutModel",
            "_view_count": null,
            "_view_module": "@jupyter-widgets/base",
            "_view_module_version": "1.2.0",
            "_view_name": "LayoutView",
            "align_content": null,
            "align_items": null,
            "align_self": null,
            "border": null,
            "bottom": null,
            "display": null,
            "flex": null,
            "flex_flow": null,
            "grid_area": null,
            "grid_auto_columns": null,
            "grid_auto_flow": null,
            "grid_auto_rows": null,
            "grid_column": null,
            "grid_gap": null,
            "grid_row": null,
            "grid_template_areas": null,
            "grid_template_columns": null,
            "grid_template_rows": null,
            "height": null,
            "justify_content": null,
            "justify_items": null,
            "left": null,
            "margin": null,
            "max_height": null,
            "max_width": null,
            "min_height": null,
            "min_width": null,
            "object_fit": null,
            "object_position": null,
            "order": null,
            "overflow": null,
            "overflow_x": null,
            "overflow_y": null,
            "padding": null,
            "right": null,
            "top": null,
            "visibility": null,
            "width": null
          }
        },
        "3c3a2a3a1a0c44efad5ac791fde6d7e9": {
          "model_module": "@jupyter-widgets/controls",
          "model_name": "DescriptionStyleModel",
          "model_module_version": "1.5.0",
          "state": {
            "_model_module": "@jupyter-widgets/controls",
            "_model_module_version": "1.5.0",
            "_model_name": "DescriptionStyleModel",
            "_view_count": null,
            "_view_module": "@jupyter-widgets/base",
            "_view_module_version": "1.2.0",
            "_view_name": "StyleView",
            "description_width": ""
          }
        },
        "b6d8a4ad856747a7957f23543f469681": {
          "model_module": "@jupyter-widgets/base",
          "model_name": "LayoutModel",
          "model_module_version": "1.2.0",
          "state": {
            "_model_module": "@jupyter-widgets/base",
            "_model_module_version": "1.2.0",
            "_model_name": "LayoutModel",
            "_view_count": null,
            "_view_module": "@jupyter-widgets/base",
            "_view_module_version": "1.2.0",
            "_view_name": "LayoutView",
            "align_content": null,
            "align_items": null,
            "align_self": null,
            "border": null,
            "bottom": null,
            "display": null,
            "flex": null,
            "flex_flow": null,
            "grid_area": null,
            "grid_auto_columns": null,
            "grid_auto_flow": null,
            "grid_auto_rows": null,
            "grid_column": null,
            "grid_gap": null,
            "grid_row": null,
            "grid_template_areas": null,
            "grid_template_columns": null,
            "grid_template_rows": null,
            "height": null,
            "justify_content": null,
            "justify_items": null,
            "left": null,
            "margin": null,
            "max_height": null,
            "max_width": null,
            "min_height": null,
            "min_width": null,
            "object_fit": null,
            "object_position": null,
            "order": null,
            "overflow": null,
            "overflow_x": null,
            "overflow_y": null,
            "padding": null,
            "right": null,
            "top": null,
            "visibility": null,
            "width": null
          }
        },
        "9af0251223084cf9bb134deafa971248": {
          "model_module": "@jupyter-widgets/controls",
          "model_name": "ProgressStyleModel",
          "model_module_version": "1.5.0",
          "state": {
            "_model_module": "@jupyter-widgets/controls",
            "_model_module_version": "1.5.0",
            "_model_name": "ProgressStyleModel",
            "_view_count": null,
            "_view_module": "@jupyter-widgets/base",
            "_view_module_version": "1.2.0",
            "_view_name": "StyleView",
            "bar_color": null,
            "description_width": ""
          }
        },
        "e58917a5b22c4b40a3cdf8ca4de5d44d": {
          "model_module": "@jupyter-widgets/base",
          "model_name": "LayoutModel",
          "model_module_version": "1.2.0",
          "state": {
            "_model_module": "@jupyter-widgets/base",
            "_model_module_version": "1.2.0",
            "_model_name": "LayoutModel",
            "_view_count": null,
            "_view_module": "@jupyter-widgets/base",
            "_view_module_version": "1.2.0",
            "_view_name": "LayoutView",
            "align_content": null,
            "align_items": null,
            "align_self": null,
            "border": null,
            "bottom": null,
            "display": null,
            "flex": null,
            "flex_flow": null,
            "grid_area": null,
            "grid_auto_columns": null,
            "grid_auto_flow": null,
            "grid_auto_rows": null,
            "grid_column": null,
            "grid_gap": null,
            "grid_row": null,
            "grid_template_areas": null,
            "grid_template_columns": null,
            "grid_template_rows": null,
            "height": null,
            "justify_content": null,
            "justify_items": null,
            "left": null,
            "margin": null,
            "max_height": null,
            "max_width": null,
            "min_height": null,
            "min_width": null,
            "object_fit": null,
            "object_position": null,
            "order": null,
            "overflow": null,
            "overflow_x": null,
            "overflow_y": null,
            "padding": null,
            "right": null,
            "top": null,
            "visibility": null,
            "width": null
          }
        },
        "df937f80f6d84ac6a8f53f37f63f072a": {
          "model_module": "@jupyter-widgets/controls",
          "model_name": "DescriptionStyleModel",
          "model_module_version": "1.5.0",
          "state": {
            "_model_module": "@jupyter-widgets/controls",
            "_model_module_version": "1.5.0",
            "_model_name": "DescriptionStyleModel",
            "_view_count": null,
            "_view_module": "@jupyter-widgets/base",
            "_view_module_version": "1.2.0",
            "_view_name": "StyleView",
            "description_width": ""
          }
        },
        "28514c9cd56a4268b63d0ab2f80566d6": {
          "model_module": "@jupyter-widgets/controls",
          "model_name": "HBoxModel",
          "model_module_version": "1.5.0",
          "state": {
            "_dom_classes": [],
            "_model_module": "@jupyter-widgets/controls",
            "_model_module_version": "1.5.0",
            "_model_name": "HBoxModel",
            "_view_count": null,
            "_view_module": "@jupyter-widgets/controls",
            "_view_module_version": "1.5.0",
            "_view_name": "HBoxView",
            "box_style": "",
            "children": [
              "IPY_MODEL_a436e1f9d10347e9b857fadeecf0e349",
              "IPY_MODEL_19a32125414641cba72c4b176a84b718",
              "IPY_MODEL_6411615ee9ed434d910c296862bc6a30"
            ],
            "layout": "IPY_MODEL_84d8fa3447534b8f948463935f4e1138"
          }
        },
        "a436e1f9d10347e9b857fadeecf0e349": {
          "model_module": "@jupyter-widgets/controls",
          "model_name": "HTMLModel",
          "model_module_version": "1.5.0",
          "state": {
            "_dom_classes": [],
            "_model_module": "@jupyter-widgets/controls",
            "_model_module_version": "1.5.0",
            "_model_name": "HTMLModel",
            "_view_count": null,
            "_view_module": "@jupyter-widgets/controls",
            "_view_module_version": "1.5.0",
            "_view_name": "HTMLView",
            "description": "",
            "description_tooltip": null,
            "layout": "IPY_MODEL_7efeee51a6a8492a93ae413c89ba572c",
            "placeholder": "​",
            "style": "IPY_MODEL_aa9e04051d6740f9b68724c8af266996",
            "value": "vocab.txt: 100%"
          }
        },
        "19a32125414641cba72c4b176a84b718": {
          "model_module": "@jupyter-widgets/controls",
          "model_name": "FloatProgressModel",
          "model_module_version": "1.5.0",
          "state": {
            "_dom_classes": [],
            "_model_module": "@jupyter-widgets/controls",
            "_model_module_version": "1.5.0",
            "_model_name": "FloatProgressModel",
            "_view_count": null,
            "_view_module": "@jupyter-widgets/controls",
            "_view_module_version": "1.5.0",
            "_view_name": "ProgressView",
            "bar_style": "success",
            "description": "",
            "description_tooltip": null,
            "layout": "IPY_MODEL_6f39f2e687174c71b72041cb5804ece1",
            "max": 241082,
            "min": 0,
            "orientation": "horizontal",
            "style": "IPY_MODEL_384511d5fbb64fa39c03a9bb87e2fb23",
            "value": 241082
          }
        },
        "6411615ee9ed434d910c296862bc6a30": {
          "model_module": "@jupyter-widgets/controls",
          "model_name": "HTMLModel",
          "model_module_version": "1.5.0",
          "state": {
            "_dom_classes": [],
            "_model_module": "@jupyter-widgets/controls",
            "_model_module_version": "1.5.0",
            "_model_name": "HTMLModel",
            "_view_count": null,
            "_view_module": "@jupyter-widgets/controls",
            "_view_module_version": "1.5.0",
            "_view_name": "HTMLView",
            "description": "",
            "description_tooltip": null,
            "layout": "IPY_MODEL_eaf5a2d5c83b431e854136013efb5e0f",
            "placeholder": "​",
            "style": "IPY_MODEL_f088489aae7147d6a82d05f9ee01dbcb",
            "value": " 241k/241k [00:00&lt;00:00, 1.84MB/s]"
          }
        },
        "84d8fa3447534b8f948463935f4e1138": {
          "model_module": "@jupyter-widgets/base",
          "model_name": "LayoutModel",
          "model_module_version": "1.2.0",
          "state": {
            "_model_module": "@jupyter-widgets/base",
            "_model_module_version": "1.2.0",
            "_model_name": "LayoutModel",
            "_view_count": null,
            "_view_module": "@jupyter-widgets/base",
            "_view_module_version": "1.2.0",
            "_view_name": "LayoutView",
            "align_content": null,
            "align_items": null,
            "align_self": null,
            "border": null,
            "bottom": null,
            "display": null,
            "flex": null,
            "flex_flow": null,
            "grid_area": null,
            "grid_auto_columns": null,
            "grid_auto_flow": null,
            "grid_auto_rows": null,
            "grid_column": null,
            "grid_gap": null,
            "grid_row": null,
            "grid_template_areas": null,
            "grid_template_columns": null,
            "grid_template_rows": null,
            "height": null,
            "justify_content": null,
            "justify_items": null,
            "left": null,
            "margin": null,
            "max_height": null,
            "max_width": null,
            "min_height": null,
            "min_width": null,
            "object_fit": null,
            "object_position": null,
            "order": null,
            "overflow": null,
            "overflow_x": null,
            "overflow_y": null,
            "padding": null,
            "right": null,
            "top": null,
            "visibility": null,
            "width": null
          }
        },
        "7efeee51a6a8492a93ae413c89ba572c": {
          "model_module": "@jupyter-widgets/base",
          "model_name": "LayoutModel",
          "model_module_version": "1.2.0",
          "state": {
            "_model_module": "@jupyter-widgets/base",
            "_model_module_version": "1.2.0",
            "_model_name": "LayoutModel",
            "_view_count": null,
            "_view_module": "@jupyter-widgets/base",
            "_view_module_version": "1.2.0",
            "_view_name": "LayoutView",
            "align_content": null,
            "align_items": null,
            "align_self": null,
            "border": null,
            "bottom": null,
            "display": null,
            "flex": null,
            "flex_flow": null,
            "grid_area": null,
            "grid_auto_columns": null,
            "grid_auto_flow": null,
            "grid_auto_rows": null,
            "grid_column": null,
            "grid_gap": null,
            "grid_row": null,
            "grid_template_areas": null,
            "grid_template_columns": null,
            "grid_template_rows": null,
            "height": null,
            "justify_content": null,
            "justify_items": null,
            "left": null,
            "margin": null,
            "max_height": null,
            "max_width": null,
            "min_height": null,
            "min_width": null,
            "object_fit": null,
            "object_position": null,
            "order": null,
            "overflow": null,
            "overflow_x": null,
            "overflow_y": null,
            "padding": null,
            "right": null,
            "top": null,
            "visibility": null,
            "width": null
          }
        },
        "aa9e04051d6740f9b68724c8af266996": {
          "model_module": "@jupyter-widgets/controls",
          "model_name": "DescriptionStyleModel",
          "model_module_version": "1.5.0",
          "state": {
            "_model_module": "@jupyter-widgets/controls",
            "_model_module_version": "1.5.0",
            "_model_name": "DescriptionStyleModel",
            "_view_count": null,
            "_view_module": "@jupyter-widgets/base",
            "_view_module_version": "1.2.0",
            "_view_name": "StyleView",
            "description_width": ""
          }
        },
        "6f39f2e687174c71b72041cb5804ece1": {
          "model_module": "@jupyter-widgets/base",
          "model_name": "LayoutModel",
          "model_module_version": "1.2.0",
          "state": {
            "_model_module": "@jupyter-widgets/base",
            "_model_module_version": "1.2.0",
            "_model_name": "LayoutModel",
            "_view_count": null,
            "_view_module": "@jupyter-widgets/base",
            "_view_module_version": "1.2.0",
            "_view_name": "LayoutView",
            "align_content": null,
            "align_items": null,
            "align_self": null,
            "border": null,
            "bottom": null,
            "display": null,
            "flex": null,
            "flex_flow": null,
            "grid_area": null,
            "grid_auto_columns": null,
            "grid_auto_flow": null,
            "grid_auto_rows": null,
            "grid_column": null,
            "grid_gap": null,
            "grid_row": null,
            "grid_template_areas": null,
            "grid_template_columns": null,
            "grid_template_rows": null,
            "height": null,
            "justify_content": null,
            "justify_items": null,
            "left": null,
            "margin": null,
            "max_height": null,
            "max_width": null,
            "min_height": null,
            "min_width": null,
            "object_fit": null,
            "object_position": null,
            "order": null,
            "overflow": null,
            "overflow_x": null,
            "overflow_y": null,
            "padding": null,
            "right": null,
            "top": null,
            "visibility": null,
            "width": null
          }
        },
        "384511d5fbb64fa39c03a9bb87e2fb23": {
          "model_module": "@jupyter-widgets/controls",
          "model_name": "ProgressStyleModel",
          "model_module_version": "1.5.0",
          "state": {
            "_model_module": "@jupyter-widgets/controls",
            "_model_module_version": "1.5.0",
            "_model_name": "ProgressStyleModel",
            "_view_count": null,
            "_view_module": "@jupyter-widgets/base",
            "_view_module_version": "1.2.0",
            "_view_name": "StyleView",
            "bar_color": null,
            "description_width": ""
          }
        },
        "eaf5a2d5c83b431e854136013efb5e0f": {
          "model_module": "@jupyter-widgets/base",
          "model_name": "LayoutModel",
          "model_module_version": "1.2.0",
          "state": {
            "_model_module": "@jupyter-widgets/base",
            "_model_module_version": "1.2.0",
            "_model_name": "LayoutModel",
            "_view_count": null,
            "_view_module": "@jupyter-widgets/base",
            "_view_module_version": "1.2.0",
            "_view_name": "LayoutView",
            "align_content": null,
            "align_items": null,
            "align_self": null,
            "border": null,
            "bottom": null,
            "display": null,
            "flex": null,
            "flex_flow": null,
            "grid_area": null,
            "grid_auto_columns": null,
            "grid_auto_flow": null,
            "grid_auto_rows": null,
            "grid_column": null,
            "grid_gap": null,
            "grid_row": null,
            "grid_template_areas": null,
            "grid_template_columns": null,
            "grid_template_rows": null,
            "height": null,
            "justify_content": null,
            "justify_items": null,
            "left": null,
            "margin": null,
            "max_height": null,
            "max_width": null,
            "min_height": null,
            "min_width": null,
            "object_fit": null,
            "object_position": null,
            "order": null,
            "overflow": null,
            "overflow_x": null,
            "overflow_y": null,
            "padding": null,
            "right": null,
            "top": null,
            "visibility": null,
            "width": null
          }
        },
        "f088489aae7147d6a82d05f9ee01dbcb": {
          "model_module": "@jupyter-widgets/controls",
          "model_name": "DescriptionStyleModel",
          "model_module_version": "1.5.0",
          "state": {
            "_model_module": "@jupyter-widgets/controls",
            "_model_module_version": "1.5.0",
            "_model_name": "DescriptionStyleModel",
            "_view_count": null,
            "_view_module": "@jupyter-widgets/base",
            "_view_module_version": "1.2.0",
            "_view_name": "StyleView",
            "description_width": ""
          }
        },
        "c225d940c69e4cc1a719a7979e94e596": {
          "model_module": "@jupyter-widgets/controls",
          "model_name": "HBoxModel",
          "model_module_version": "1.5.0",
          "state": {
            "_dom_classes": [],
            "_model_module": "@jupyter-widgets/controls",
            "_model_module_version": "1.5.0",
            "_model_name": "HBoxModel",
            "_view_count": null,
            "_view_module": "@jupyter-widgets/controls",
            "_view_module_version": "1.5.0",
            "_view_name": "HBoxView",
            "box_style": "",
            "children": [
              "IPY_MODEL_4b20ab3b2d4d41feb64efc19710b8f4b",
              "IPY_MODEL_dd4731da68e14991bf79bd23cf5dbae4",
              "IPY_MODEL_0a4dee5aa51a4ba1b7207e0fe73b8b99"
            ],
            "layout": "IPY_MODEL_3f9387f639e64ffb98fc1bff6182036c"
          }
        },
        "4b20ab3b2d4d41feb64efc19710b8f4b": {
          "model_module": "@jupyter-widgets/controls",
          "model_name": "HTMLModel",
          "model_module_version": "1.5.0",
          "state": {
            "_dom_classes": [],
            "_model_module": "@jupyter-widgets/controls",
            "_model_module_version": "1.5.0",
            "_model_name": "HTMLModel",
            "_view_count": null,
            "_view_module": "@jupyter-widgets/controls",
            "_view_module_version": "1.5.0",
            "_view_name": "HTMLView",
            "description": "",
            "description_tooltip": null,
            "layout": "IPY_MODEL_75feca82de7e416a921c80bbd3f2de22",
            "placeholder": "​",
            "style": "IPY_MODEL_0b8e6ce8c71d4d2d8f8fe40f8e9bf249",
            "value": "special_tokens_map.json: 100%"
          }
        },
        "dd4731da68e14991bf79bd23cf5dbae4": {
          "model_module": "@jupyter-widgets/controls",
          "model_name": "FloatProgressModel",
          "model_module_version": "1.5.0",
          "state": {
            "_dom_classes": [],
            "_model_module": "@jupyter-widgets/controls",
            "_model_module_version": "1.5.0",
            "_model_name": "FloatProgressModel",
            "_view_count": null,
            "_view_module": "@jupyter-widgets/controls",
            "_view_module_version": "1.5.0",
            "_view_name": "ProgressView",
            "bar_style": "success",
            "description": "",
            "description_tooltip": null,
            "layout": "IPY_MODEL_72a3da22ade34c139c76d4e04a8e122a",
            "max": 112,
            "min": 0,
            "orientation": "horizontal",
            "style": "IPY_MODEL_be6271c9410b4bb294d0aeb4259861c6",
            "value": 112
          }
        },
        "0a4dee5aa51a4ba1b7207e0fe73b8b99": {
          "model_module": "@jupyter-widgets/controls",
          "model_name": "HTMLModel",
          "model_module_version": "1.5.0",
          "state": {
            "_dom_classes": [],
            "_model_module": "@jupyter-widgets/controls",
            "_model_module_version": "1.5.0",
            "_model_name": "HTMLModel",
            "_view_count": null,
            "_view_module": "@jupyter-widgets/controls",
            "_view_module_version": "1.5.0",
            "_view_name": "HTMLView",
            "description": "",
            "description_tooltip": null,
            "layout": "IPY_MODEL_a8cc7a45f0024cc7aeb5fa8d0e3afd3e",
            "placeholder": "​",
            "style": "IPY_MODEL_98464451081a46239c48e8cac00c5be0",
            "value": " 112/112 [00:00&lt;00:00, 6.91kB/s]"
          }
        },
        "3f9387f639e64ffb98fc1bff6182036c": {
          "model_module": "@jupyter-widgets/base",
          "model_name": "LayoutModel",
          "model_module_version": "1.2.0",
          "state": {
            "_model_module": "@jupyter-widgets/base",
            "_model_module_version": "1.2.0",
            "_model_name": "LayoutModel",
            "_view_count": null,
            "_view_module": "@jupyter-widgets/base",
            "_view_module_version": "1.2.0",
            "_view_name": "LayoutView",
            "align_content": null,
            "align_items": null,
            "align_self": null,
            "border": null,
            "bottom": null,
            "display": null,
            "flex": null,
            "flex_flow": null,
            "grid_area": null,
            "grid_auto_columns": null,
            "grid_auto_flow": null,
            "grid_auto_rows": null,
            "grid_column": null,
            "grid_gap": null,
            "grid_row": null,
            "grid_template_areas": null,
            "grid_template_columns": null,
            "grid_template_rows": null,
            "height": null,
            "justify_content": null,
            "justify_items": null,
            "left": null,
            "margin": null,
            "max_height": null,
            "max_width": null,
            "min_height": null,
            "min_width": null,
            "object_fit": null,
            "object_position": null,
            "order": null,
            "overflow": null,
            "overflow_x": null,
            "overflow_y": null,
            "padding": null,
            "right": null,
            "top": null,
            "visibility": null,
            "width": null
          }
        },
        "75feca82de7e416a921c80bbd3f2de22": {
          "model_module": "@jupyter-widgets/base",
          "model_name": "LayoutModel",
          "model_module_version": "1.2.0",
          "state": {
            "_model_module": "@jupyter-widgets/base",
            "_model_module_version": "1.2.0",
            "_model_name": "LayoutModel",
            "_view_count": null,
            "_view_module": "@jupyter-widgets/base",
            "_view_module_version": "1.2.0",
            "_view_name": "LayoutView",
            "align_content": null,
            "align_items": null,
            "align_self": null,
            "border": null,
            "bottom": null,
            "display": null,
            "flex": null,
            "flex_flow": null,
            "grid_area": null,
            "grid_auto_columns": null,
            "grid_auto_flow": null,
            "grid_auto_rows": null,
            "grid_column": null,
            "grid_gap": null,
            "grid_row": null,
            "grid_template_areas": null,
            "grid_template_columns": null,
            "grid_template_rows": null,
            "height": null,
            "justify_content": null,
            "justify_items": null,
            "left": null,
            "margin": null,
            "max_height": null,
            "max_width": null,
            "min_height": null,
            "min_width": null,
            "object_fit": null,
            "object_position": null,
            "order": null,
            "overflow": null,
            "overflow_x": null,
            "overflow_y": null,
            "padding": null,
            "right": null,
            "top": null,
            "visibility": null,
            "width": null
          }
        },
        "0b8e6ce8c71d4d2d8f8fe40f8e9bf249": {
          "model_module": "@jupyter-widgets/controls",
          "model_name": "DescriptionStyleModel",
          "model_module_version": "1.5.0",
          "state": {
            "_model_module": "@jupyter-widgets/controls",
            "_model_module_version": "1.5.0",
            "_model_name": "DescriptionStyleModel",
            "_view_count": null,
            "_view_module": "@jupyter-widgets/base",
            "_view_module_version": "1.2.0",
            "_view_name": "StyleView",
            "description_width": ""
          }
        },
        "72a3da22ade34c139c76d4e04a8e122a": {
          "model_module": "@jupyter-widgets/base",
          "model_name": "LayoutModel",
          "model_module_version": "1.2.0",
          "state": {
            "_model_module": "@jupyter-widgets/base",
            "_model_module_version": "1.2.0",
            "_model_name": "LayoutModel",
            "_view_count": null,
            "_view_module": "@jupyter-widgets/base",
            "_view_module_version": "1.2.0",
            "_view_name": "LayoutView",
            "align_content": null,
            "align_items": null,
            "align_self": null,
            "border": null,
            "bottom": null,
            "display": null,
            "flex": null,
            "flex_flow": null,
            "grid_area": null,
            "grid_auto_columns": null,
            "grid_auto_flow": null,
            "grid_auto_rows": null,
            "grid_column": null,
            "grid_gap": null,
            "grid_row": null,
            "grid_template_areas": null,
            "grid_template_columns": null,
            "grid_template_rows": null,
            "height": null,
            "justify_content": null,
            "justify_items": null,
            "left": null,
            "margin": null,
            "max_height": null,
            "max_width": null,
            "min_height": null,
            "min_width": null,
            "object_fit": null,
            "object_position": null,
            "order": null,
            "overflow": null,
            "overflow_x": null,
            "overflow_y": null,
            "padding": null,
            "right": null,
            "top": null,
            "visibility": null,
            "width": null
          }
        },
        "be6271c9410b4bb294d0aeb4259861c6": {
          "model_module": "@jupyter-widgets/controls",
          "model_name": "ProgressStyleModel",
          "model_module_version": "1.5.0",
          "state": {
            "_model_module": "@jupyter-widgets/controls",
            "_model_module_version": "1.5.0",
            "_model_name": "ProgressStyleModel",
            "_view_count": null,
            "_view_module": "@jupyter-widgets/base",
            "_view_module_version": "1.2.0",
            "_view_name": "StyleView",
            "bar_color": null,
            "description_width": ""
          }
        },
        "a8cc7a45f0024cc7aeb5fa8d0e3afd3e": {
          "model_module": "@jupyter-widgets/base",
          "model_name": "LayoutModel",
          "model_module_version": "1.2.0",
          "state": {
            "_model_module": "@jupyter-widgets/base",
            "_model_module_version": "1.2.0",
            "_model_name": "LayoutModel",
            "_view_count": null,
            "_view_module": "@jupyter-widgets/base",
            "_view_module_version": "1.2.0",
            "_view_name": "LayoutView",
            "align_content": null,
            "align_items": null,
            "align_self": null,
            "border": null,
            "bottom": null,
            "display": null,
            "flex": null,
            "flex_flow": null,
            "grid_area": null,
            "grid_auto_columns": null,
            "grid_auto_flow": null,
            "grid_auto_rows": null,
            "grid_column": null,
            "grid_gap": null,
            "grid_row": null,
            "grid_template_areas": null,
            "grid_template_columns": null,
            "grid_template_rows": null,
            "height": null,
            "justify_content": null,
            "justify_items": null,
            "left": null,
            "margin": null,
            "max_height": null,
            "max_width": null,
            "min_height": null,
            "min_width": null,
            "object_fit": null,
            "object_position": null,
            "order": null,
            "overflow": null,
            "overflow_x": null,
            "overflow_y": null,
            "padding": null,
            "right": null,
            "top": null,
            "visibility": null,
            "width": null
          }
        },
        "98464451081a46239c48e8cac00c5be0": {
          "model_module": "@jupyter-widgets/controls",
          "model_name": "DescriptionStyleModel",
          "model_module_version": "1.5.0",
          "state": {
            "_model_module": "@jupyter-widgets/controls",
            "_model_module_version": "1.5.0",
            "_model_name": "DescriptionStyleModel",
            "_view_count": null,
            "_view_module": "@jupyter-widgets/base",
            "_view_module_version": "1.2.0",
            "_view_name": "StyleView",
            "description_width": ""
          }
        },
        "102198385af8477a877385f6d5e096c0": {
          "model_module": "@jupyter-widgets/controls",
          "model_name": "HBoxModel",
          "model_module_version": "1.5.0",
          "state": {
            "_dom_classes": [],
            "_model_module": "@jupyter-widgets/controls",
            "_model_module_version": "1.5.0",
            "_model_name": "HBoxModel",
            "_view_count": null,
            "_view_module": "@jupyter-widgets/controls",
            "_view_module_version": "1.5.0",
            "_view_name": "HBoxView",
            "box_style": "",
            "children": [
              "IPY_MODEL_2e59e56227be415581f4c8581660d59b",
              "IPY_MODEL_73b5104f603448c28a8a89e25ab030b4",
              "IPY_MODEL_ba2f5d7689dc43a5866bff83b56ccf52"
            ],
            "layout": "IPY_MODEL_b8a7b589d5cb4f8fb81947d101dcc9ac"
          }
        },
        "2e59e56227be415581f4c8581660d59b": {
          "model_module": "@jupyter-widgets/controls",
          "model_name": "HTMLModel",
          "model_module_version": "1.5.0",
          "state": {
            "_dom_classes": [],
            "_model_module": "@jupyter-widgets/controls",
            "_model_module_version": "1.5.0",
            "_model_name": "HTMLModel",
            "_view_count": null,
            "_view_module": "@jupyter-widgets/controls",
            "_view_module_version": "1.5.0",
            "_view_name": "HTMLView",
            "description": "",
            "description_tooltip": null,
            "layout": "IPY_MODEL_9cc6cedd13fa466ea54ce7fcd720f4bf",
            "placeholder": "​",
            "style": "IPY_MODEL_4a792c23debc44f7a8f38df3085f332a",
            "value": "tokenizer.json: 100%"
          }
        },
        "73b5104f603448c28a8a89e25ab030b4": {
          "model_module": "@jupyter-widgets/controls",
          "model_name": "FloatProgressModel",
          "model_module_version": "1.5.0",
          "state": {
            "_dom_classes": [],
            "_model_module": "@jupyter-widgets/controls",
            "_model_module_version": "1.5.0",
            "_model_name": "FloatProgressModel",
            "_view_count": null,
            "_view_module": "@jupyter-widgets/controls",
            "_view_module_version": "1.5.0",
            "_view_name": "ProgressView",
            "bar_style": "success",
            "description": "",
            "description_tooltip": null,
            "layout": "IPY_MODEL_02bed9d75c454d3bbd7b5acf30e85b2b",
            "max": 468145,
            "min": 0,
            "orientation": "horizontal",
            "style": "IPY_MODEL_45ec23253b2e4dd9bde083dec8826763",
            "value": 468145
          }
        },
        "ba2f5d7689dc43a5866bff83b56ccf52": {
          "model_module": "@jupyter-widgets/controls",
          "model_name": "HTMLModel",
          "model_module_version": "1.5.0",
          "state": {
            "_dom_classes": [],
            "_model_module": "@jupyter-widgets/controls",
            "_model_module_version": "1.5.0",
            "_model_name": "HTMLModel",
            "_view_count": null,
            "_view_module": "@jupyter-widgets/controls",
            "_view_module_version": "1.5.0",
            "_view_name": "HTMLView",
            "description": "",
            "description_tooltip": null,
            "layout": "IPY_MODEL_59b3ccfb862847bc840b75f8af2b5395",
            "placeholder": "​",
            "style": "IPY_MODEL_20e7c81e975047ac97789a2c87af8fb3",
            "value": " 468k/468k [00:00&lt;00:00, 2.43MB/s]"
          }
        },
        "b8a7b589d5cb4f8fb81947d101dcc9ac": {
          "model_module": "@jupyter-widgets/base",
          "model_name": "LayoutModel",
          "model_module_version": "1.2.0",
          "state": {
            "_model_module": "@jupyter-widgets/base",
            "_model_module_version": "1.2.0",
            "_model_name": "LayoutModel",
            "_view_count": null,
            "_view_module": "@jupyter-widgets/base",
            "_view_module_version": "1.2.0",
            "_view_name": "LayoutView",
            "align_content": null,
            "align_items": null,
            "align_self": null,
            "border": null,
            "bottom": null,
            "display": null,
            "flex": null,
            "flex_flow": null,
            "grid_area": null,
            "grid_auto_columns": null,
            "grid_auto_flow": null,
            "grid_auto_rows": null,
            "grid_column": null,
            "grid_gap": null,
            "grid_row": null,
            "grid_template_areas": null,
            "grid_template_columns": null,
            "grid_template_rows": null,
            "height": null,
            "justify_content": null,
            "justify_items": null,
            "left": null,
            "margin": null,
            "max_height": null,
            "max_width": null,
            "min_height": null,
            "min_width": null,
            "object_fit": null,
            "object_position": null,
            "order": null,
            "overflow": null,
            "overflow_x": null,
            "overflow_y": null,
            "padding": null,
            "right": null,
            "top": null,
            "visibility": null,
            "width": null
          }
        },
        "9cc6cedd13fa466ea54ce7fcd720f4bf": {
          "model_module": "@jupyter-widgets/base",
          "model_name": "LayoutModel",
          "model_module_version": "1.2.0",
          "state": {
            "_model_module": "@jupyter-widgets/base",
            "_model_module_version": "1.2.0",
            "_model_name": "LayoutModel",
            "_view_count": null,
            "_view_module": "@jupyter-widgets/base",
            "_view_module_version": "1.2.0",
            "_view_name": "LayoutView",
            "align_content": null,
            "align_items": null,
            "align_self": null,
            "border": null,
            "bottom": null,
            "display": null,
            "flex": null,
            "flex_flow": null,
            "grid_area": null,
            "grid_auto_columns": null,
            "grid_auto_flow": null,
            "grid_auto_rows": null,
            "grid_column": null,
            "grid_gap": null,
            "grid_row": null,
            "grid_template_areas": null,
            "grid_template_columns": null,
            "grid_template_rows": null,
            "height": null,
            "justify_content": null,
            "justify_items": null,
            "left": null,
            "margin": null,
            "max_height": null,
            "max_width": null,
            "min_height": null,
            "min_width": null,
            "object_fit": null,
            "object_position": null,
            "order": null,
            "overflow": null,
            "overflow_x": null,
            "overflow_y": null,
            "padding": null,
            "right": null,
            "top": null,
            "visibility": null,
            "width": null
          }
        },
        "4a792c23debc44f7a8f38df3085f332a": {
          "model_module": "@jupyter-widgets/controls",
          "model_name": "DescriptionStyleModel",
          "model_module_version": "1.5.0",
          "state": {
            "_model_module": "@jupyter-widgets/controls",
            "_model_module_version": "1.5.0",
            "_model_name": "DescriptionStyleModel",
            "_view_count": null,
            "_view_module": "@jupyter-widgets/base",
            "_view_module_version": "1.2.0",
            "_view_name": "StyleView",
            "description_width": ""
          }
        },
        "02bed9d75c454d3bbd7b5acf30e85b2b": {
          "model_module": "@jupyter-widgets/base",
          "model_name": "LayoutModel",
          "model_module_version": "1.2.0",
          "state": {
            "_model_module": "@jupyter-widgets/base",
            "_model_module_version": "1.2.0",
            "_model_name": "LayoutModel",
            "_view_count": null,
            "_view_module": "@jupyter-widgets/base",
            "_view_module_version": "1.2.0",
            "_view_name": "LayoutView",
            "align_content": null,
            "align_items": null,
            "align_self": null,
            "border": null,
            "bottom": null,
            "display": null,
            "flex": null,
            "flex_flow": null,
            "grid_area": null,
            "grid_auto_columns": null,
            "grid_auto_flow": null,
            "grid_auto_rows": null,
            "grid_column": null,
            "grid_gap": null,
            "grid_row": null,
            "grid_template_areas": null,
            "grid_template_columns": null,
            "grid_template_rows": null,
            "height": null,
            "justify_content": null,
            "justify_items": null,
            "left": null,
            "margin": null,
            "max_height": null,
            "max_width": null,
            "min_height": null,
            "min_width": null,
            "object_fit": null,
            "object_position": null,
            "order": null,
            "overflow": null,
            "overflow_x": null,
            "overflow_y": null,
            "padding": null,
            "right": null,
            "top": null,
            "visibility": null,
            "width": null
          }
        },
        "45ec23253b2e4dd9bde083dec8826763": {
          "model_module": "@jupyter-widgets/controls",
          "model_name": "ProgressStyleModel",
          "model_module_version": "1.5.0",
          "state": {
            "_model_module": "@jupyter-widgets/controls",
            "_model_module_version": "1.5.0",
            "_model_name": "ProgressStyleModel",
            "_view_count": null,
            "_view_module": "@jupyter-widgets/base",
            "_view_module_version": "1.2.0",
            "_view_name": "StyleView",
            "bar_color": null,
            "description_width": ""
          }
        },
        "59b3ccfb862847bc840b75f8af2b5395": {
          "model_module": "@jupyter-widgets/base",
          "model_name": "LayoutModel",
          "model_module_version": "1.2.0",
          "state": {
            "_model_module": "@jupyter-widgets/base",
            "_model_module_version": "1.2.0",
            "_model_name": "LayoutModel",
            "_view_count": null,
            "_view_module": "@jupyter-widgets/base",
            "_view_module_version": "1.2.0",
            "_view_name": "LayoutView",
            "align_content": null,
            "align_items": null,
            "align_self": null,
            "border": null,
            "bottom": null,
            "display": null,
            "flex": null,
            "flex_flow": null,
            "grid_area": null,
            "grid_auto_columns": null,
            "grid_auto_flow": null,
            "grid_auto_rows": null,
            "grid_column": null,
            "grid_gap": null,
            "grid_row": null,
            "grid_template_areas": null,
            "grid_template_columns": null,
            "grid_template_rows": null,
            "height": null,
            "justify_content": null,
            "justify_items": null,
            "left": null,
            "margin": null,
            "max_height": null,
            "max_width": null,
            "min_height": null,
            "min_width": null,
            "object_fit": null,
            "object_position": null,
            "order": null,
            "overflow": null,
            "overflow_x": null,
            "overflow_y": null,
            "padding": null,
            "right": null,
            "top": null,
            "visibility": null,
            "width": null
          }
        },
        "20e7c81e975047ac97789a2c87af8fb3": {
          "model_module": "@jupyter-widgets/controls",
          "model_name": "DescriptionStyleModel",
          "model_module_version": "1.5.0",
          "state": {
            "_model_module": "@jupyter-widgets/controls",
            "_model_module_version": "1.5.0",
            "_model_name": "DescriptionStyleModel",
            "_view_count": null,
            "_view_module": "@jupyter-widgets/base",
            "_view_module_version": "1.2.0",
            "_view_name": "StyleView",
            "description_width": ""
          }
        }
      }
    }
  },
  "nbformat_minor": 0,
  "nbformat": 4,
  "cells": [
    {
      "cell_type": "markdown",
      "source": [
        "#**Классификация текста при помощи нейросетей**"
      ],
      "metadata": {
        "id": "epx3AVAApCEo"
      }
    },
    {
      "cell_type": "markdown",
      "source": [
        "#Название проекта:\n",
        "**Разработка системы распознавания русскоязычного текста, сгенерированного LLM**\n",
        "\n",
        "Область для которой будет реализован проект искусственного интеллекта и машинного обучения – образование.\n",
        "\n",
        "**Актуальность** данной задачи обусловлена тем, что существующие в настоящее время популярные сервисы антиплагиата очень плохо  распознают сгенерированный русскоязычный текст.\n",
        "\n",
        "**Цели проекта**\n",
        "1.\tВыявление отличий  в статистических  характеристиках русскоязычного текста написанного человеком,  и текста сгенерированного большими языковыми моделями.\n",
        "\n",
        "2.\tСоздание системы распознавания русскоязычного текста сгенерированного большими языковыми моделями."
      ],
      "metadata": {
        "id": "Wu5j2I3hdKll"
      }
    },
    {
      "cell_type": "markdown",
      "source": [
        "**В качестве данных взяты**  \n",
        "\n",
        "50 дипломных работ студентов специальности 09.02.07 \"Информационные системы\" объемом 40 – 50стр. выполненных в 2019 - 2020 гг. , и 50 дипломных работ студентов той же специальности объемом 40 – 50стр,  выполненных в 2024г."
      ],
      "metadata": {
        "id": "zcYlfc7DdbKB"
      }
    },
    {
      "cell_type": "markdown",
      "source": [
        "##В основном датасете присутствуют следующие столбцы\n",
        "\n",
        "**file_number**\t- номер файла (1 - 100) Каждый файл представляет собой документ (дипломную работу студента в формате txt, очищенную от фрагментов программного кода и с удаленным экономическим разделом.)\n",
        "\n",
        "**paragraph_number**\t- номер абзаца в документе\n",
        "\n",
        "**content**\t- содержимое абзаца\n",
        "\n",
        "**label** - метка класса\n",
        "\n",
        "(0 - работа за 2019-2020гг.\n",
        "\n",
        "1 - работа за 2024 г.)"
      ],
      "metadata": {
        "id": "onjXXhddeKco"
      }
    },
    {
      "cell_type": "markdown",
      "source": [
        "## Работа с задачей естественного языка\n",
        "--------\n",
        "\n",
        "Будем работать следующим образом:\n",
        "\n",
        "1. Классификация текста с помощью LSTM\n",
        "2. Классификация текста с помощью предобученной на данных русскоязычных твитов модели BERT"
      ],
      "metadata": {
        "id": "rXdm3SQvc3Jk"
      }
    },
    {
      "cell_type": "code",
      "source": [
        "!pip -q install pymorphy2\n",
        "!pip -q install sentencepiece\n",
        "!pip -q install transformers"
      ],
      "metadata": {
        "id": "MKvGWiticcg7",
        "execution": {
          "iopub.status.busy": "2024-08-31T10:02:41.167480Z",
          "iopub.execute_input": "2024-08-31T10:02:41.167861Z",
          "iopub.status.idle": "2024-08-31T10:03:24.391143Z",
          "shell.execute_reply.started": "2024-08-31T10:02:41.167822Z",
          "shell.execute_reply": "2024-08-31T10:03:24.389804Z"
        },
        "trusted": true,
        "colab": {
          "base_uri": "https://localhost:8080/"
        },
        "outputId": "10b36dc0-ee7d-4ad0-f753-b2a5cce731cc"
      },
      "execution_count": null,
      "outputs": [
        {
          "output_type": "stream",
          "name": "stdout",
          "text": [
            "  Preparing metadata (setup.py) ... \u001b[?25l\u001b[?25hdone\n",
            "\u001b[?25l   \u001b[90m━━━━━━━━━━━━━━━━━━━━━━━━━━━━━━━━━━━━━━━━\u001b[0m \u001b[32m0.0/55.5 kB\u001b[0m \u001b[31m?\u001b[0m eta \u001b[36m-:--:--\u001b[0m\r\u001b[2K   \u001b[90m━━━━━━━━━━━━━━━━━━━━━━━━━━━━━━━━━━━━━━━━\u001b[0m \u001b[32m55.5/55.5 kB\u001b[0m \u001b[31m1.8 MB/s\u001b[0m eta \u001b[36m0:00:00\u001b[0m\n",
            "\u001b[?25h\u001b[?25l   \u001b[90m━━━━━━━━━━━━━━━━━━━━━━━━━━━━━━━━━━━━━━━━\u001b[0m \u001b[32m0.0/8.2 MB\u001b[0m \u001b[31m?\u001b[0m eta \u001b[36m-:--:--\u001b[0m\r\u001b[2K   \u001b[91m━━━━━━━━━━━\u001b[0m\u001b[91m╸\u001b[0m\u001b[90m━━━━━━━━━━━━━━━━━━━━━━━━━━━━\u001b[0m \u001b[32m2.4/8.2 MB\u001b[0m \u001b[31m71.9 MB/s\u001b[0m eta \u001b[36m0:00:01\u001b[0m\r\u001b[2K   \u001b[91m━━━━━━━━━━━━━━━━━━━━━━━━━━━\u001b[0m\u001b[91m╸\u001b[0m\u001b[90m━━━━━━━━━━━━\u001b[0m \u001b[32m5.7/8.2 MB\u001b[0m \u001b[31m83.1 MB/s\u001b[0m eta \u001b[36m0:00:01\u001b[0m\r\u001b[2K   \u001b[91m━━━━━━━━━━━━━━━━━━━━━━━━━━━━━━━━━━━━━━━\u001b[0m\u001b[91m╸\u001b[0m \u001b[32m8.2/8.2 MB\u001b[0m \u001b[31m92.1 MB/s\u001b[0m eta \u001b[36m0:00:01\u001b[0m\r\u001b[2K   \u001b[90m━━━━━━━━━━━━━━━━━━━━━━━━━━━━━━━━━━━━━━━━\u001b[0m \u001b[32m8.2/8.2 MB\u001b[0m \u001b[31m60.6 MB/s\u001b[0m eta \u001b[36m0:00:00\u001b[0m\n",
            "\u001b[?25h  Building wheel for docopt (setup.py) ... \u001b[?25l\u001b[?25hdone\n"
          ]
        }
      ]
    },
    {
      "cell_type": "code",
      "source": [
        "!pip install --upgrade gdown"
      ],
      "metadata": {
        "execution": {
          "iopub.status.busy": "2024-08-31T10:05:15.141430Z",
          "iopub.execute_input": "2024-08-31T10:05:15.141831Z",
          "iopub.status.idle": "2024-08-31T10:05:28.813534Z",
          "shell.execute_reply.started": "2024-08-31T10:05:15.141796Z",
          "shell.execute_reply": "2024-08-31T10:05:28.812532Z"
        },
        "trusted": true,
        "id": "qGWPC_LMASKX",
        "outputId": "efbcb187-8f5a-477b-86fb-1fc2663b4dbc"
      },
      "execution_count": null,
      "outputs": [
        {
          "name": "stdout",
          "text": "Collecting gdown\n  Downloading gdown-5.2.0-py3-none-any.whl.metadata (5.8 kB)\nRequirement already satisfied: beautifulsoup4 in /opt/conda/lib/python3.10/site-packages (from gdown) (4.12.3)\nRequirement already satisfied: filelock in /opt/conda/lib/python3.10/site-packages (from gdown) (3.15.1)\nRequirement already satisfied: requests[socks] in /opt/conda/lib/python3.10/site-packages (from gdown) (2.32.3)\nRequirement already satisfied: tqdm in /opt/conda/lib/python3.10/site-packages (from gdown) (4.66.4)\nRequirement already satisfied: soupsieve>1.2 in /opt/conda/lib/python3.10/site-packages (from beautifulsoup4->gdown) (2.5)\nRequirement already satisfied: charset-normalizer<4,>=2 in /opt/conda/lib/python3.10/site-packages (from requests[socks]->gdown) (3.3.2)\nRequirement already satisfied: idna<4,>=2.5 in /opt/conda/lib/python3.10/site-packages (from requests[socks]->gdown) (3.7)\nRequirement already satisfied: urllib3<3,>=1.21.1 in /opt/conda/lib/python3.10/site-packages (from requests[socks]->gdown) (1.26.18)\nRequirement already satisfied: certifi>=2017.4.17 in /opt/conda/lib/python3.10/site-packages (from requests[socks]->gdown) (2024.7.4)\nRequirement already satisfied: PySocks!=1.5.7,>=1.5.6 in /opt/conda/lib/python3.10/site-packages (from requests[socks]->gdown) (1.7.1)\nDownloading gdown-5.2.0-py3-none-any.whl (18 kB)\nInstalling collected packages: gdown\nSuccessfully installed gdown-5.2.0\n",
          "output_type": "stream"
        }
      ]
    },
    {
      "cell_type": "code",
      "source": [
        "!gdown 1kD5QBEvBQCGaAzsYskIBCDo9sOeCwqKP  #bert_dataset.py\n",
        "!gdown 1N_eGBLKUuGzlL5dLzQvC4UfcZdZXf6eS  #bert_classifier.py"
      ],
      "metadata": {
        "id": "xhJCLsyIecjX",
        "execution": {
          "iopub.status.busy": "2024-08-31T10:05:36.882357Z",
          "iopub.execute_input": "2024-08-31T10:05:36.882764Z",
          "iopub.status.idle": "2024-08-31T10:05:48.125972Z",
          "shell.execute_reply.started": "2024-08-31T10:05:36.882721Z",
          "shell.execute_reply": "2024-08-31T10:05:48.124891Z"
        },
        "trusted": true,
        "colab": {
          "base_uri": "https://localhost:8080/"
        },
        "outputId": "68086fff-2243-4e1a-c314-18f0b3a39cfc"
      },
      "execution_count": null,
      "outputs": [
        {
          "output_type": "stream",
          "name": "stdout",
          "text": [
            "Downloading...\n",
            "From (original): https://drive.google.com/uc?id=1kD5QBEvBQCGaAzsYskIBCDo9sOeCwqKP\n",
            "From (redirected): https://drive.google.com/uc?id=1kD5QBEvBQCGaAzsYskIBCDo9sOeCwqKP&confirm=t&uuid=55181428-99fe-4e31-92ab-950c212e92e7\n",
            "To: /content/bert_dataset.py\n",
            "100% 891/891 [00:00<00:00, 4.12MB/s]\n",
            "Downloading...\n",
            "From (original): https://drive.google.com/uc?id=1N_eGBLKUuGzlL5dLzQvC4UfcZdZXf6eS\n",
            "From (redirected): https://drive.google.com/uc?id=1N_eGBLKUuGzlL5dLzQvC4UfcZdZXf6eS&confirm=t&uuid=d99d581f-3abc-4a84-b3e2-7c586b2c8eed\n",
            "To: /content/bert_classifier.py\n",
            "100% 5.28k/5.28k [00:00<00:00, 18.3MB/s]\n"
          ]
        }
      ]
    },
    {
      "cell_type": "code",
      "source": [
        "# основные по работе с данными (таблицы, математика)\n",
        "import pandas as pd\n",
        "import numpy as np"
      ],
      "metadata": {
        "id": "dfVe7n44ejoT",
        "execution": {
          "iopub.status.busy": "2024-08-31T10:05:56.538591Z",
          "iopub.execute_input": "2024-08-31T10:05:56.539515Z",
          "iopub.status.idle": "2024-08-31T10:05:56.934856Z",
          "shell.execute_reply.started": "2024-08-31T10:05:56.539471Z",
          "shell.execute_reply": "2024-08-31T10:05:56.933879Z"
        },
        "trusted": true
      },
      "execution_count": null,
      "outputs": []
    },
    {
      "cell_type": "code",
      "source": [
        "# модели\n",
        "import sklearn"
      ],
      "metadata": {
        "id": "w9Octb7Q25Y-",
        "execution": {
          "iopub.status.busy": "2024-08-31T10:06:01.186258Z",
          "iopub.execute_input": "2024-08-31T10:06:01.186804Z",
          "iopub.status.idle": "2024-08-31T10:06:01.674157Z",
          "shell.execute_reply.started": "2024-08-31T10:06:01.186761Z",
          "shell.execute_reply": "2024-08-31T10:06:01.673212Z"
        },
        "trusted": true
      },
      "execution_count": null,
      "outputs": []
    },
    {
      "cell_type": "code",
      "source": [
        "from sklearn.model_selection import train_test_split"
      ],
      "metadata": {
        "id": "uNT426SKdH-y"
      },
      "execution_count": null,
      "outputs": []
    },
    {
      "cell_type": "code",
      "source": [
        "!pip -q install keras --upgrade"
      ],
      "metadata": {
        "id": "r-gfwEYJetVJ",
        "execution": {
          "iopub.status.busy": "2024-08-31T10:06:07.050697Z",
          "iopub.execute_input": "2024-08-31T10:06:07.051545Z",
          "iopub.status.idle": "2024-08-31T10:06:22.673029Z",
          "shell.execute_reply.started": "2024-08-31T10:06:07.051501Z",
          "shell.execute_reply": "2024-08-31T10:06:22.671758Z"
        },
        "trusted": true,
        "colab": {
          "base_uri": "https://localhost:8080/"
        },
        "outputId": "7952707b-2c00-461a-aff8-06c3c7045c0b"
      },
      "execution_count": null,
      "outputs": [
        {
          "output_type": "stream",
          "name": "stdout",
          "text": [
            "\u001b[?25l   \u001b[90m━━━━━━━━━━━━━━━━━━━━━━━━━━━━━━━━━━━━━━━━\u001b[0m \u001b[32m0.0/1.1 MB\u001b[0m \u001b[31m?\u001b[0m eta \u001b[36m-:--:--\u001b[0m\r\u001b[2K   \u001b[91m━━━━━━━━━━━━━━━━━━━━\u001b[0m\u001b[91m╸\u001b[0m\u001b[90m━━━━━━━━━━━━━━━━━━━\u001b[0m \u001b[32m0.6/1.1 MB\u001b[0m \u001b[31m18.3 MB/s\u001b[0m eta \u001b[36m0:00:01\u001b[0m\r\u001b[2K   \u001b[90m━━━━━━━━━━━━━━━━━━━━━━━━━━━━━━━━━━━━━━━━\u001b[0m \u001b[32m1.1/1.1 MB\u001b[0m \u001b[31m19.8 MB/s\u001b[0m eta \u001b[36m0:00:00\u001b[0m\n",
            "\u001b[?25h"
          ]
        }
      ]
    },
    {
      "cell_type": "code",
      "source": [
        "from wordcloud import WordCloud, STOPWORDS, ImageColorGenerator\n",
        "import tensorflow as tf\n",
        "from tensorflow.keras.preprocessing.text import Tokenizer\n",
        "from tensorflow.keras.preprocessing.sequence import pad_sequences\n",
        "from tensorflow import keras\n",
        "#from keras.preprocessing.text import Tokenizer\n",
        "#from keras.preprocessing.sequence import pad_sequences\n",
        "from keras.callbacks import EarlyStopping\n",
        "from keras.models import Sequential\n",
        "from keras.layers import LSTM, GRU, Dense, Embedding, Dropout, GlobalAveragePooling1D, Flatten, SpatialDropout1D, Bidirectional"
      ],
      "metadata": {
        "id": "_MbyRhzEg2G0",
        "execution": {
          "iopub.status.busy": "2024-08-31T10:07:57.683328Z",
          "iopub.execute_input": "2024-08-31T10:07:57.683777Z",
          "iopub.status.idle": "2024-08-31T10:08:03.288908Z",
          "shell.execute_reply.started": "2024-08-31T10:07:57.683734Z",
          "shell.execute_reply": "2024-08-31T10:08:03.288027Z"
        },
        "trusted": true
      },
      "execution_count": null,
      "outputs": []
    },
    {
      "cell_type": "markdown",
      "source": [
        "Датасет с очищенным текстом"
      ],
      "metadata": {
        "id": "w1FGvdsVySw7"
      }
    },
    {
      "cell_type": "code",
      "source": [
        "!gdown 11KFmtEdK_h1S5RyfRfHSp4fJBDEyo0NI"
      ],
      "metadata": {
        "id": "QMMB0cbPhEMd",
        "execution": {
          "iopub.status.busy": "2024-08-31T10:08:15.633841Z",
          "iopub.execute_input": "2024-08-31T10:08:15.634834Z",
          "iopub.status.idle": "2024-08-31T10:08:20.820447Z",
          "shell.execute_reply.started": "2024-08-31T10:08:15.634791Z",
          "shell.execute_reply": "2024-08-31T10:08:20.819131Z"
        },
        "trusted": true,
        "colab": {
          "base_uri": "https://localhost:8080/"
        },
        "outputId": "e69fb7f7-2dc3-4a12-862a-af3c40de655e"
      },
      "execution_count": null,
      "outputs": [
        {
          "output_type": "stream",
          "name": "stdout",
          "text": [
            "Downloading...\n",
            "From: https://drive.google.com/uc?id=11KFmtEdK_h1S5RyfRfHSp4fJBDEyo0NI\n",
            "To: /content/clean_df.csv\n",
            "100% 6.87M/6.87M [00:00<00:00, 28.5MB/s]\n"
          ]
        }
      ]
    },
    {
      "cell_type": "markdown",
      "source": [
        "Датасет с исходным текстом"
      ],
      "metadata": {
        "id": "OdkwE_k4yZDb"
      }
    },
    {
      "cell_type": "code",
      "source": [
        "!gdown 1-gq9OHKFFzpWKh9enhdPw6Cjcef7vMFr"
      ],
      "metadata": {
        "id": "mOHZPCqjyP0y",
        "execution": {
          "iopub.status.busy": "2024-08-31T10:08:30.713418Z",
          "iopub.execute_input": "2024-08-31T10:08:30.713837Z",
          "iopub.status.idle": "2024-08-31T10:08:36.307450Z",
          "shell.execute_reply.started": "2024-08-31T10:08:30.713801Z",
          "shell.execute_reply": "2024-08-31T10:08:36.306258Z"
        },
        "trusted": true,
        "outputId": "0e2247d1-8b6f-4ab6-a345-569a20937686"
      },
      "execution_count": null,
      "outputs": [
        {
          "name": "stdout",
          "text": "Downloading...\nFrom: https://drive.google.com/uc?id=1-gq9OHKFFzpWKh9enhdPw6Cjcef7vMFr\nTo: /kaggle/working/ish_df.csv\n100%|██████████████████████████████████████| 7.91M/7.91M [00:00<00:00, 31.5MB/s]\n",
          "output_type": "stream"
        }
      ]
    },
    {
      "cell_type": "code",
      "source": [
        "df = pd.read_csv('clean_df.csv')"
      ],
      "metadata": {
        "id": "QlA5vxrMyu3H",
        "execution": {
          "iopub.status.busy": "2024-08-31T10:08:41.065383Z",
          "iopub.execute_input": "2024-08-31T10:08:41.065814Z",
          "iopub.status.idle": "2024-08-31T10:08:41.193985Z",
          "shell.execute_reply.started": "2024-08-31T10:08:41.065772Z",
          "shell.execute_reply": "2024-08-31T10:08:41.192989Z"
        },
        "trusted": true
      },
      "execution_count": null,
      "outputs": []
    },
    {
      "cell_type": "code",
      "source": [
        "df"
      ],
      "metadata": {
        "id": "K8gKbdiEzJfv",
        "execution": {
          "iopub.status.busy": "2024-08-31T10:08:45.560725Z",
          "iopub.execute_input": "2024-08-31T10:08:45.561078Z",
          "iopub.status.idle": "2024-08-31T10:08:45.587548Z",
          "shell.execute_reply.started": "2024-08-31T10:08:45.561046Z",
          "shell.execute_reply": "2024-08-31T10:08:45.586517Z"
        },
        "trusted": true,
        "colab": {
          "base_uri": "https://localhost:8080/",
          "height": 423
        },
        "outputId": "084a3e6b-0247-49db-c41b-0aadd77e94c7"
      },
      "execution_count": null,
      "outputs": [
        {
          "output_type": "execute_result",
          "data": {
            "text/plain": [
              "                                                   text  label\n",
              "0     введение цель выпускной квалификационный работ...      0\n",
              "1     работа представить ниже стоить считать предста...      0\n",
              "2     компьютерный игра правило игровой ситуация вос...      0\n",
              "3     сразу стоить отметить сегодняшний день существ...      0\n",
              "4     вовторое разработчик прекращать свой экспериме...      0\n",
              "...                                                 ...    ...\n",
              "5920  воздействие внешний условие превращаться орган...      1\n",
              "5921  современный настольный пк такой компонент прак...      1\n",
              "5922  стоимость такой услуга большой это безусловно ...      1\n",
              "5923  использовать пример разработка аналогичный сис...      1\n",
              "5924  это снизить риск утечка данные финансовый поте...      1\n",
              "\n",
              "[5925 rows x 2 columns]"
            ],
            "text/html": [
              "\n",
              "  <div id=\"df-347b89e3-a48d-4ed4-ae30-76780a01bd8b\" class=\"colab-df-container\">\n",
              "    <div>\n",
              "<style scoped>\n",
              "    .dataframe tbody tr th:only-of-type {\n",
              "        vertical-align: middle;\n",
              "    }\n",
              "\n",
              "    .dataframe tbody tr th {\n",
              "        vertical-align: top;\n",
              "    }\n",
              "\n",
              "    .dataframe thead th {\n",
              "        text-align: right;\n",
              "    }\n",
              "</style>\n",
              "<table border=\"1\" class=\"dataframe\">\n",
              "  <thead>\n",
              "    <tr style=\"text-align: right;\">\n",
              "      <th></th>\n",
              "      <th>text</th>\n",
              "      <th>label</th>\n",
              "    </tr>\n",
              "  </thead>\n",
              "  <tbody>\n",
              "    <tr>\n",
              "      <th>0</th>\n",
              "      <td>введение цель выпускной квалификационный работ...</td>\n",
              "      <td>0</td>\n",
              "    </tr>\n",
              "    <tr>\n",
              "      <th>1</th>\n",
              "      <td>работа представить ниже стоить считать предста...</td>\n",
              "      <td>0</td>\n",
              "    </tr>\n",
              "    <tr>\n",
              "      <th>2</th>\n",
              "      <td>компьютерный игра правило игровой ситуация вос...</td>\n",
              "      <td>0</td>\n",
              "    </tr>\n",
              "    <tr>\n",
              "      <th>3</th>\n",
              "      <td>сразу стоить отметить сегодняшний день существ...</td>\n",
              "      <td>0</td>\n",
              "    </tr>\n",
              "    <tr>\n",
              "      <th>4</th>\n",
              "      <td>вовторое разработчик прекращать свой экспериме...</td>\n",
              "      <td>0</td>\n",
              "    </tr>\n",
              "    <tr>\n",
              "      <th>...</th>\n",
              "      <td>...</td>\n",
              "      <td>...</td>\n",
              "    </tr>\n",
              "    <tr>\n",
              "      <th>5920</th>\n",
              "      <td>воздействие внешний условие превращаться орган...</td>\n",
              "      <td>1</td>\n",
              "    </tr>\n",
              "    <tr>\n",
              "      <th>5921</th>\n",
              "      <td>современный настольный пк такой компонент прак...</td>\n",
              "      <td>1</td>\n",
              "    </tr>\n",
              "    <tr>\n",
              "      <th>5922</th>\n",
              "      <td>стоимость такой услуга большой это безусловно ...</td>\n",
              "      <td>1</td>\n",
              "    </tr>\n",
              "    <tr>\n",
              "      <th>5923</th>\n",
              "      <td>использовать пример разработка аналогичный сис...</td>\n",
              "      <td>1</td>\n",
              "    </tr>\n",
              "    <tr>\n",
              "      <th>5924</th>\n",
              "      <td>это снизить риск утечка данные финансовый поте...</td>\n",
              "      <td>1</td>\n",
              "    </tr>\n",
              "  </tbody>\n",
              "</table>\n",
              "<p>5925 rows × 2 columns</p>\n",
              "</div>\n",
              "    <div class=\"colab-df-buttons\">\n",
              "\n",
              "  <div class=\"colab-df-container\">\n",
              "    <button class=\"colab-df-convert\" onclick=\"convertToInteractive('df-347b89e3-a48d-4ed4-ae30-76780a01bd8b')\"\n",
              "            title=\"Convert this dataframe to an interactive table.\"\n",
              "            style=\"display:none;\">\n",
              "\n",
              "  <svg xmlns=\"http://www.w3.org/2000/svg\" height=\"24px\" viewBox=\"0 -960 960 960\">\n",
              "    <path d=\"M120-120v-720h720v720H120Zm60-500h600v-160H180v160Zm220 220h160v-160H400v160Zm0 220h160v-160H400v160ZM180-400h160v-160H180v160Zm440 0h160v-160H620v160ZM180-180h160v-160H180v160Zm440 0h160v-160H620v160Z\"/>\n",
              "  </svg>\n",
              "    </button>\n",
              "\n",
              "  <style>\n",
              "    .colab-df-container {\n",
              "      display:flex;\n",
              "      gap: 12px;\n",
              "    }\n",
              "\n",
              "    .colab-df-convert {\n",
              "      background-color: #E8F0FE;\n",
              "      border: none;\n",
              "      border-radius: 50%;\n",
              "      cursor: pointer;\n",
              "      display: none;\n",
              "      fill: #1967D2;\n",
              "      height: 32px;\n",
              "      padding: 0 0 0 0;\n",
              "      width: 32px;\n",
              "    }\n",
              "\n",
              "    .colab-df-convert:hover {\n",
              "      background-color: #E2EBFA;\n",
              "      box-shadow: 0px 1px 2px rgba(60, 64, 67, 0.3), 0px 1px 3px 1px rgba(60, 64, 67, 0.15);\n",
              "      fill: #174EA6;\n",
              "    }\n",
              "\n",
              "    .colab-df-buttons div {\n",
              "      margin-bottom: 4px;\n",
              "    }\n",
              "\n",
              "    [theme=dark] .colab-df-convert {\n",
              "      background-color: #3B4455;\n",
              "      fill: #D2E3FC;\n",
              "    }\n",
              "\n",
              "    [theme=dark] .colab-df-convert:hover {\n",
              "      background-color: #434B5C;\n",
              "      box-shadow: 0px 1px 3px 1px rgba(0, 0, 0, 0.15);\n",
              "      filter: drop-shadow(0px 1px 2px rgba(0, 0, 0, 0.3));\n",
              "      fill: #FFFFFF;\n",
              "    }\n",
              "  </style>\n",
              "\n",
              "    <script>\n",
              "      const buttonEl =\n",
              "        document.querySelector('#df-347b89e3-a48d-4ed4-ae30-76780a01bd8b button.colab-df-convert');\n",
              "      buttonEl.style.display =\n",
              "        google.colab.kernel.accessAllowed ? 'block' : 'none';\n",
              "\n",
              "      async function convertToInteractive(key) {\n",
              "        const element = document.querySelector('#df-347b89e3-a48d-4ed4-ae30-76780a01bd8b');\n",
              "        const dataTable =\n",
              "          await google.colab.kernel.invokeFunction('convertToInteractive',\n",
              "                                                    [key], {});\n",
              "        if (!dataTable) return;\n",
              "\n",
              "        const docLinkHtml = 'Like what you see? Visit the ' +\n",
              "          '<a target=\"_blank\" href=https://colab.research.google.com/notebooks/data_table.ipynb>data table notebook</a>'\n",
              "          + ' to learn more about interactive tables.';\n",
              "        element.innerHTML = '';\n",
              "        dataTable['output_type'] = 'display_data';\n",
              "        await google.colab.output.renderOutput(dataTable, element);\n",
              "        const docLink = document.createElement('div');\n",
              "        docLink.innerHTML = docLinkHtml;\n",
              "        element.appendChild(docLink);\n",
              "      }\n",
              "    </script>\n",
              "  </div>\n",
              "\n",
              "\n",
              "<div id=\"df-a34589c8-0d42-4fc7-85b2-d1e118cf3180\">\n",
              "  <button class=\"colab-df-quickchart\" onclick=\"quickchart('df-a34589c8-0d42-4fc7-85b2-d1e118cf3180')\"\n",
              "            title=\"Suggest charts\"\n",
              "            style=\"display:none;\">\n",
              "\n",
              "<svg xmlns=\"http://www.w3.org/2000/svg\" height=\"24px\"viewBox=\"0 0 24 24\"\n",
              "     width=\"24px\">\n",
              "    <g>\n",
              "        <path d=\"M19 3H5c-1.1 0-2 .9-2 2v14c0 1.1.9 2 2 2h14c1.1 0 2-.9 2-2V5c0-1.1-.9-2-2-2zM9 17H7v-7h2v7zm4 0h-2V7h2v10zm4 0h-2v-4h2v4z\"/>\n",
              "    </g>\n",
              "</svg>\n",
              "  </button>\n",
              "\n",
              "<style>\n",
              "  .colab-df-quickchart {\n",
              "      --bg-color: #E8F0FE;\n",
              "      --fill-color: #1967D2;\n",
              "      --hover-bg-color: #E2EBFA;\n",
              "      --hover-fill-color: #174EA6;\n",
              "      --disabled-fill-color: #AAA;\n",
              "      --disabled-bg-color: #DDD;\n",
              "  }\n",
              "\n",
              "  [theme=dark] .colab-df-quickchart {\n",
              "      --bg-color: #3B4455;\n",
              "      --fill-color: #D2E3FC;\n",
              "      --hover-bg-color: #434B5C;\n",
              "      --hover-fill-color: #FFFFFF;\n",
              "      --disabled-bg-color: #3B4455;\n",
              "      --disabled-fill-color: #666;\n",
              "  }\n",
              "\n",
              "  .colab-df-quickchart {\n",
              "    background-color: var(--bg-color);\n",
              "    border: none;\n",
              "    border-radius: 50%;\n",
              "    cursor: pointer;\n",
              "    display: none;\n",
              "    fill: var(--fill-color);\n",
              "    height: 32px;\n",
              "    padding: 0;\n",
              "    width: 32px;\n",
              "  }\n",
              "\n",
              "  .colab-df-quickchart:hover {\n",
              "    background-color: var(--hover-bg-color);\n",
              "    box-shadow: 0 1px 2px rgba(60, 64, 67, 0.3), 0 1px 3px 1px rgba(60, 64, 67, 0.15);\n",
              "    fill: var(--button-hover-fill-color);\n",
              "  }\n",
              "\n",
              "  .colab-df-quickchart-complete:disabled,\n",
              "  .colab-df-quickchart-complete:disabled:hover {\n",
              "    background-color: var(--disabled-bg-color);\n",
              "    fill: var(--disabled-fill-color);\n",
              "    box-shadow: none;\n",
              "  }\n",
              "\n",
              "  .colab-df-spinner {\n",
              "    border: 2px solid var(--fill-color);\n",
              "    border-color: transparent;\n",
              "    border-bottom-color: var(--fill-color);\n",
              "    animation:\n",
              "      spin 1s steps(1) infinite;\n",
              "  }\n",
              "\n",
              "  @keyframes spin {\n",
              "    0% {\n",
              "      border-color: transparent;\n",
              "      border-bottom-color: var(--fill-color);\n",
              "      border-left-color: var(--fill-color);\n",
              "    }\n",
              "    20% {\n",
              "      border-color: transparent;\n",
              "      border-left-color: var(--fill-color);\n",
              "      border-top-color: var(--fill-color);\n",
              "    }\n",
              "    30% {\n",
              "      border-color: transparent;\n",
              "      border-left-color: var(--fill-color);\n",
              "      border-top-color: var(--fill-color);\n",
              "      border-right-color: var(--fill-color);\n",
              "    }\n",
              "    40% {\n",
              "      border-color: transparent;\n",
              "      border-right-color: var(--fill-color);\n",
              "      border-top-color: var(--fill-color);\n",
              "    }\n",
              "    60% {\n",
              "      border-color: transparent;\n",
              "      border-right-color: var(--fill-color);\n",
              "    }\n",
              "    80% {\n",
              "      border-color: transparent;\n",
              "      border-right-color: var(--fill-color);\n",
              "      border-bottom-color: var(--fill-color);\n",
              "    }\n",
              "    90% {\n",
              "      border-color: transparent;\n",
              "      border-bottom-color: var(--fill-color);\n",
              "    }\n",
              "  }\n",
              "</style>\n",
              "\n",
              "  <script>\n",
              "    async function quickchart(key) {\n",
              "      const quickchartButtonEl =\n",
              "        document.querySelector('#' + key + ' button');\n",
              "      quickchartButtonEl.disabled = true;  // To prevent multiple clicks.\n",
              "      quickchartButtonEl.classList.add('colab-df-spinner');\n",
              "      try {\n",
              "        const charts = await google.colab.kernel.invokeFunction(\n",
              "            'suggestCharts', [key], {});\n",
              "      } catch (error) {\n",
              "        console.error('Error during call to suggestCharts:', error);\n",
              "      }\n",
              "      quickchartButtonEl.classList.remove('colab-df-spinner');\n",
              "      quickchartButtonEl.classList.add('colab-df-quickchart-complete');\n",
              "    }\n",
              "    (() => {\n",
              "      let quickchartButtonEl =\n",
              "        document.querySelector('#df-a34589c8-0d42-4fc7-85b2-d1e118cf3180 button');\n",
              "      quickchartButtonEl.style.display =\n",
              "        google.colab.kernel.accessAllowed ? 'block' : 'none';\n",
              "    })();\n",
              "  </script>\n",
              "</div>\n",
              "    </div>\n",
              "  </div>\n"
            ],
            "application/vnd.google.colaboratory.intrinsic+json": {
              "type": "dataframe",
              "variable_name": "df",
              "summary": "{\n  \"name\": \"df\",\n  \"rows\": 5925,\n  \"fields\": [\n    {\n      \"column\": \"text\",\n      \"properties\": {\n        \"dtype\": \"string\",\n        \"num_unique_values\": 5857,\n        \"samples\": [\n          \"\\u0441\\u043e\\u0432\\u0440\\u0435\\u043c\\u0435\\u043d\\u043d\\u044b\\u0439 \\u0438\\u043d\\u0444\\u043e\\u0440\\u043c\\u0430\\u0446\\u0438\\u043e\\u043d\\u043d\\u044b\\u0439 \\u0441\\u0438\\u0441\\u0442\\u0435\\u043c\\u0430 \\u0442\\u0440\\u0435\\u0431\\u043e\\u0432\\u0430\\u0442\\u044c \\u043c\\u043e\\u0449\\u043d\\u044b\\u0439 \\u0441\\u0435\\u0440\\u0432\\u0435\\u0440 \\u0440\\u0430\\u0431\\u043e\\u0447\\u0438\\u0439 \\u0441\\u0442\\u0430\\u043d\\u0446\\u0438\\u044f \\u043a\\u043e\\u0442\\u043e\\u0440\\u044b\\u0439 \\u043d\\u0435\\u043e\\u0431\\u0445\\u043e\\u0434\\u0438\\u043c\\u043e \\u043f\\u0435\\u0440\\u0438\\u043e\\u0434\\u0438\\u0447\\u0435\\u0441\\u043a\\u0438 \\u043e\\u0431\\u043d\\u043e\\u0432\\u043b\\u044f\\u0442\\u044c \\u043f\\u043e\\u0434\\u0434\\u0435\\u0440\\u0436\\u0430\\u043d\\u0438\\u0435 \\u043f\\u0440\\u043e\\u0438\\u0437\\u0432\\u043e\\u0434\\u0438\\u0442\\u0435\\u043b\\u044c\\u043d\\u043e\\u0441\\u0442\\u044c \\u0431\\u0435\\u0437\\u043e\\u043f\\u0430\\u0441\\u043d\\u043e\\u0441\\u0442\\u044c \\u0441\\u0442\\u0430\\u0440\\u044b\\u0439 \\u0442\\u0435\\u0445\\u043d\\u0438\\u043a\\u0430 \\u043a\\u043e\\u0442\\u043e\\u0440\\u044b\\u0439 \\u0432\\u044b\\u0432\\u043e\\u0434\\u0438\\u0442\\u044c\\u0441\\u044f \\u044d\\u043a\\u0441\\u043f\\u043b\\u0443\\u0430\\u0442\\u0430\\u0446\\u0438\\u044f \\u0434\\u043e\\u043b\\u0436\\u043d\\u044b\\u0439 \\u0443\\u0442\\u0438\\u043b\\u0438\\u0437\\u0438\\u0440\\u043e\\u0432\\u0430\\u0442\\u044c\\u0441\\u044f \\u043f\\u0440\\u0430\\u0432\\u0438\\u043b\\u044c\\u043d\\u043e \\u043f\\u0440\\u043e\\u0446\\u0435\\u0441\\u0441 \\u0432\\u043a\\u043b\\u044e\\u0447\\u0430\\u0442\\u044c \\u043d\\u0435\\u0441\\u043a\\u043e\\u043b\\u044c\\u043a\\u043e \\u043a\\u043b\\u044e\\u0447\\u0435\\u0432\\u043e\\u0439 \\u044d\\u0442\\u0430\\u043f \\u0432\\u043e\\u043f\\u0435\\u0440\\u0432\\u043e\\u0435 \\u0434\\u0430\\u0442\\u044c \\u0443\\u0441\\u0442\\u0430\\u0440\\u0435\\u0432\\u0448\\u0438\\u0439 \\u0436\\u0451\\u0441\\u0442\\u043a\\u0438\\u0439 \\u0434\\u0438\\u0441\\u043a \\u0434\\u0440\\u0443\\u0433\\u043e\\u0439 \\u043d\\u043e\\u0441\\u0438\\u0442\\u0435\\u043b\\u044c \\u0438\\u043d\\u0444\\u043e\\u0440\\u043c\\u0430\\u0446\\u0438\\u044f \\u0434\\u043e\\u043b\\u0436\\u043d\\u044b\\u0439 \\u043d\\u0430\\u0434\\u0451\\u0436\\u043d\\u043e \\u0443\\u043d\\u0438\\u0447\\u0442\\u043e\\u0436\\u0438\\u0442\\u044c \\u043f\\u0440\\u0435\\u0434\\u043e\\u0442\\u0432\\u0440\\u0430\\u0442\\u0438\\u0442\\u044c \\u0443\\u0442\\u0435\\u0447\\u043a\\u0430 \\u043a\\u043e\\u043d\\u0444\\u0438\\u0434\\u0435\\u043d\\u0446\\u0438\\u0430\\u043b\\u044c\\u043d\\u044b\\u0439 \\u0438\\u043d\\u0444\\u043e\\u0440\\u043c\\u0430\\u0446\\u0438\\u044f \\u043f\\u0440\\u043e\\u0433\\u0440\\u0430\\u043c\\u043c\\u043d\\u044b\\u0439 \\u0441\\u0442\\u0438\\u0440\\u0430\\u043d\\u0438\\u0435 \\u0434\\u0430\\u043d\\u043d\\u044b\\u0435 \\u0432\\u043f\\u043e\\u043b\\u043d\\u0435 \\u0434\\u043e\\u043f\\u043e\\u043b\\u043d\\u0438\\u0442\\u044c \\u0444\\u0438\\u0437\\u0438\\u0447\\u0435\\u0441\\u043a\\u0438\\u0439 \\u0443\\u043d\\u0438\\u0447\\u0442\\u043e\\u0436\\u0435\\u043d\\u0438\\u0435 \\u043d\\u043e\\u0441\\u0438\\u0442\\u0435\\u043b\\u044c \\u044d\\u0442\\u043e \\u043d\\u0435\\u043e\\u0431\\u0445\\u043e\\u0434\\u0438\\u043c\\u043e\",\n          \"\\u0440\\u0438\\u0441\\u0443\\u043d\\u043e\\u043a 13 \\u043e\\u0431\\u043b\\u0430\\u0441\\u0442\\u044c \\u0434\\u0435\\u0442\\u0430\\u043b\\u044c\\u043d\\u044b\\u0439 \\u0438\\u043d\\u0444\\u043e\\u0440\\u043c\\u0430\\u0446\\u0438\\u044f \\u0442\\u0435\\u0441\\u0442\\u043e\\u0432\\u044b\\u0439 \\u0441\\u043b\\u0443\\u0447\\u0430\\u0439 \\u044d\\u043a\\u043e\\u043d\\u043e\\u043c\\u0438\\u0447\\u0435\\u0441\\u043a\\u0438\\u0439 \\u043e\\u0431\\u043e\\u0441\\u043d\\u043e\\u0432\\u0430\\u043d\\u0438\\u0435 \\u0440\\u0430\\u0431\\u043e\\u0442\\u0430 4 1 \\u043f\\u043b\\u0430\\u043d\\u0438\\u0440\\u043e\\u0432\\u0430\\u043d\\u0438\\u0435 \\u0440\\u0430\\u0431\\u043e\\u0442\\u0430 projectlibre \\u044f\\u0432\\u043b\\u044f\\u0442\\u044c\\u0441\\u044f \\u043e\\u0442\\u043a\\u0440\\u044b\\u0442\\u044b\\u0439 \\u0434\\u043e\\u0441\\u0442\\u0443\\u043f\\u043d\\u044b\\u0439 \\u0438\\u043d\\u0441\\u0442\\u0440\\u0443\\u043c\\u0435\\u043d\\u0442 \\u043a\\u043e\\u0442\\u043e\\u0440\\u044b\\u0439 \\u043e\\u0431\\u043b\\u0435\\u0433\\u0447\\u0430\\u0442\\u044c \\u043f\\u0440\\u043e\\u0446\\u0435\\u0441\\u0441 \\u0443\\u043f\\u0440\\u0430\\u0432\\u043b\\u0435\\u043d\\u0438\\u0435 \\u043f\\u0440\\u043e\\u0435\\u043a\\u0442 \\u043f\\u0440\\u0435\\u0434\\u043e\\u0441\\u0442\\u0430\\u0432\\u043b\\u044f\\u0442\\u044c \\u043f\\u0440\\u043e\\u0444\\u0435\\u0441\\u0441\\u0438\\u043e\\u043d\\u0430\\u043b\\u044c\\u043d\\u044b\\u0439 \\u0432\\u043e\\u0437\\u043c\\u043e\\u0436\\u043d\\u043e\\u0441\\u0442\\u044c \\u043a\\u043e\\u0442\\u043e\\u0440\\u044b\\u0439 \\u0434\\u043e\\u0441\\u0442\\u0443\\u043f\\u043d\\u044b\\u0439 \\u0434\\u043e\\u0440\\u043e\\u0433\\u043e\\u0441\\u0442\\u043e\\u044f\\u0449\\u0438\\u0439 \\u043f\\u0440\\u043e\\u0433\\u0440\\u0430\\u043c\\u043c\\u043d\\u044b\\u0439 \\u043e\\u0431\\u0435\\u0441\\u043f\\u0435\\u0447\\u0435\\u043d\\u0438\\u0435 \\u043e\\u0431\\u044a\\u0435\\u0434\\u0438\\u043d\\u044f\\u0442\\u044c \\u0444\\u0443\\u043d\\u043a\\u0446\\u0438\\u044f \\u043d\\u0435\\u043e\\u0431\\u0445\\u043e\\u0434\\u0438\\u043c\\u044b\\u0439 \\u044d\\u0444\\u0444\\u0435\\u043a\\u0442\\u0438\\u0432\\u043d\\u044b\\u0439 \\u043f\\u043b\\u0430\\u043d\\u0438\\u0440\\u043e\\u0432\\u0430\\u043d\\u0438\\u0435 \\u0432\\u044b\\u043f\\u043e\\u043b\\u043d\\u0435\\u043d\\u0438\\u0435 \\u043c\\u043e\\u043d\\u0438\\u0442\\u043e\\u0440\\u0438\\u043d\\u0433 \\u043f\\u0440\\u043e\\u0435\\u043a\\u0442 \\u0434\\u0435\\u043b\\u0430\\u0442\\u044c \\u0446\\u0435\\u043d\\u043d\\u044b\\u0439 \\u0440\\u0435\\u0441\\u0443\\u0440\\u0441 \\u043c\\u0435\\u043d\\u0435\\u0434\\u0436\\u0435\\u0440 \\u043f\\u0440\\u043e\\u0435\\u043a\\u0442 \\u0441\\u0430\\u043c\\u044b\\u0439 \\u0440\\u0430\\u0437\\u043d\\u044b\\u0439 \\u0441\\u0444\\u0435\\u0440\\u0430 \\u0434\\u0435\\u044f\\u0442\\u0435\\u043b\\u044c\\u043d\\u043e\\u0441\\u0442\\u044c \\u0441\\u0442\\u0440\\u043e\\u0438\\u0442\\u0435\\u043b\\u044c\\u0441\\u0442\\u0432\\u043e \\u0440\\u0430\\u0437\\u0440\\u0430\\u0431\\u043e\\u0442\\u043a\\u0430 \\u043f\\u0440\\u043e\\u0433\\u0440\\u0430\\u043c\\u043c\\u043d\\u044b\\u0439 \\u043e\\u0431\\u0435\\u0441\\u043f\\u0435\\u0447\\u0435\\u043d\\u0438\\u0435 \\u0441\\u0440\\u0435\\u0434\\u0438 \\u043a\\u043b\\u044e\\u0447\\u0435\\u0432\\u043e\\u0439 \\u0444\\u0443\\u043d\\u043a\\u0446\\u0438\\u044f projectlibre \\u0434\\u0438\\u0430\\u0433\\u0440\\u0430\\u043c\\u043c\\u0430 \\u0433\\u0430\\u043d\\u0442\\u0442\\u0430 \\u043a\\u043e\\u0442\\u043e\\u0440\\u044b\\u0439 \\u044f\\u0432\\u043b\\u044f\\u0442\\u044c\\u0441\\u044f \\u0441\\u0442\\u0430\\u043d\\u0434\\u0430\\u0440\\u0442 \\u0434\\u0435\\u0444\\u0430\\u043a\\u0442\\u043e \\u0432\\u0438\\u0437\\u0443\\u0430\\u043b\\u0438\\u0437\\u0430\\u0446\\u0438\\u044f \\u0433\\u0440\\u0430\\u0444\\u0438\\u043a\\u0430 \\u043f\\u0440\\u043e\\u0435\\u043a\\u0442 \\u043f\\u043e\\u0437\\u0432\\u043e\\u043b\\u044f\\u0442\\u044c \\u043f\\u043e\\u043b\\u044c\\u0437\\u043e\\u0432\\u0430\\u0442\\u0435\\u043b\\u044c \\u043d\\u0430\\u0433\\u043b\\u044f\\u0434\\u043d\\u043e \\u043e\\u0442\\u0441\\u043b\\u0435\\u0436\\u0438\\u0432\\u0430\\u0442\\u044c \\u043f\\u0440\\u043e\\u0433\\u0440\\u0435\\u0441\\u0441 \\u0437\\u0430\\u0434\\u0430\\u0447\\u0430 \\u0432\\u0437\\u0430\\u0438\\u043c\\u043e\\u0441\\u0432\\u044f\\u0437\\u044c \\u0442\\u0430\\u043a\\u0436\\u0435 \\u0443\\u0441\\u0442\\u0430\\u043d\\u0430\\u0432\\u043b\\u0438\\u0432\\u0430\\u0442\\u044c \\u0432\\u0435\\u0445\\u0430\",\n          \"\\u0441\\u043e\\u0437\\u0434\\u0430\\u0442\\u044c \\u043f\\u0440\\u0438\\u043b\\u043e\\u0436\\u0435\\u043d\\u0438\\u0435 \\u0438\\u0433\\u0440\\u0430 unity \\u0440\\u0430\\u0431\\u043e\\u0442\\u0430\\u0442\\u044c \\u0431\\u043e\\u043b\\u044c\\u0448\\u0438\\u043d\\u0441\\u0442\\u0432\\u043e \\u043e\\u043f\\u0435\\u0440\\u0430\\u0446\\u0438\\u043e\\u043d\\u043d\\u044b\\u0439 \\u0441\\u0438\\u0441\\u0442\\u0435\\u043c\\u0430 \\u0438\\u0433\\u0440\\u043e\\u0432\\u043e\\u0439 \\u0434\\u0432\\u0438\\u0436\\u043e\\u043a \\u0438\\u043c\\u0435\\u0442\\u044c \\u043f\\u0440\\u043e\\u0441\\u0442\\u043e\\u0439 dragdrop \\u0438\\u043d\\u0442\\u0435\\u0440\\u0444\\u0435\\u0439\\u0441 \\u043a\\u043e\\u0442\\u043e\\u0440\\u044b\\u0439 \\u043b\\u0435\\u0433\\u043a\\u043e \\u043d\\u0430\\u0441\\u0442\\u0440\\u043e\\u0438\\u0442\\u044c \\u0441\\u0432\\u043e\\u0439 \\u043d\\u0443\\u0436\\u0434\\u0430 \\u0441\\u043e\\u0441\\u0442\\u043e\\u044f\\u0442\\u044c \\u0440\\u0430\\u0437\\u043b\\u0438\\u0447\\u043d\\u044b\\u0439 \\u043e\\u043a\\u043d\\u043e \\u0431\\u043b\\u0430\\u0433\\u043e\\u0434\\u0430\\u0440\\u044f \\u0447\\u0442\\u043e \\u043e\\u0442\\u043b\\u0430\\u0434\\u043a\\u0430 \\u0438\\u0433\\u0440\\u0430 \\u043f\\u0440\\u043e\\u0438\\u0437\\u0432\\u043e\\u0434\\u0438\\u0442\\u044c \\u043f\\u0440\\u044f\\u043c\\u043e \\u0440\\u0435\\u0434\\u0430\\u043a\\u0442\\u043e\\u0440 \\u0434\\u0432\\u0438\\u0436\\u043e\\u043a \\u043f\\u043e\\u0434\\u0434\\u0435\\u0440\\u0436\\u0438\\u0432\\u0430\\u0442\\u044c \\u044f\\u0437\\u044b\\u043a \\u043f\\u0440\\u043e\\u0433\\u0440\\u0430\\u043c\\u043c\\u0438\\u0440\\u043e\\u0432\\u0430\\u043d\\u0438\\u0435 c javascript boo \\u0440\\u0430\\u0441\\u0447\\u0451\\u0442 \\u0444\\u0438\\u0437\\u0438\\u043a \\u043f\\u0440\\u043e\\u0432\\u043e\\u0434\\u0438\\u0442\\u044c\\u0441\\u044f \\u043f\\u043e\\u043c\\u043e\\u0449\\u044c \\u0442\\u0435\\u0445\\u043d\\u043e\\u043b\\u043e\\u0433\\u0438\\u044f physx \\u043a\\u043e\\u043c\\u043f\\u0430\\u043d\\u0438\\u044f nvidia\"\n        ],\n        \"semantic_type\": \"\",\n        \"description\": \"\"\n      }\n    },\n    {\n      \"column\": \"label\",\n      \"properties\": {\n        \"dtype\": \"number\",\n        \"std\": 0,\n        \"min\": 0,\n        \"max\": 1,\n        \"num_unique_values\": 2,\n        \"samples\": [\n          1,\n          0\n        ],\n        \"semantic_type\": \"\",\n        \"description\": \"\"\n      }\n    }\n  ]\n}"
            }
          },
          "metadata": {},
          "execution_count": 10
        }
      ]
    },
    {
      "cell_type": "markdown",
      "source": [
        "##  Классификация текста с помощью LSTM"
      ],
      "metadata": {
        "id": "g0itnAOLgJ2m"
      }
    },
    {
      "cell_type": "code",
      "source": [
        "df['text'] = df['text'].astype(str)"
      ],
      "metadata": {
        "id": "jZUr_mjJzK6o",
        "execution": {
          "iopub.status.busy": "2024-08-31T10:08:54.514492Z",
          "iopub.execute_input": "2024-08-31T10:08:54.514877Z",
          "iopub.status.idle": "2024-08-31T10:08:54.521219Z",
          "shell.execute_reply.started": "2024-08-31T10:08:54.514841Z",
          "shell.execute_reply": "2024-08-31T10:08:54.520104Z"
        },
        "trusted": true
      },
      "execution_count": null,
      "outputs": []
    },
    {
      "cell_type": "markdown",
      "source": [
        "Делим на train и test"
      ],
      "metadata": {
        "id": "HIdLzaMpf7V5"
      }
    },
    {
      "cell_type": "code",
      "source": [
        "TEST_SIZE = 0.25\n",
        "RANDOM_STATE = 1234\n",
        "\n",
        "x_train, x_test, y_train, y_test = train_test_split(df['text'], df['label'],\n",
        "                                                    test_size=TEST_SIZE, random_state=RANDOM_STATE)"
      ],
      "metadata": {
        "id": "g5uM9E_HzXD3",
        "execution": {
          "iopub.status.busy": "2024-08-31T10:10:31.487638Z",
          "iopub.execute_input": "2024-08-31T10:10:31.488043Z",
          "iopub.status.idle": "2024-08-31T10:10:31.500952Z",
          "shell.execute_reply.started": "2024-08-31T10:10:31.488003Z",
          "shell.execute_reply": "2024-08-31T10:10:31.500128Z"
        },
        "trusted": true
      },
      "execution_count": null,
      "outputs": []
    },
    {
      "cell_type": "code",
      "source": [
        "# Параметры препроцессинга\n",
        "max_len = 100 # размер вектора слов, 512\n",
        "trunc_type = 'post' # обрезка до вектора\n",
        "padding_type = 'post' # добавление до вектора\n",
        "oov_tok = '<OOV>' # нет в словаре\n",
        "vocab_size = 1500 # размер словаря (зависит от входа)"
      ],
      "metadata": {
        "id": "mxtfkLFjzga8",
        "execution": {
          "iopub.status.busy": "2024-08-31T10:10:41.482947Z",
          "iopub.execute_input": "2024-08-31T10:10:41.483361Z",
          "iopub.status.idle": "2024-08-31T10:10:41.488957Z",
          "shell.execute_reply.started": "2024-08-31T10:10:41.483323Z",
          "shell.execute_reply": "2024-08-31T10:10:41.487783Z"
        },
        "trusted": true
      },
      "execution_count": null,
      "outputs": []
    },
    {
      "cell_type": "code",
      "source": [
        "tokenizer = Tokenizer(num_words = vocab_size,\n",
        "                      char_level = False,\n",
        "                      oov_token = oov_tok)\n",
        "tokenizer.fit_on_texts(x_train)"
      ],
      "metadata": {
        "id": "0tZPACFpz31z",
        "execution": {
          "iopub.status.busy": "2024-08-31T10:10:46.073311Z",
          "iopub.execute_input": "2024-08-31T10:10:46.073782Z",
          "iopub.status.idle": "2024-08-31T10:10:46.674990Z",
          "shell.execute_reply.started": "2024-08-31T10:10:46.073745Z",
          "shell.execute_reply": "2024-08-31T10:10:46.674013Z"
        },
        "trusted": true
      },
      "execution_count": null,
      "outputs": []
    },
    {
      "cell_type": "code",
      "source": [
        "# Получить индекс слова\n",
        "word_index = tokenizer.word_index\n",
        "total_words = len(word_index)\n",
        "total_words"
      ],
      "metadata": {
        "id": "Jmkiq7YY0A7k",
        "execution": {
          "iopub.status.busy": "2024-08-31T10:10:53.104172Z",
          "iopub.execute_input": "2024-08-31T10:10:53.105078Z",
          "iopub.status.idle": "2024-08-31T10:10:53.111435Z",
          "shell.execute_reply.started": "2024-08-31T10:10:53.105038Z",
          "shell.execute_reply": "2024-08-31T10:10:53.110329Z"
        },
        "trusted": true,
        "colab": {
          "base_uri": "https://localhost:8080/"
        },
        "outputId": "1ef43a55-5e6d-4504-bc73-6fd81286e3f9"
      },
      "execution_count": null,
      "outputs": [
        {
          "output_type": "execute_result",
          "data": {
            "text/plain": [
              "15681"
            ]
          },
          "metadata": {},
          "execution_count": 15
        }
      ]
    },
    {
      "cell_type": "code",
      "source": [
        "training_sequences = tokenizer.texts_to_sequences(x_train) # векторизация\n",
        "training_padded = pad_sequences(training_sequences,\n",
        "                                maxlen = max_len,\n",
        "                                padding = padding_type,\n",
        "                                truncating = trunc_type)\n",
        "testing_sequences = tokenizer.texts_to_sequences(x_test)\n",
        "testing_padded = pad_sequences(testing_sequences,\n",
        "                               maxlen = max_len,\n",
        "                               padding = padding_type,\n",
        "                               truncating = trunc_type)\n",
        "\n",
        "print('Shape of training tensor: ', training_padded.shape)\n",
        "print('Shape of testing tensor: ', testing_padded.shape)"
      ],
      "metadata": {
        "id": "YbAsi9uz0Jt3",
        "execution": {
          "iopub.status.busy": "2024-08-31T10:11:01.349720Z",
          "iopub.execute_input": "2024-08-31T10:11:01.350583Z",
          "iopub.status.idle": "2024-08-31T10:11:02.071257Z",
          "shell.execute_reply.started": "2024-08-31T10:11:01.350541Z",
          "shell.execute_reply": "2024-08-31T10:11:02.070366Z"
        },
        "trusted": true,
        "colab": {
          "base_uri": "https://localhost:8080/"
        },
        "outputId": "5f662916-dded-4c58-c6d3-42151e8e563c"
      },
      "execution_count": null,
      "outputs": [
        {
          "output_type": "stream",
          "name": "stdout",
          "text": [
            "Shape of training tensor:  (4443, 100)\n",
            "Shape of testing tensor:  (1482, 100)\n"
          ]
        }
      ]
    },
    {
      "cell_type": "code",
      "source": [
        "# Параметры\n",
        "embedding_dim = 32 # Размер вектора эмбедднгов 16, 32\n",
        "n_dense = 24 # Полносвязный слой\n",
        "n_lstm = 64 # слой LTSM\n",
        "drop_lstm = 0.1 # слой Dropout\n",
        "\n",
        "model = Sequential()\n",
        "model.add(Embedding(vocab_size, embedding_dim, input_length=max_len))\n",
        "model.add(SpatialDropout1D(drop_lstm))\n",
        "model.add(LSTM(n_lstm, return_sequences=False))\n",
        "model.add(Dropout(drop_lstm))\n",
        "model.add(Dense(1, activation='sigmoid'))"
      ],
      "metadata": {
        "id": "LSC6QZjZ0TWB",
        "execution": {
          "iopub.status.busy": "2024-08-31T10:11:12.444364Z",
          "iopub.execute_input": "2024-08-31T10:11:12.444797Z",
          "iopub.status.idle": "2024-08-31T10:11:13.315455Z",
          "shell.execute_reply.started": "2024-08-31T10:11:12.444749Z",
          "shell.execute_reply": "2024-08-31T10:11:13.314509Z"
        },
        "trusted": true,
        "colab": {
          "base_uri": "https://localhost:8080/"
        },
        "outputId": "a2459f24-cfcd-4566-f106-906c3b4cd41e"
      },
      "execution_count": null,
      "outputs": [
        {
          "output_type": "stream",
          "name": "stderr",
          "text": [
            "/usr/local/lib/python3.10/dist-packages/keras/src/layers/core/embedding.py:90: UserWarning: Argument `input_length` is deprecated. Just remove it.\n",
            "  warnings.warn(\n"
          ]
        }
      ]
    },
    {
      "cell_type": "code",
      "source": [
        "model.compile(loss = 'binary_crossentropy',\n",
        "               optimizer = 'adam',\n",
        "               metrics = ['accuracy'])"
      ],
      "metadata": {
        "id": "Ydn1sO030amB",
        "execution": {
          "iopub.status.busy": "2024-08-31T10:11:39.669580Z",
          "iopub.execute_input": "2024-08-31T10:11:39.669948Z",
          "iopub.status.idle": "2024-08-31T10:11:39.679462Z",
          "shell.execute_reply.started": "2024-08-31T10:11:39.669915Z",
          "shell.execute_reply": "2024-08-31T10:11:39.678639Z"
        },
        "trusted": true
      },
      "execution_count": null,
      "outputs": []
    },
    {
      "cell_type": "code",
      "source": [
        "num_epochs = 10\n",
        "early_stop = EarlyStopping(monitor='val_loss', patience=3) # остановиться, когда метрика перестает улучшаться, помогает выйти из цикла с эпохами\n",
        "history = model.fit(training_padded,\n",
        "                    y_train,\n",
        "                    epochs=num_epochs,\n",
        "                    validation_data=(testing_padded, y_test),\n",
        "                    callbacks =[early_stop],\n",
        "                    verbose=2)"
      ],
      "metadata": {
        "id": "JQriflFh0j4u",
        "execution": {
          "iopub.status.busy": "2024-08-31T10:11:49.963691Z",
          "iopub.execute_input": "2024-08-31T10:11:49.964089Z",
          "iopub.status.idle": "2024-08-31T10:11:59.666303Z",
          "shell.execute_reply.started": "2024-08-31T10:11:49.964051Z",
          "shell.execute_reply": "2024-08-31T10:11:59.665366Z"
        },
        "trusted": true,
        "colab": {
          "base_uri": "https://localhost:8080/"
        },
        "outputId": "d494f9e6-b60b-4409-aa08-006cc8bd097e"
      },
      "execution_count": null,
      "outputs": [
        {
          "output_type": "stream",
          "name": "stdout",
          "text": [
            "Epoch 1/10\n",
            "139/139 - 10s - 69ms/step - accuracy: 0.5291 - loss: 0.6922 - val_accuracy: 0.5135 - val_loss: 0.6927\n",
            "Epoch 2/10\n",
            "139/139 - 1s - 7ms/step - accuracy: 0.5472 - loss: 0.6866 - val_accuracy: 0.5155 - val_loss: 0.6870\n",
            "Epoch 3/10\n",
            "139/139 - 1s - 9ms/step - accuracy: 0.5762 - loss: 0.6605 - val_accuracy: 0.7395 - val_loss: 0.6016\n",
            "Epoch 4/10\n",
            "139/139 - 1s - 7ms/step - accuracy: 0.6424 - loss: 0.6430 - val_accuracy: 0.6754 - val_loss: 0.6244\n",
            "Epoch 5/10\n",
            "139/139 - 1s - 7ms/step - accuracy: 0.6905 - loss: 0.6160 - val_accuracy: 0.7206 - val_loss: 0.6002\n",
            "Epoch 6/10\n",
            "139/139 - 1s - 7ms/step - accuracy: 0.6406 - loss: 0.6414 - val_accuracy: 0.6161 - val_loss: 0.6502\n",
            "Epoch 7/10\n",
            "139/139 - 1s - 9ms/step - accuracy: 0.5935 - loss: 0.6576 - val_accuracy: 0.6154 - val_loss: 0.6532\n",
            "Epoch 8/10\n",
            "139/139 - 2s - 12ms/step - accuracy: 0.5935 - loss: 0.6561 - val_accuracy: 0.6188 - val_loss: 0.6514\n"
          ]
        }
      ]
    },
    {
      "cell_type": "code",
      "source": [
        "# сохранить модель в файл\n",
        "model.save('model_lstm.keras') # более новая версия файла\n",
        "model.save('model_lstm.h5') # чаще h5, более старая версия"
      ],
      "metadata": {
        "id": "Wdhwhjzn0rbq",
        "execution": {
          "iopub.status.busy": "2024-08-31T10:12:20.085913Z",
          "iopub.execute_input": "2024-08-31T10:12:20.086810Z",
          "iopub.status.idle": "2024-08-31T10:12:20.160916Z",
          "shell.execute_reply.started": "2024-08-31T10:12:20.086765Z",
          "shell.execute_reply": "2024-08-31T10:12:20.160095Z"
        },
        "trusted": true,
        "colab": {
          "base_uri": "https://localhost:8080/"
        },
        "outputId": "d6695143-70e9-42fa-a125-e676c39918a2"
      },
      "execution_count": null,
      "outputs": [
        {
          "output_type": "stream",
          "name": "stderr",
          "text": [
            "WARNING:absl:You are saving your model as an HDF5 file via `model.save()` or `keras.saving.save_model(model)`. This file format is considered legacy. We recommend using instead the native Keras format, e.g. `model.save('my_model.keras')` or `keras.saving.save_model(model, 'my_model.keras')`. \n"
          ]
        }
      ]
    },
    {
      "cell_type": "code",
      "source": [
        "import pickle\n",
        "with open('tokenizer.pickle', 'wb') as handle:\n",
        "  # выгрузить файл с дампом модели расширения pickle\n",
        "  pickle.dump(tokenizer, handle, protocol=pickle.HIGHEST_PROTOCOL)"
      ],
      "metadata": {
        "id": "5vuM-9Ee020R"
      },
      "execution_count": null,
      "outputs": []
    },
    {
      "cell_type": "markdown",
      "source": [
        "## Классификация текста с помощью предобученной на данных русскоязычных твитов модели BERT\n",
        "----\n",
        "\n",
        "Для эксперимента была использована предобученная модель Bert на данных сообщений из русскоязычного твитера"
      ],
      "metadata": {
        "id": "lY6CgtQ20-Gn"
      }
    },
    {
      "cell_type": "code",
      "source": [
        "TEST_SIZE_BERT = 0.2 # 20% тестовой\n",
        "RANDOM_STATE_BERT = 1 # воспроизводимость модели\n",
        "\n",
        "train, test_data = train_test_split(df, test_size=TEST_SIZE_BERT, random_state=RANDOM_STATE_BERT)\n",
        "train_data, valid_data = train_test_split(train, test_size=TEST_SIZE_BERT, random_state=RANDOM_STATE_BERT)"
      ],
      "metadata": {
        "id": "UVc-mWaT1HcD",
        "execution": {
          "iopub.status.busy": "2024-08-31T10:12:30.093905Z",
          "iopub.execute_input": "2024-08-31T10:12:30.094589Z",
          "iopub.status.idle": "2024-08-31T10:12:30.105778Z",
          "shell.execute_reply.started": "2024-08-31T10:12:30.094543Z",
          "shell.execute_reply": "2024-08-31T10:12:30.104747Z"
        },
        "trusted": true
      },
      "execution_count": null,
      "outputs": []
    },
    {
      "cell_type": "code",
      "source": [
        "from bert_dataset import CustomDataset\n",
        "from bert_classifier import BertClassifier"
      ],
      "metadata": {
        "id": "TntGzTWi1XN3",
        "execution": {
          "iopub.status.busy": "2024-08-31T10:12:35.669857Z",
          "iopub.execute_input": "2024-08-31T10:12:35.670463Z",
          "iopub.status.idle": "2024-08-31T10:12:40.982808Z",
          "shell.execute_reply.started": "2024-08-31T10:12:35.670421Z",
          "shell.execute_reply": "2024-08-31T10:12:40.981864Z"
        },
        "trusted": true
      },
      "execution_count": null,
      "outputs": []
    },
    {
      "cell_type": "code",
      "source": [
        "EPOCH_COUNT_BERT = 6\n",
        "CLASS_LABELS = 2\n",
        "\n",
        "# https://huggingface.co/cointegrated/rubert-tiny ruBERT\n",
        "classifier = BertClassifier(\n",
        "        model_path='cointegrated/rubert-tiny',\n",
        "        tokenizer_path='cointegrated/rubert-tiny',\n",
        "        n_classes=CLASS_LABELS,\n",
        "        epochs=EPOCH_COUNT_BERT,\n",
        "        model_save_path='bert.pt'\n",
        ")"
      ],
      "metadata": {
        "id": "gVgQ7GeW1XFq",
        "execution": {
          "iopub.status.busy": "2024-08-31T10:15:21.740237Z",
          "iopub.execute_input": "2024-08-31T10:15:21.740635Z",
          "iopub.status.idle": "2024-08-31T10:15:22.021256Z",
          "shell.execute_reply.started": "2024-08-31T10:15:21.740601Z",
          "shell.execute_reply": "2024-08-31T10:15:22.020323Z"
        },
        "trusted": true,
        "colab": {
          "base_uri": "https://localhost:8080/",
          "height": 368,
          "referenced_widgets": [
            "fef4f8141b02468884aee223ae432d62",
            "a64e8359ddff44958f293a26a72cd2cc",
            "a5afaa35e1fd42f793ab483f44d9d044",
            "5575d5e1f88841159accdf8e90dadbbe",
            "9a76d17a886547eaaafc3a0a59fc3b4a",
            "abc974866e4048c390cd16bcc7543671",
            "eef87d0d12f44a04a64bc3395817580d",
            "23f79c3caf2b4722bf94a361ebd051b2",
            "0325c0a12d2744058c33b76218389830",
            "159ffc032d634e879bf419134fa6ec21",
            "13a98b741f24464b9ed8724c53055356",
            "231285fec2794145b55457c543a57016",
            "4577e8293f3a49c08e3c44beced95569",
            "583efbb9d65046668936beb07cfe287a",
            "e172eaea7d6c407fb9b300947bc96a20",
            "8963e302c698473aaeb0ecd77b2712cc",
            "4f81a6bd4b1043e1bd2c61a163d7934f",
            "e22e139d7065445ba1ae3268ffa2eec3",
            "f887cf6336f8469c877f30966f8eadd4",
            "afbd7bcfc4d140f0b63368a862b152b2",
            "267b02bb53694afb945d50d4a807fa67",
            "3e88b171432642bfa8d0e7dcfde1491c",
            "1b7f100ec71a4489849d5e95e257c787",
            "b4a7b65de2184d0db1367bb33a3306ec",
            "fee0fc185bd4437da53089e9f53498d7",
            "aad9fe029bf44bfe91a73866b64686e3",
            "0701c670955045dc89292c0dab7ead25",
            "cb1e987eee084e8a91b48bb0d8a026ba",
            "3c3a2a3a1a0c44efad5ac791fde6d7e9",
            "b6d8a4ad856747a7957f23543f469681",
            "9af0251223084cf9bb134deafa971248",
            "e58917a5b22c4b40a3cdf8ca4de5d44d",
            "df937f80f6d84ac6a8f53f37f63f072a",
            "28514c9cd56a4268b63d0ab2f80566d6",
            "a436e1f9d10347e9b857fadeecf0e349",
            "19a32125414641cba72c4b176a84b718",
            "6411615ee9ed434d910c296862bc6a30",
            "84d8fa3447534b8f948463935f4e1138",
            "7efeee51a6a8492a93ae413c89ba572c",
            "aa9e04051d6740f9b68724c8af266996",
            "6f39f2e687174c71b72041cb5804ece1",
            "384511d5fbb64fa39c03a9bb87e2fb23",
            "eaf5a2d5c83b431e854136013efb5e0f",
            "f088489aae7147d6a82d05f9ee01dbcb",
            "c225d940c69e4cc1a719a7979e94e596",
            "4b20ab3b2d4d41feb64efc19710b8f4b",
            "dd4731da68e14991bf79bd23cf5dbae4",
            "0a4dee5aa51a4ba1b7207e0fe73b8b99",
            "3f9387f639e64ffb98fc1bff6182036c",
            "75feca82de7e416a921c80bbd3f2de22",
            "0b8e6ce8c71d4d2d8f8fe40f8e9bf249",
            "72a3da22ade34c139c76d4e04a8e122a",
            "be6271c9410b4bb294d0aeb4259861c6",
            "a8cc7a45f0024cc7aeb5fa8d0e3afd3e",
            "98464451081a46239c48e8cac00c5be0",
            "102198385af8477a877385f6d5e096c0",
            "2e59e56227be415581f4c8581660d59b",
            "73b5104f603448c28a8a89e25ab030b4",
            "ba2f5d7689dc43a5866bff83b56ccf52",
            "b8a7b589d5cb4f8fb81947d101dcc9ac",
            "9cc6cedd13fa466ea54ce7fcd720f4bf",
            "4a792c23debc44f7a8f38df3085f332a",
            "02bed9d75c454d3bbd7b5acf30e85b2b",
            "45ec23253b2e4dd9bde083dec8826763",
            "59b3ccfb862847bc840b75f8af2b5395",
            "20e7c81e975047ac97789a2c87af8fb3"
          ]
        },
        "outputId": "4aaab0cd-df78-46d7-db5a-397d13918211"
      },
      "execution_count": null,
      "outputs": [
        {
          "output_type": "stream",
          "name": "stderr",
          "text": [
            "/usr/local/lib/python3.10/dist-packages/huggingface_hub/utils/_token.py:89: UserWarning: \n",
            "The secret `HF_TOKEN` does not exist in your Colab secrets.\n",
            "To authenticate with the Hugging Face Hub, create a token in your settings tab (https://huggingface.co/settings/tokens), set it as secret in your Google Colab and restart your session.\n",
            "You will be able to reuse this secret in all of your notebooks.\n",
            "Please note that authentication is recommended but still optional to access public models or datasets.\n",
            "  warnings.warn(\n"
          ]
        },
        {
          "output_type": "display_data",
          "data": {
            "text/plain": [
              "config.json:   0%|          | 0.00/632 [00:00<?, ?B/s]"
            ],
            "application/vnd.jupyter.widget-view+json": {
              "version_major": 2,
              "version_minor": 0,
              "model_id": "fef4f8141b02468884aee223ae432d62"
            }
          },
          "metadata": {}
        },
        {
          "output_type": "display_data",
          "data": {
            "text/plain": [
              "model.safetensors:   0%|          | 0.00/47.7M [00:00<?, ?B/s]"
            ],
            "application/vnd.jupyter.widget-view+json": {
              "version_major": 2,
              "version_minor": 0,
              "model_id": "231285fec2794145b55457c543a57016"
            }
          },
          "metadata": {}
        },
        {
          "output_type": "stream",
          "name": "stderr",
          "text": [
            "Some weights of BertForSequenceClassification were not initialized from the model checkpoint at cointegrated/rubert-tiny and are newly initialized: ['classifier.bias', 'classifier.weight']\n",
            "You should probably TRAIN this model on a down-stream task to be able to use it for predictions and inference.\n"
          ]
        },
        {
          "output_type": "display_data",
          "data": {
            "text/plain": [
              "tokenizer_config.json:   0%|          | 0.00/341 [00:00<?, ?B/s]"
            ],
            "application/vnd.jupyter.widget-view+json": {
              "version_major": 2,
              "version_minor": 0,
              "model_id": "1b7f100ec71a4489849d5e95e257c787"
            }
          },
          "metadata": {}
        },
        {
          "output_type": "display_data",
          "data": {
            "text/plain": [
              "vocab.txt:   0%|          | 0.00/241k [00:00<?, ?B/s]"
            ],
            "application/vnd.jupyter.widget-view+json": {
              "version_major": 2,
              "version_minor": 0,
              "model_id": "28514c9cd56a4268b63d0ab2f80566d6"
            }
          },
          "metadata": {}
        },
        {
          "output_type": "display_data",
          "data": {
            "text/plain": [
              "special_tokens_map.json:   0%|          | 0.00/112 [00:00<?, ?B/s]"
            ],
            "application/vnd.jupyter.widget-view+json": {
              "version_major": 2,
              "version_minor": 0,
              "model_id": "c225d940c69e4cc1a719a7979e94e596"
            }
          },
          "metadata": {}
        },
        {
          "output_type": "display_data",
          "data": {
            "text/plain": [
              "tokenizer.json:   0%|          | 0.00/468k [00:00<?, ?B/s]"
            ],
            "application/vnd.jupyter.widget-view+json": {
              "version_major": 2,
              "version_minor": 0,
              "model_id": "102198385af8477a877385f6d5e096c0"
            }
          },
          "metadata": {}
        }
      ]
    },
    {
      "cell_type": "code",
      "source": [
        "classifier.preparation(\n",
        "        X_train=list(train_data['text']),\n",
        "        y_train=list(train_data['label']),\n",
        "        X_valid=list(valid_data['text']),\n",
        "        y_valid=list(valid_data['label'])\n",
        "    )"
      ],
      "metadata": {
        "id": "6YQgb-kU1Wyr",
        "execution": {
          "iopub.status.busy": "2024-08-31T10:15:32.109039Z",
          "iopub.execute_input": "2024-08-31T10:15:32.109844Z",
          "iopub.status.idle": "2024-08-31T10:15:32.119628Z",
          "shell.execute_reply.started": "2024-08-31T10:15:32.109803Z",
          "shell.execute_reply": "2024-08-31T10:15:32.118548Z"
        },
        "trusted": true,
        "colab": {
          "base_uri": "https://localhost:8080/"
        },
        "outputId": "4a2bca25-2063-4ac3-e5d4-1cb3774c5660"
      },
      "execution_count": null,
      "outputs": [
        {
          "output_type": "stream",
          "name": "stderr",
          "text": [
            "/usr/local/lib/python3.10/dist-packages/transformers/optimization.py:591: FutureWarning: This implementation of AdamW is deprecated and will be removed in a future version. Use the PyTorch implementation torch.optim.AdamW instead, or set `no_deprecation_warning=True` to disable this warning\n",
            "  warnings.warn(\n"
          ]
        }
      ]
    },
    {
      "cell_type": "code",
      "source": [
        "classifier.train()"
      ],
      "metadata": {
        "id": "VYQfQ6CM12Yn",
        "execution": {
          "iopub.status.busy": "2024-08-31T10:15:36.667665Z",
          "iopub.execute_input": "2024-08-31T10:15:36.668094Z",
          "iopub.status.idle": "2024-08-31T10:24:24.054721Z",
          "shell.execute_reply.started": "2024-08-31T10:15:36.668057Z",
          "shell.execute_reply": "2024-08-31T10:24:24.053694Z"
        },
        "trusted": true,
        "colab": {
          "base_uri": "https://localhost:8080/"
        },
        "outputId": "3b313ef3-50cd-4991-b549-2a1e3c2ccbb9"
      },
      "execution_count": null,
      "outputs": [
        {
          "output_type": "stream",
          "name": "stdout",
          "text": [
            "Epoch 1/6\n",
            "Train loss 0.7179656924096817 accuracy 0.6890822784810126\n",
            "Val loss 0.8464543829723123 accuracy 0.729957805907173\n",
            "----------\n",
            "Epoch 2/6\n",
            "Train loss 0.7358100618891401 accuracy 0.7808544303797468\n",
            "Val loss 0.9742800498802219 accuracy 0.7573839662447257\n",
            "----------\n",
            "Epoch 3/6\n",
            "Train loss 0.6481320179708696 accuracy 0.8349156118143459\n",
            "Val loss 0.9767410650238776 accuracy 0.7616033755274261\n",
            "----------\n",
            "Epoch 4/6\n",
            "Train loss 0.5662819562397086 accuracy 0.8636603375527425\n",
            "Val loss 1.0234615773566504 accuracy 0.7995780590717299\n",
            "----------\n",
            "Epoch 5/6\n",
            "Train loss 0.49054706496240463 accuracy 0.8842299578059071\n",
            "Val loss 1.1063420572289893 accuracy 0.790084388185654\n",
            "----------\n",
            "Epoch 6/6\n",
            "Train loss 0.43441119646860576 accuracy 0.9026898734177214\n",
            "Val loss 1.1113061679560075 accuracy 0.7921940928270041\n",
            "----------\n"
          ]
        },
        {
          "output_type": "stream",
          "name": "stderr",
          "text": [
            "/content/bert_classifier.py:112: FutureWarning: You are using `torch.load` with `weights_only=False` (the current default value), which uses the default pickle module implicitly. It is possible to construct malicious pickle data which will execute arbitrary code during unpickling (See https://github.com/pytorch/pytorch/blob/main/SECURITY.md#untrusted-models for more details). In a future release, the default value for `weights_only` will be flipped to `True`. This limits the functions that could be executed during unpickling. Arbitrary objects will no longer be allowed to be loaded via this mode unless they are explicitly allowlisted by the user via `torch.serialization.add_safe_globals`. We recommend you start setting `weights_only=True` for any use case where you don't have full control of the loaded file. Please open an issue on GitHub for any issues related to this experimental feature.\n",
            "  self.model = torch.load(self.model_save_path)\n"
          ]
        }
      ]
    },
    {
      "cell_type": "code",
      "source": [
        "texts = list(test_data['text'])\n",
        "labels = list(test_data['label'])\n",
        "\n",
        "predictions = [classifier.predict(t) for t in texts]"
      ],
      "metadata": {
        "id": "pCOS7KDn185F",
        "execution": {
          "iopub.status.busy": "2024-08-31T10:25:41.377012Z",
          "iopub.execute_input": "2024-08-31T10:25:41.378085Z",
          "iopub.status.idle": "2024-08-31T10:25:51.871466Z",
          "shell.execute_reply.started": "2024-08-31T10:25:41.378039Z",
          "shell.execute_reply": "2024-08-31T10:25:51.870657Z"
        },
        "trusted": true
      },
      "execution_count": null,
      "outputs": []
    },
    {
      "cell_type": "code",
      "source": [
        "from sklearn.metrics import precision_recall_fscore_support\n",
        "\n",
        "precision, recall, f1score = precision_recall_fscore_support(labels,\n",
        "                                                             predictions,\n",
        "                                                             average='macro')[:3]\n",
        "\n",
        "print(f'precision: {precision:.3f}, recall: {recall:.3f}, f1score: {f1score:.3f}')"
      ],
      "metadata": {
        "id": "dZdY47xI18rw",
        "execution": {
          "iopub.status.busy": "2024-08-31T10:26:04.845740Z",
          "iopub.execute_input": "2024-08-31T10:26:04.846130Z",
          "iopub.status.idle": "2024-08-31T10:26:04.864697Z",
          "shell.execute_reply.started": "2024-08-31T10:26:04.846092Z",
          "shell.execute_reply": "2024-08-31T10:26:04.863632Z"
        },
        "trusted": true,
        "colab": {
          "base_uri": "https://localhost:8080/"
        },
        "outputId": "137da78a-fa7e-4059-9e9f-08af82389250"
      },
      "execution_count": null,
      "outputs": [
        {
          "output_type": "stream",
          "name": "stdout",
          "text": [
            "precision: 0.793, recall: 0.793, f1score: 0.792\n"
          ]
        }
      ]
    },
    {
      "cell_type": "code",
      "source": [
        "# сохранить модель в файл\n",
        "model.save('model_bert.keras') # более новая версия файла"
      ],
      "metadata": {
        "id": "wClJ7Pdj2MXu",
        "execution": {
          "iopub.status.busy": "2024-08-31T10:26:15.765653Z",
          "iopub.execute_input": "2024-08-31T10:26:15.766343Z",
          "iopub.status.idle": "2024-08-31T10:26:15.802695Z",
          "shell.execute_reply.started": "2024-08-31T10:26:15.766302Z",
          "shell.execute_reply": "2024-08-31T10:26:15.801904Z"
        },
        "trusted": true
      },
      "execution_count": null,
      "outputs": []
    },
    {
      "cell_type": "markdown",
      "source": [
        "## Выводы\n",
        "----\n",
        "**Модель LTSM** требует большего набора данных и продолжения тренировок. А еще можно с архитектурой поэксперементировать, параметры настроить... LSTM  вообще \"из коробки\" плохо работает. Ее настраивать надо. Пока результат неважный.\n",
        "\n",
        "\n",
        "**Модель BERT** вроде бы показывает сравнимый результат с классическим машинным обучением.\n",
        "Но меня сильно смущает то, что **Train loss** уменьшается последовательно от эпохи к эпохе, а **Val loss** так же последовательно растет.\n",
        "Похоже на ситуацию с переобучением.\n",
        "\n",
        "Хотелось еще на неочищенном тексте модели запустить, но ГПУ стало недоступно. Потом сделаю. хотя навряд ли это улучшит качество.\n"
      ],
      "metadata": {
        "id": "_7XUFBXh2U2g"
      }
    }
  ]
}
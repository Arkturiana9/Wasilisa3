{
  "nbformat": 4,
  "nbformat_minor": 0,
  "metadata": {
    "colab": {
      "provenance": []
    },
    "kernelspec": {
      "name": "python3",
      "display_name": "Python 3"
    },
    "language_info": {
      "name": "python"
    }
  },
  "cells": [
    {
      "cell_type": "markdown",
      "source": [
        "#**Обучаем и сохраняем все ML-модели; пробуем классифицировать произвольный текст**"
      ],
      "metadata": {
        "id": "C4Vv6eaFhefZ"
      }
    },
    {
      "cell_type": "markdown",
      "source": [
        "**Устанавливаем и подключаем библиотеки**"
      ],
      "metadata": {
        "id": "OV0RE3klh-Ov"
      }
    },
    {
      "cell_type": "code",
      "source": [
        "!pip -q install pymorphy2\n",
        "!pip -q install sentencepiece"
      ],
      "metadata": {
        "colab": {
          "base_uri": "https://localhost:8080/"
        },
        "id": "78A4EEu0m0bi",
        "outputId": "b65968ff-1503-40be-c41d-a179f5aa8c8f"
      },
      "execution_count": null,
      "outputs": [
        {
          "output_type": "stream",
          "name": "stdout",
          "text": [
            "  Preparing metadata (setup.py) ... \u001b[?25l\u001b[?25hdone\n",
            "\u001b[?25l   \u001b[90m━━━━━━━━━━━━━━━━━━━━━━━━━━━━━━━━━━━━━━━━\u001b[0m \u001b[32m0.0/55.5 kB\u001b[0m \u001b[31m?\u001b[0m eta \u001b[36m-:--:--\u001b[0m\r\u001b[2K   \u001b[90m━━━━━━━━━━━━━━━━━━━━━━━━━━━━━━━━━━━━━━━━\u001b[0m \u001b[32m55.5/55.5 kB\u001b[0m \u001b[31m1.8 MB/s\u001b[0m eta \u001b[36m0:00:00\u001b[0m\n",
            "\u001b[?25h\u001b[?25l   \u001b[90m━━━━━━━━━━━━━━━━━━━━━━━━━━━━━━━━━━━━━━━━\u001b[0m \u001b[32m0.0/8.2 MB\u001b[0m \u001b[31m?\u001b[0m eta \u001b[36m-:--:--\u001b[0m\r\u001b[2K   \u001b[91m━━━━━━━━━━━━━━\u001b[0m\u001b[90m╺\u001b[0m\u001b[90m━━━━━━━━━━━━━━━━━━━━━━━━━\u001b[0m \u001b[32m2.9/8.2 MB\u001b[0m \u001b[31m88.4 MB/s\u001b[0m eta \u001b[36m0:00:01\u001b[0m\r\u001b[2K   \u001b[91m━━━━━━━━━━━━━━━━━━━━━━━━━━━━━━━━\u001b[0m\u001b[90m╺\u001b[0m\u001b[90m━━━━━━━\u001b[0m \u001b[32m6.6/8.2 MB\u001b[0m \u001b[31m94.7 MB/s\u001b[0m eta \u001b[36m0:00:01\u001b[0m\r\u001b[2K   \u001b[91m━━━━━━━━━━━━━━━━━━━━━━━━━━━━━━━━━━━━━━━\u001b[0m\u001b[91m╸\u001b[0m \u001b[32m8.2/8.2 MB\u001b[0m \u001b[31m92.9 MB/s\u001b[0m eta \u001b[36m0:00:01\u001b[0m\r\u001b[2K   \u001b[90m━━━━━━━━━━━━━━━━━━━━━━━━━━━━━━━━━━━━━━━━\u001b[0m \u001b[32m8.2/8.2 MB\u001b[0m \u001b[31m61.6 MB/s\u001b[0m eta \u001b[36m0:00:00\u001b[0m\n",
            "\u001b[?25h  Building wheel for docopt (setup.py) ... \u001b[?25l\u001b[?25hdone\n"
          ]
        }
      ]
    },
    {
      "cell_type": "code",
      "source": [
        "import pandas as pd\n",
        "import numpy as np\n"
      ],
      "metadata": {
        "id": "n2tMUSkU_T6i"
      },
      "execution_count": null,
      "outputs": []
    },
    {
      "cell_type": "code",
      "execution_count": null,
      "metadata": {
        "id": "gRW_NF1SsBPq"
      },
      "outputs": [],
      "source": [
        "from sklearn.model_selection import train_test_split # делим на тестовую и тренировочную\n",
        "from sklearn.feature_extraction.text import CountVectorizer # мешок слов\n",
        "from sklearn.feature_extraction.text import TfidfVectorizer\n",
        "import pickle\n",
        "from sklearn.metrics import accuracy_score, f1_score, confusion_matrix, classification_report # метрика точности, f1 мера, матрица ошибок и отчёт по классификации\n",
        "from sklearn import model_selection # выбор модели и оценка параметров (можно загрузить несколько моделей)\n",
        "from sklearn.linear_model import LogisticRegression # логистическая регрессия\n",
        "from sklearn.ensemble import RandomForestClassifier, GradientBoostingClassifier # бустинг, случайный лес\n",
        "from sklearn.svm import SVC # метод SVM, загружаем с ядром rbf https://scikit-learn.ru/1-4-support-vector-machines/\n",
        "from sklearn.neighbors import KNeighborsClassifier # к ближайших соседей"
      ]
    },
    {
      "cell_type": "code",
      "source": [
        "import nltk\n",
        "from nltk.corpus import stopwords\n",
        "from sklearn.feature_extraction.text import TfidfVectorizer\n",
        "from sklearn.model_selection import train_test_split\n",
        "from sklearn.linear_model import LogisticRegression\n",
        "import pymorphy2\n",
        "import re"
      ],
      "metadata": {
        "id": "CebH0zdtKKCv"
      },
      "execution_count": null,
      "outputs": []
    },
    {
      "cell_type": "code",
      "source": [
        "# Загрузка стоп-слов и инициализация лемматизатора\n",
        "nltk.download('stopwords')\n",
        "russian_stopwords = set(stopwords.words('russian'))\n",
        "morph = pymorphy2.MorphAnalyzer()"
      ],
      "metadata": {
        "colab": {
          "base_uri": "https://localhost:8080/"
        },
        "id": "jVjs-iT5KSM0",
        "outputId": "9f9daeb7-2dd3-4ff2-a457-f2517c083bbd"
      },
      "execution_count": null,
      "outputs": [
        {
          "output_type": "stream",
          "name": "stderr",
          "text": [
            "[nltk_data] Downloading package stopwords to /root/nltk_data...\n",
            "[nltk_data]   Unzipping corpora/stopwords.zip.\n"
          ]
        }
      ]
    },
    {
      "cell_type": "code",
      "source": [
        "# Функция для предобработки текста\n",
        "def preprocess_text(text):\n",
        "    # Приведение к нижнему регистру и удаление пунктуации\n",
        "    text = re.sub(r'[^\\w\\s]', '', text.lower())\n",
        "    # Токенизация и лемматизация\n",
        "    tokens = text.split()\n",
        "    lemmatized = [morph.parse(token)[0].normal_form for token in tokens if token not in russian_stopwords]\n",
        "    return ' '.join(lemmatized)"
      ],
      "metadata": {
        "id": "E6m-laSEKinm"
      },
      "execution_count": null,
      "outputs": []
    },
    {
      "cell_type": "markdown",
      "source": [
        "**Загружаем датасет с очищенным текстом**"
      ],
      "metadata": {
        "id": "xiQ-d2-LiKD3"
      }
    },
    {
      "cell_type": "code",
      "source": [
        "!gdown 11KFmtEdK_h1S5RyfRfHSp4fJBDEyo0NI"
      ],
      "metadata": {
        "colab": {
          "base_uri": "https://localhost:8080/"
        },
        "id": "A8WLjXSssHg2",
        "outputId": "38e8cf12-782d-4b45-ea88-b09eed01b07f"
      },
      "execution_count": null,
      "outputs": [
        {
          "output_type": "stream",
          "name": "stdout",
          "text": [
            "Downloading...\n",
            "From: https://drive.google.com/uc?id=11KFmtEdK_h1S5RyfRfHSp4fJBDEyo0NI\n",
            "To: /content/clean_df.csv\n",
            "\r  0% 0.00/6.87M [00:00<?, ?B/s]\r100% 6.87M/6.87M [00:00<00:00, 134MB/s]\n"
          ]
        }
      ]
    },
    {
      "cell_type": "code",
      "source": [
        "df = pd.read_csv('clean_df.csv')"
      ],
      "metadata": {
        "id": "h9ZR_3HO72B0"
      },
      "execution_count": null,
      "outputs": []
    },
    {
      "cell_type": "code",
      "source": [
        "df"
      ],
      "metadata": {
        "colab": {
          "base_uri": "https://localhost:8080/",
          "height": 423
        },
        "id": "vm_ufWgz_H7B",
        "outputId": "5437aada-8ee6-49f3-bff3-1f4276098aa9"
      },
      "execution_count": null,
      "outputs": [
        {
          "output_type": "execute_result",
          "data": {
            "text/plain": [
              "                                                   text  label\n",
              "0     введение цель выпускной квалификационный работ...      0\n",
              "1     работа представить ниже стоить считать предста...      0\n",
              "2     компьютерный игра правило игровой ситуация вос...      0\n",
              "3     сразу стоить отметить сегодняшний день существ...      0\n",
              "4     вовторое разработчик прекращать свой экспериме...      0\n",
              "...                                                 ...    ...\n",
              "5920  воздействие внешний условие превращаться орган...      1\n",
              "5921  современный настольный пк такой компонент прак...      1\n",
              "5922  стоимость такой услуга большой это безусловно ...      1\n",
              "5923  использовать пример разработка аналогичный сис...      1\n",
              "5924  это снизить риск утечка данные финансовый поте...      1\n",
              "\n",
              "[5925 rows x 2 columns]"
            ],
            "text/html": [
              "\n",
              "  <div id=\"df-603c6539-ce93-4247-9491-709e17a82ad8\" class=\"colab-df-container\">\n",
              "    <div>\n",
              "<style scoped>\n",
              "    .dataframe tbody tr th:only-of-type {\n",
              "        vertical-align: middle;\n",
              "    }\n",
              "\n",
              "    .dataframe tbody tr th {\n",
              "        vertical-align: top;\n",
              "    }\n",
              "\n",
              "    .dataframe thead th {\n",
              "        text-align: right;\n",
              "    }\n",
              "</style>\n",
              "<table border=\"1\" class=\"dataframe\">\n",
              "  <thead>\n",
              "    <tr style=\"text-align: right;\">\n",
              "      <th></th>\n",
              "      <th>text</th>\n",
              "      <th>label</th>\n",
              "    </tr>\n",
              "  </thead>\n",
              "  <tbody>\n",
              "    <tr>\n",
              "      <th>0</th>\n",
              "      <td>введение цель выпускной квалификационный работ...</td>\n",
              "      <td>0</td>\n",
              "    </tr>\n",
              "    <tr>\n",
              "      <th>1</th>\n",
              "      <td>работа представить ниже стоить считать предста...</td>\n",
              "      <td>0</td>\n",
              "    </tr>\n",
              "    <tr>\n",
              "      <th>2</th>\n",
              "      <td>компьютерный игра правило игровой ситуация вос...</td>\n",
              "      <td>0</td>\n",
              "    </tr>\n",
              "    <tr>\n",
              "      <th>3</th>\n",
              "      <td>сразу стоить отметить сегодняшний день существ...</td>\n",
              "      <td>0</td>\n",
              "    </tr>\n",
              "    <tr>\n",
              "      <th>4</th>\n",
              "      <td>вовторое разработчик прекращать свой экспериме...</td>\n",
              "      <td>0</td>\n",
              "    </tr>\n",
              "    <tr>\n",
              "      <th>...</th>\n",
              "      <td>...</td>\n",
              "      <td>...</td>\n",
              "    </tr>\n",
              "    <tr>\n",
              "      <th>5920</th>\n",
              "      <td>воздействие внешний условие превращаться орган...</td>\n",
              "      <td>1</td>\n",
              "    </tr>\n",
              "    <tr>\n",
              "      <th>5921</th>\n",
              "      <td>современный настольный пк такой компонент прак...</td>\n",
              "      <td>1</td>\n",
              "    </tr>\n",
              "    <tr>\n",
              "      <th>5922</th>\n",
              "      <td>стоимость такой услуга большой это безусловно ...</td>\n",
              "      <td>1</td>\n",
              "    </tr>\n",
              "    <tr>\n",
              "      <th>5923</th>\n",
              "      <td>использовать пример разработка аналогичный сис...</td>\n",
              "      <td>1</td>\n",
              "    </tr>\n",
              "    <tr>\n",
              "      <th>5924</th>\n",
              "      <td>это снизить риск утечка данные финансовый поте...</td>\n",
              "      <td>1</td>\n",
              "    </tr>\n",
              "  </tbody>\n",
              "</table>\n",
              "<p>5925 rows × 2 columns</p>\n",
              "</div>\n",
              "    <div class=\"colab-df-buttons\">\n",
              "\n",
              "  <div class=\"colab-df-container\">\n",
              "    <button class=\"colab-df-convert\" onclick=\"convertToInteractive('df-603c6539-ce93-4247-9491-709e17a82ad8')\"\n",
              "            title=\"Convert this dataframe to an interactive table.\"\n",
              "            style=\"display:none;\">\n",
              "\n",
              "  <svg xmlns=\"http://www.w3.org/2000/svg\" height=\"24px\" viewBox=\"0 -960 960 960\">\n",
              "    <path d=\"M120-120v-720h720v720H120Zm60-500h600v-160H180v160Zm220 220h160v-160H400v160Zm0 220h160v-160H400v160ZM180-400h160v-160H180v160Zm440 0h160v-160H620v160ZM180-180h160v-160H180v160Zm440 0h160v-160H620v160Z\"/>\n",
              "  </svg>\n",
              "    </button>\n",
              "\n",
              "  <style>\n",
              "    .colab-df-container {\n",
              "      display:flex;\n",
              "      gap: 12px;\n",
              "    }\n",
              "\n",
              "    .colab-df-convert {\n",
              "      background-color: #E8F0FE;\n",
              "      border: none;\n",
              "      border-radius: 50%;\n",
              "      cursor: pointer;\n",
              "      display: none;\n",
              "      fill: #1967D2;\n",
              "      height: 32px;\n",
              "      padding: 0 0 0 0;\n",
              "      width: 32px;\n",
              "    }\n",
              "\n",
              "    .colab-df-convert:hover {\n",
              "      background-color: #E2EBFA;\n",
              "      box-shadow: 0px 1px 2px rgba(60, 64, 67, 0.3), 0px 1px 3px 1px rgba(60, 64, 67, 0.15);\n",
              "      fill: #174EA6;\n",
              "    }\n",
              "\n",
              "    .colab-df-buttons div {\n",
              "      margin-bottom: 4px;\n",
              "    }\n",
              "\n",
              "    [theme=dark] .colab-df-convert {\n",
              "      background-color: #3B4455;\n",
              "      fill: #D2E3FC;\n",
              "    }\n",
              "\n",
              "    [theme=dark] .colab-df-convert:hover {\n",
              "      background-color: #434B5C;\n",
              "      box-shadow: 0px 1px 3px 1px rgba(0, 0, 0, 0.15);\n",
              "      filter: drop-shadow(0px 1px 2px rgba(0, 0, 0, 0.3));\n",
              "      fill: #FFFFFF;\n",
              "    }\n",
              "  </style>\n",
              "\n",
              "    <script>\n",
              "      const buttonEl =\n",
              "        document.querySelector('#df-603c6539-ce93-4247-9491-709e17a82ad8 button.colab-df-convert');\n",
              "      buttonEl.style.display =\n",
              "        google.colab.kernel.accessAllowed ? 'block' : 'none';\n",
              "\n",
              "      async function convertToInteractive(key) {\n",
              "        const element = document.querySelector('#df-603c6539-ce93-4247-9491-709e17a82ad8');\n",
              "        const dataTable =\n",
              "          await google.colab.kernel.invokeFunction('convertToInteractive',\n",
              "                                                    [key], {});\n",
              "        if (!dataTable) return;\n",
              "\n",
              "        const docLinkHtml = 'Like what you see? Visit the ' +\n",
              "          '<a target=\"_blank\" href=https://colab.research.google.com/notebooks/data_table.ipynb>data table notebook</a>'\n",
              "          + ' to learn more about interactive tables.';\n",
              "        element.innerHTML = '';\n",
              "        dataTable['output_type'] = 'display_data';\n",
              "        await google.colab.output.renderOutput(dataTable, element);\n",
              "        const docLink = document.createElement('div');\n",
              "        docLink.innerHTML = docLinkHtml;\n",
              "        element.appendChild(docLink);\n",
              "      }\n",
              "    </script>\n",
              "  </div>\n",
              "\n",
              "\n",
              "<div id=\"df-4a1555cf-95a2-41f7-8dad-c0e9d127f7b5\">\n",
              "  <button class=\"colab-df-quickchart\" onclick=\"quickchart('df-4a1555cf-95a2-41f7-8dad-c0e9d127f7b5')\"\n",
              "            title=\"Suggest charts\"\n",
              "            style=\"display:none;\">\n",
              "\n",
              "<svg xmlns=\"http://www.w3.org/2000/svg\" height=\"24px\"viewBox=\"0 0 24 24\"\n",
              "     width=\"24px\">\n",
              "    <g>\n",
              "        <path d=\"M19 3H5c-1.1 0-2 .9-2 2v14c0 1.1.9 2 2 2h14c1.1 0 2-.9 2-2V5c0-1.1-.9-2-2-2zM9 17H7v-7h2v7zm4 0h-2V7h2v10zm4 0h-2v-4h2v4z\"/>\n",
              "    </g>\n",
              "</svg>\n",
              "  </button>\n",
              "\n",
              "<style>\n",
              "  .colab-df-quickchart {\n",
              "      --bg-color: #E8F0FE;\n",
              "      --fill-color: #1967D2;\n",
              "      --hover-bg-color: #E2EBFA;\n",
              "      --hover-fill-color: #174EA6;\n",
              "      --disabled-fill-color: #AAA;\n",
              "      --disabled-bg-color: #DDD;\n",
              "  }\n",
              "\n",
              "  [theme=dark] .colab-df-quickchart {\n",
              "      --bg-color: #3B4455;\n",
              "      --fill-color: #D2E3FC;\n",
              "      --hover-bg-color: #434B5C;\n",
              "      --hover-fill-color: #FFFFFF;\n",
              "      --disabled-bg-color: #3B4455;\n",
              "      --disabled-fill-color: #666;\n",
              "  }\n",
              "\n",
              "  .colab-df-quickchart {\n",
              "    background-color: var(--bg-color);\n",
              "    border: none;\n",
              "    border-radius: 50%;\n",
              "    cursor: pointer;\n",
              "    display: none;\n",
              "    fill: var(--fill-color);\n",
              "    height: 32px;\n",
              "    padding: 0;\n",
              "    width: 32px;\n",
              "  }\n",
              "\n",
              "  .colab-df-quickchart:hover {\n",
              "    background-color: var(--hover-bg-color);\n",
              "    box-shadow: 0 1px 2px rgba(60, 64, 67, 0.3), 0 1px 3px 1px rgba(60, 64, 67, 0.15);\n",
              "    fill: var(--button-hover-fill-color);\n",
              "  }\n",
              "\n",
              "  .colab-df-quickchart-complete:disabled,\n",
              "  .colab-df-quickchart-complete:disabled:hover {\n",
              "    background-color: var(--disabled-bg-color);\n",
              "    fill: var(--disabled-fill-color);\n",
              "    box-shadow: none;\n",
              "  }\n",
              "\n",
              "  .colab-df-spinner {\n",
              "    border: 2px solid var(--fill-color);\n",
              "    border-color: transparent;\n",
              "    border-bottom-color: var(--fill-color);\n",
              "    animation:\n",
              "      spin 1s steps(1) infinite;\n",
              "  }\n",
              "\n",
              "  @keyframes spin {\n",
              "    0% {\n",
              "      border-color: transparent;\n",
              "      border-bottom-color: var(--fill-color);\n",
              "      border-left-color: var(--fill-color);\n",
              "    }\n",
              "    20% {\n",
              "      border-color: transparent;\n",
              "      border-left-color: var(--fill-color);\n",
              "      border-top-color: var(--fill-color);\n",
              "    }\n",
              "    30% {\n",
              "      border-color: transparent;\n",
              "      border-left-color: var(--fill-color);\n",
              "      border-top-color: var(--fill-color);\n",
              "      border-right-color: var(--fill-color);\n",
              "    }\n",
              "    40% {\n",
              "      border-color: transparent;\n",
              "      border-right-color: var(--fill-color);\n",
              "      border-top-color: var(--fill-color);\n",
              "    }\n",
              "    60% {\n",
              "      border-color: transparent;\n",
              "      border-right-color: var(--fill-color);\n",
              "    }\n",
              "    80% {\n",
              "      border-color: transparent;\n",
              "      border-right-color: var(--fill-color);\n",
              "      border-bottom-color: var(--fill-color);\n",
              "    }\n",
              "    90% {\n",
              "      border-color: transparent;\n",
              "      border-bottom-color: var(--fill-color);\n",
              "    }\n",
              "  }\n",
              "</style>\n",
              "\n",
              "  <script>\n",
              "    async function quickchart(key) {\n",
              "      const quickchartButtonEl =\n",
              "        document.querySelector('#' + key + ' button');\n",
              "      quickchartButtonEl.disabled = true;  // To prevent multiple clicks.\n",
              "      quickchartButtonEl.classList.add('colab-df-spinner');\n",
              "      try {\n",
              "        const charts = await google.colab.kernel.invokeFunction(\n",
              "            'suggestCharts', [key], {});\n",
              "      } catch (error) {\n",
              "        console.error('Error during call to suggestCharts:', error);\n",
              "      }\n",
              "      quickchartButtonEl.classList.remove('colab-df-spinner');\n",
              "      quickchartButtonEl.classList.add('colab-df-quickchart-complete');\n",
              "    }\n",
              "    (() => {\n",
              "      let quickchartButtonEl =\n",
              "        document.querySelector('#df-4a1555cf-95a2-41f7-8dad-c0e9d127f7b5 button');\n",
              "      quickchartButtonEl.style.display =\n",
              "        google.colab.kernel.accessAllowed ? 'block' : 'none';\n",
              "    })();\n",
              "  </script>\n",
              "</div>\n",
              "    </div>\n",
              "  </div>\n"
            ],
            "application/vnd.google.colaboratory.intrinsic+json": {
              "type": "dataframe",
              "variable_name": "df",
              "summary": "{\n  \"name\": \"df\",\n  \"rows\": 5925,\n  \"fields\": [\n    {\n      \"column\": \"text\",\n      \"properties\": {\n        \"dtype\": \"string\",\n        \"num_unique_values\": 5857,\n        \"samples\": [\n          \"\\u0441\\u043e\\u0432\\u0440\\u0435\\u043c\\u0435\\u043d\\u043d\\u044b\\u0439 \\u0438\\u043d\\u0444\\u043e\\u0440\\u043c\\u0430\\u0446\\u0438\\u043e\\u043d\\u043d\\u044b\\u0439 \\u0441\\u0438\\u0441\\u0442\\u0435\\u043c\\u0430 \\u0442\\u0440\\u0435\\u0431\\u043e\\u0432\\u0430\\u0442\\u044c \\u043c\\u043e\\u0449\\u043d\\u044b\\u0439 \\u0441\\u0435\\u0440\\u0432\\u0435\\u0440 \\u0440\\u0430\\u0431\\u043e\\u0447\\u0438\\u0439 \\u0441\\u0442\\u0430\\u043d\\u0446\\u0438\\u044f \\u043a\\u043e\\u0442\\u043e\\u0440\\u044b\\u0439 \\u043d\\u0435\\u043e\\u0431\\u0445\\u043e\\u0434\\u0438\\u043c\\u043e \\u043f\\u0435\\u0440\\u0438\\u043e\\u0434\\u0438\\u0447\\u0435\\u0441\\u043a\\u0438 \\u043e\\u0431\\u043d\\u043e\\u0432\\u043b\\u044f\\u0442\\u044c \\u043f\\u043e\\u0434\\u0434\\u0435\\u0440\\u0436\\u0430\\u043d\\u0438\\u0435 \\u043f\\u0440\\u043e\\u0438\\u0437\\u0432\\u043e\\u0434\\u0438\\u0442\\u0435\\u043b\\u044c\\u043d\\u043e\\u0441\\u0442\\u044c \\u0431\\u0435\\u0437\\u043e\\u043f\\u0430\\u0441\\u043d\\u043e\\u0441\\u0442\\u044c \\u0441\\u0442\\u0430\\u0440\\u044b\\u0439 \\u0442\\u0435\\u0445\\u043d\\u0438\\u043a\\u0430 \\u043a\\u043e\\u0442\\u043e\\u0440\\u044b\\u0439 \\u0432\\u044b\\u0432\\u043e\\u0434\\u0438\\u0442\\u044c\\u0441\\u044f \\u044d\\u043a\\u0441\\u043f\\u043b\\u0443\\u0430\\u0442\\u0430\\u0446\\u0438\\u044f \\u0434\\u043e\\u043b\\u0436\\u043d\\u044b\\u0439 \\u0443\\u0442\\u0438\\u043b\\u0438\\u0437\\u0438\\u0440\\u043e\\u0432\\u0430\\u0442\\u044c\\u0441\\u044f \\u043f\\u0440\\u0430\\u0432\\u0438\\u043b\\u044c\\u043d\\u043e \\u043f\\u0440\\u043e\\u0446\\u0435\\u0441\\u0441 \\u0432\\u043a\\u043b\\u044e\\u0447\\u0430\\u0442\\u044c \\u043d\\u0435\\u0441\\u043a\\u043e\\u043b\\u044c\\u043a\\u043e \\u043a\\u043b\\u044e\\u0447\\u0435\\u0432\\u043e\\u0439 \\u044d\\u0442\\u0430\\u043f \\u0432\\u043e\\u043f\\u0435\\u0440\\u0432\\u043e\\u0435 \\u0434\\u0430\\u0442\\u044c \\u0443\\u0441\\u0442\\u0430\\u0440\\u0435\\u0432\\u0448\\u0438\\u0439 \\u0436\\u0451\\u0441\\u0442\\u043a\\u0438\\u0439 \\u0434\\u0438\\u0441\\u043a \\u0434\\u0440\\u0443\\u0433\\u043e\\u0439 \\u043d\\u043e\\u0441\\u0438\\u0442\\u0435\\u043b\\u044c \\u0438\\u043d\\u0444\\u043e\\u0440\\u043c\\u0430\\u0446\\u0438\\u044f \\u0434\\u043e\\u043b\\u0436\\u043d\\u044b\\u0439 \\u043d\\u0430\\u0434\\u0451\\u0436\\u043d\\u043e \\u0443\\u043d\\u0438\\u0447\\u0442\\u043e\\u0436\\u0438\\u0442\\u044c \\u043f\\u0440\\u0435\\u0434\\u043e\\u0442\\u0432\\u0440\\u0430\\u0442\\u0438\\u0442\\u044c \\u0443\\u0442\\u0435\\u0447\\u043a\\u0430 \\u043a\\u043e\\u043d\\u0444\\u0438\\u0434\\u0435\\u043d\\u0446\\u0438\\u0430\\u043b\\u044c\\u043d\\u044b\\u0439 \\u0438\\u043d\\u0444\\u043e\\u0440\\u043c\\u0430\\u0446\\u0438\\u044f \\u043f\\u0440\\u043e\\u0433\\u0440\\u0430\\u043c\\u043c\\u043d\\u044b\\u0439 \\u0441\\u0442\\u0438\\u0440\\u0430\\u043d\\u0438\\u0435 \\u0434\\u0430\\u043d\\u043d\\u044b\\u0435 \\u0432\\u043f\\u043e\\u043b\\u043d\\u0435 \\u0434\\u043e\\u043f\\u043e\\u043b\\u043d\\u0438\\u0442\\u044c \\u0444\\u0438\\u0437\\u0438\\u0447\\u0435\\u0441\\u043a\\u0438\\u0439 \\u0443\\u043d\\u0438\\u0447\\u0442\\u043e\\u0436\\u0435\\u043d\\u0438\\u0435 \\u043d\\u043e\\u0441\\u0438\\u0442\\u0435\\u043b\\u044c \\u044d\\u0442\\u043e \\u043d\\u0435\\u043e\\u0431\\u0445\\u043e\\u0434\\u0438\\u043c\\u043e\",\n          \"\\u0440\\u0438\\u0441\\u0443\\u043d\\u043e\\u043a 13 \\u043e\\u0431\\u043b\\u0430\\u0441\\u0442\\u044c \\u0434\\u0435\\u0442\\u0430\\u043b\\u044c\\u043d\\u044b\\u0439 \\u0438\\u043d\\u0444\\u043e\\u0440\\u043c\\u0430\\u0446\\u0438\\u044f \\u0442\\u0435\\u0441\\u0442\\u043e\\u0432\\u044b\\u0439 \\u0441\\u043b\\u0443\\u0447\\u0430\\u0439 \\u044d\\u043a\\u043e\\u043d\\u043e\\u043c\\u0438\\u0447\\u0435\\u0441\\u043a\\u0438\\u0439 \\u043e\\u0431\\u043e\\u0441\\u043d\\u043e\\u0432\\u0430\\u043d\\u0438\\u0435 \\u0440\\u0430\\u0431\\u043e\\u0442\\u0430 4 1 \\u043f\\u043b\\u0430\\u043d\\u0438\\u0440\\u043e\\u0432\\u0430\\u043d\\u0438\\u0435 \\u0440\\u0430\\u0431\\u043e\\u0442\\u0430 projectlibre \\u044f\\u0432\\u043b\\u044f\\u0442\\u044c\\u0441\\u044f \\u043e\\u0442\\u043a\\u0440\\u044b\\u0442\\u044b\\u0439 \\u0434\\u043e\\u0441\\u0442\\u0443\\u043f\\u043d\\u044b\\u0439 \\u0438\\u043d\\u0441\\u0442\\u0440\\u0443\\u043c\\u0435\\u043d\\u0442 \\u043a\\u043e\\u0442\\u043e\\u0440\\u044b\\u0439 \\u043e\\u0431\\u043b\\u0435\\u0433\\u0447\\u0430\\u0442\\u044c \\u043f\\u0440\\u043e\\u0446\\u0435\\u0441\\u0441 \\u0443\\u043f\\u0440\\u0430\\u0432\\u043b\\u0435\\u043d\\u0438\\u0435 \\u043f\\u0440\\u043e\\u0435\\u043a\\u0442 \\u043f\\u0440\\u0435\\u0434\\u043e\\u0441\\u0442\\u0430\\u0432\\u043b\\u044f\\u0442\\u044c \\u043f\\u0440\\u043e\\u0444\\u0435\\u0441\\u0441\\u0438\\u043e\\u043d\\u0430\\u043b\\u044c\\u043d\\u044b\\u0439 \\u0432\\u043e\\u0437\\u043c\\u043e\\u0436\\u043d\\u043e\\u0441\\u0442\\u044c \\u043a\\u043e\\u0442\\u043e\\u0440\\u044b\\u0439 \\u0434\\u043e\\u0441\\u0442\\u0443\\u043f\\u043d\\u044b\\u0439 \\u0434\\u043e\\u0440\\u043e\\u0433\\u043e\\u0441\\u0442\\u043e\\u044f\\u0449\\u0438\\u0439 \\u043f\\u0440\\u043e\\u0433\\u0440\\u0430\\u043c\\u043c\\u043d\\u044b\\u0439 \\u043e\\u0431\\u0435\\u0441\\u043f\\u0435\\u0447\\u0435\\u043d\\u0438\\u0435 \\u043e\\u0431\\u044a\\u0435\\u0434\\u0438\\u043d\\u044f\\u0442\\u044c \\u0444\\u0443\\u043d\\u043a\\u0446\\u0438\\u044f \\u043d\\u0435\\u043e\\u0431\\u0445\\u043e\\u0434\\u0438\\u043c\\u044b\\u0439 \\u044d\\u0444\\u0444\\u0435\\u043a\\u0442\\u0438\\u0432\\u043d\\u044b\\u0439 \\u043f\\u043b\\u0430\\u043d\\u0438\\u0440\\u043e\\u0432\\u0430\\u043d\\u0438\\u0435 \\u0432\\u044b\\u043f\\u043e\\u043b\\u043d\\u0435\\u043d\\u0438\\u0435 \\u043c\\u043e\\u043d\\u0438\\u0442\\u043e\\u0440\\u0438\\u043d\\u0433 \\u043f\\u0440\\u043e\\u0435\\u043a\\u0442 \\u0434\\u0435\\u043b\\u0430\\u0442\\u044c \\u0446\\u0435\\u043d\\u043d\\u044b\\u0439 \\u0440\\u0435\\u0441\\u0443\\u0440\\u0441 \\u043c\\u0435\\u043d\\u0435\\u0434\\u0436\\u0435\\u0440 \\u043f\\u0440\\u043e\\u0435\\u043a\\u0442 \\u0441\\u0430\\u043c\\u044b\\u0439 \\u0440\\u0430\\u0437\\u043d\\u044b\\u0439 \\u0441\\u0444\\u0435\\u0440\\u0430 \\u0434\\u0435\\u044f\\u0442\\u0435\\u043b\\u044c\\u043d\\u043e\\u0441\\u0442\\u044c \\u0441\\u0442\\u0440\\u043e\\u0438\\u0442\\u0435\\u043b\\u044c\\u0441\\u0442\\u0432\\u043e \\u0440\\u0430\\u0437\\u0440\\u0430\\u0431\\u043e\\u0442\\u043a\\u0430 \\u043f\\u0440\\u043e\\u0433\\u0440\\u0430\\u043c\\u043c\\u043d\\u044b\\u0439 \\u043e\\u0431\\u0435\\u0441\\u043f\\u0435\\u0447\\u0435\\u043d\\u0438\\u0435 \\u0441\\u0440\\u0435\\u0434\\u0438 \\u043a\\u043b\\u044e\\u0447\\u0435\\u0432\\u043e\\u0439 \\u0444\\u0443\\u043d\\u043a\\u0446\\u0438\\u044f projectlibre \\u0434\\u0438\\u0430\\u0433\\u0440\\u0430\\u043c\\u043c\\u0430 \\u0433\\u0430\\u043d\\u0442\\u0442\\u0430 \\u043a\\u043e\\u0442\\u043e\\u0440\\u044b\\u0439 \\u044f\\u0432\\u043b\\u044f\\u0442\\u044c\\u0441\\u044f \\u0441\\u0442\\u0430\\u043d\\u0434\\u0430\\u0440\\u0442 \\u0434\\u0435\\u0444\\u0430\\u043a\\u0442\\u043e \\u0432\\u0438\\u0437\\u0443\\u0430\\u043b\\u0438\\u0437\\u0430\\u0446\\u0438\\u044f \\u0433\\u0440\\u0430\\u0444\\u0438\\u043a\\u0430 \\u043f\\u0440\\u043e\\u0435\\u043a\\u0442 \\u043f\\u043e\\u0437\\u0432\\u043e\\u043b\\u044f\\u0442\\u044c \\u043f\\u043e\\u043b\\u044c\\u0437\\u043e\\u0432\\u0430\\u0442\\u0435\\u043b\\u044c \\u043d\\u0430\\u0433\\u043b\\u044f\\u0434\\u043d\\u043e \\u043e\\u0442\\u0441\\u043b\\u0435\\u0436\\u0438\\u0432\\u0430\\u0442\\u044c \\u043f\\u0440\\u043e\\u0433\\u0440\\u0435\\u0441\\u0441 \\u0437\\u0430\\u0434\\u0430\\u0447\\u0430 \\u0432\\u0437\\u0430\\u0438\\u043c\\u043e\\u0441\\u0432\\u044f\\u0437\\u044c \\u0442\\u0430\\u043a\\u0436\\u0435 \\u0443\\u0441\\u0442\\u0430\\u043d\\u0430\\u0432\\u043b\\u0438\\u0432\\u0430\\u0442\\u044c \\u0432\\u0435\\u0445\\u0430\",\n          \"\\u0441\\u043e\\u0437\\u0434\\u0430\\u0442\\u044c \\u043f\\u0440\\u0438\\u043b\\u043e\\u0436\\u0435\\u043d\\u0438\\u0435 \\u0438\\u0433\\u0440\\u0430 unity \\u0440\\u0430\\u0431\\u043e\\u0442\\u0430\\u0442\\u044c \\u0431\\u043e\\u043b\\u044c\\u0448\\u0438\\u043d\\u0441\\u0442\\u0432\\u043e \\u043e\\u043f\\u0435\\u0440\\u0430\\u0446\\u0438\\u043e\\u043d\\u043d\\u044b\\u0439 \\u0441\\u0438\\u0441\\u0442\\u0435\\u043c\\u0430 \\u0438\\u0433\\u0440\\u043e\\u0432\\u043e\\u0439 \\u0434\\u0432\\u0438\\u0436\\u043e\\u043a \\u0438\\u043c\\u0435\\u0442\\u044c \\u043f\\u0440\\u043e\\u0441\\u0442\\u043e\\u0439 dragdrop \\u0438\\u043d\\u0442\\u0435\\u0440\\u0444\\u0435\\u0439\\u0441 \\u043a\\u043e\\u0442\\u043e\\u0440\\u044b\\u0439 \\u043b\\u0435\\u0433\\u043a\\u043e \\u043d\\u0430\\u0441\\u0442\\u0440\\u043e\\u0438\\u0442\\u044c \\u0441\\u0432\\u043e\\u0439 \\u043d\\u0443\\u0436\\u0434\\u0430 \\u0441\\u043e\\u0441\\u0442\\u043e\\u044f\\u0442\\u044c \\u0440\\u0430\\u0437\\u043b\\u0438\\u0447\\u043d\\u044b\\u0439 \\u043e\\u043a\\u043d\\u043e \\u0431\\u043b\\u0430\\u0433\\u043e\\u0434\\u0430\\u0440\\u044f \\u0447\\u0442\\u043e \\u043e\\u0442\\u043b\\u0430\\u0434\\u043a\\u0430 \\u0438\\u0433\\u0440\\u0430 \\u043f\\u0440\\u043e\\u0438\\u0437\\u0432\\u043e\\u0434\\u0438\\u0442\\u044c \\u043f\\u0440\\u044f\\u043c\\u043e \\u0440\\u0435\\u0434\\u0430\\u043a\\u0442\\u043e\\u0440 \\u0434\\u0432\\u0438\\u0436\\u043e\\u043a \\u043f\\u043e\\u0434\\u0434\\u0435\\u0440\\u0436\\u0438\\u0432\\u0430\\u0442\\u044c \\u044f\\u0437\\u044b\\u043a \\u043f\\u0440\\u043e\\u0433\\u0440\\u0430\\u043c\\u043c\\u0438\\u0440\\u043e\\u0432\\u0430\\u043d\\u0438\\u0435 c javascript boo \\u0440\\u0430\\u0441\\u0447\\u0451\\u0442 \\u0444\\u0438\\u0437\\u0438\\u043a \\u043f\\u0440\\u043e\\u0432\\u043e\\u0434\\u0438\\u0442\\u044c\\u0441\\u044f \\u043f\\u043e\\u043c\\u043e\\u0449\\u044c \\u0442\\u0435\\u0445\\u043d\\u043e\\u043b\\u043e\\u0433\\u0438\\u044f physx \\u043a\\u043e\\u043c\\u043f\\u0430\\u043d\\u0438\\u044f nvidia\"\n        ],\n        \"semantic_type\": \"\",\n        \"description\": \"\"\n      }\n    },\n    {\n      \"column\": \"label\",\n      \"properties\": {\n        \"dtype\": \"number\",\n        \"std\": 0,\n        \"min\": 0,\n        \"max\": 1,\n        \"num_unique_values\": 2,\n        \"samples\": [\n          1,\n          0\n        ],\n        \"semantic_type\": \"\",\n        \"description\": \"\"\n      }\n    }\n  ]\n}"
            }
          },
          "metadata": {},
          "execution_count": 10
        }
      ]
    },
    {
      "cell_type": "markdown",
      "source": [
        "**Делим выборку на train и test**"
      ],
      "metadata": {
        "id": "pHlfOwyGiVQ0"
      }
    },
    {
      "cell_type": "code",
      "source": [
        "test_size = 0.3\n",
        "\n",
        "X_train, X_test, y_train, y_test = train_test_split(df['text'],\n",
        "                                                    df['label'],\n",
        "                                                    test_size=test_size,\n",
        "                                                    random_state=42)\n"
      ],
      "metadata": {
        "id": "QbInj3Jd8eul"
      },
      "execution_count": null,
      "outputs": []
    },
    {
      "cell_type": "markdown",
      "source": [
        "**Функции для сохранения и загрузки моделей и векторизатора**"
      ],
      "metadata": {
        "id": "u0qxinEMiorQ"
      }
    },
    {
      "cell_type": "code",
      "source": [
        "def get_models():\n",
        "    return {\n",
        "        'RandomForest': RandomForestClassifier(bootstrap=True, n_estimators=100, n_jobs=-1),\n",
        "        \"GB\": GradientBoostingClassifier(n_estimators=100),\n",
        "        \"kNN\": KNeighborsClassifier(),\n",
        "        \"LogisticRegression\": LogisticRegression(),\n",
        "        \"SVC\": SVC(kernel='rbf')\n",
        "    }\n",
        "\n",
        "# Функция для сохранения моделей и векторизатора\n",
        "def save_models(models, vectorizer):\n",
        "    for name, model in models.items():\n",
        "        with open(f'{name}_model.pkl', 'wb') as f:\n",
        "            pickle.dump(model, f)\n",
        "\n",
        "    with open('vectorizer.pkl', 'wb') as f:\n",
        "        pickle.dump(vectorizer, f)\n",
        "\n",
        "# Функция для загрузки моделей и векторизатора\n",
        "def load_models():\n",
        "    loaded_models = {}\n",
        "    model_names = ['RandomForest', 'GB', 'kNN', 'LogisticRegression', 'SVC']\n",
        "\n",
        "    for name in model_names:\n",
        "        with open(f'{name}_model.pkl', 'rb') as f:\n",
        "            loaded_models[name] = pickle.load(f)\n",
        "\n",
        "    with open('vectorizer.pkl', 'rb') as f:\n",
        "        vectorizer = pickle.load(f)\n",
        "\n",
        "    return loaded_models, vectorizer\n",
        "\n"
      ],
      "metadata": {
        "id": "W0OumVPmsH0y"
      },
      "execution_count": null,
      "outputs": []
    },
    {
      "cell_type": "markdown",
      "source": [
        "**Векторизуем текст с помощью TF-IDF векторизатора**"
      ],
      "metadata": {
        "id": "vBAMuyTpi41K"
      }
    },
    {
      "cell_type": "code",
      "source": [
        "# Основной код\n",
        "vectorizer = TfidfVectorizer()\n",
        "\n",
        "X_train_TFIDF = vectorizer.fit_transform(X_train)\n",
        "X_test_TFIDF = vectorizer.transform(X_test)"
      ],
      "metadata": {
        "id": "-yzy34i5-Aje"
      },
      "execution_count": null,
      "outputs": []
    },
    {
      "cell_type": "markdown",
      "source": [
        "**Обучаем и сохраняем модели**"
      ],
      "metadata": {
        "id": "B8u6oK1hjHE2"
      }
    },
    {
      "cell_type": "code",
      "source": [
        "metrics = {}\n",
        "models = get_models()\n",
        "for name, model in models.items():\n",
        "    print(name)\n",
        "    clf = model.fit(X_train_TFIDF, y_train)\n",
        "    y_predict_TFIDF = clf.predict(X_test_TFIDF)\n",
        "    score = f1_score(y_predict_TFIDF, y_test)\n",
        "    metrics[name] = score\n",
        "\n",
        "# Сохранение обученных моделей и векторизатора\n",
        "save_models(models, vectorizer)\n"
      ],
      "metadata": {
        "colab": {
          "base_uri": "https://localhost:8080/"
        },
        "id": "-i0rrrKr97FU",
        "outputId": "2231306f-a4a5-4153-a58d-fd9ec84a0e52"
      },
      "execution_count": null,
      "outputs": [
        {
          "output_type": "stream",
          "name": "stdout",
          "text": [
            "RandomForest\n",
            "GB\n",
            "kNN\n",
            "LogisticRegression\n",
            "SVC\n"
          ]
        }
      ]
    },
    {
      "cell_type": "markdown",
      "source": [
        "**Оцениваем качество моделей**"
      ],
      "metadata": {
        "id": "rQMHUzh5jV5q"
      }
    },
    {
      "cell_type": "code",
      "source": [
        "df_metrics = pd.DataFrame.from_dict(metrics, orient='index').reset_index()\n",
        "df_metrics.columns = ['model', 'f1_score']"
      ],
      "metadata": {
        "id": "NusMGlCZABkO"
      },
      "execution_count": null,
      "outputs": []
    },
    {
      "cell_type": "code",
      "source": [
        "df_metrics"
      ],
      "metadata": {
        "colab": {
          "base_uri": "https://localhost:8080/",
          "height": 206
        },
        "id": "njRDfzcqADsN",
        "outputId": "cfebfcb3-b250-40a1-846d-af8dcba8ef71"
      },
      "execution_count": null,
      "outputs": [
        {
          "output_type": "execute_result",
          "data": {
            "text/plain": [
              "                model  f1_score\n",
              "0        RandomForest  0.801853\n",
              "1                  GB  0.759892\n",
              "2                 kNN  0.825248\n",
              "3  LogisticRegression  0.836903\n",
              "4                 SVC  0.852696"
            ],
            "text/html": [
              "\n",
              "  <div id=\"df-f689d40c-843e-44f2-9a1f-3c6438dfa6fb\" class=\"colab-df-container\">\n",
              "    <div>\n",
              "<style scoped>\n",
              "    .dataframe tbody tr th:only-of-type {\n",
              "        vertical-align: middle;\n",
              "    }\n",
              "\n",
              "    .dataframe tbody tr th {\n",
              "        vertical-align: top;\n",
              "    }\n",
              "\n",
              "    .dataframe thead th {\n",
              "        text-align: right;\n",
              "    }\n",
              "</style>\n",
              "<table border=\"1\" class=\"dataframe\">\n",
              "  <thead>\n",
              "    <tr style=\"text-align: right;\">\n",
              "      <th></th>\n",
              "      <th>model</th>\n",
              "      <th>f1_score</th>\n",
              "    </tr>\n",
              "  </thead>\n",
              "  <tbody>\n",
              "    <tr>\n",
              "      <th>0</th>\n",
              "      <td>RandomForest</td>\n",
              "      <td>0.801853</td>\n",
              "    </tr>\n",
              "    <tr>\n",
              "      <th>1</th>\n",
              "      <td>GB</td>\n",
              "      <td>0.759892</td>\n",
              "    </tr>\n",
              "    <tr>\n",
              "      <th>2</th>\n",
              "      <td>kNN</td>\n",
              "      <td>0.825248</td>\n",
              "    </tr>\n",
              "    <tr>\n",
              "      <th>3</th>\n",
              "      <td>LogisticRegression</td>\n",
              "      <td>0.836903</td>\n",
              "    </tr>\n",
              "    <tr>\n",
              "      <th>4</th>\n",
              "      <td>SVC</td>\n",
              "      <td>0.852696</td>\n",
              "    </tr>\n",
              "  </tbody>\n",
              "</table>\n",
              "</div>\n",
              "    <div class=\"colab-df-buttons\">\n",
              "\n",
              "  <div class=\"colab-df-container\">\n",
              "    <button class=\"colab-df-convert\" onclick=\"convertToInteractive('df-f689d40c-843e-44f2-9a1f-3c6438dfa6fb')\"\n",
              "            title=\"Convert this dataframe to an interactive table.\"\n",
              "            style=\"display:none;\">\n",
              "\n",
              "  <svg xmlns=\"http://www.w3.org/2000/svg\" height=\"24px\" viewBox=\"0 -960 960 960\">\n",
              "    <path d=\"M120-120v-720h720v720H120Zm60-500h600v-160H180v160Zm220 220h160v-160H400v160Zm0 220h160v-160H400v160ZM180-400h160v-160H180v160Zm440 0h160v-160H620v160ZM180-180h160v-160H180v160Zm440 0h160v-160H620v160Z\"/>\n",
              "  </svg>\n",
              "    </button>\n",
              "\n",
              "  <style>\n",
              "    .colab-df-container {\n",
              "      display:flex;\n",
              "      gap: 12px;\n",
              "    }\n",
              "\n",
              "    .colab-df-convert {\n",
              "      background-color: #E8F0FE;\n",
              "      border: none;\n",
              "      border-radius: 50%;\n",
              "      cursor: pointer;\n",
              "      display: none;\n",
              "      fill: #1967D2;\n",
              "      height: 32px;\n",
              "      padding: 0 0 0 0;\n",
              "      width: 32px;\n",
              "    }\n",
              "\n",
              "    .colab-df-convert:hover {\n",
              "      background-color: #E2EBFA;\n",
              "      box-shadow: 0px 1px 2px rgba(60, 64, 67, 0.3), 0px 1px 3px 1px rgba(60, 64, 67, 0.15);\n",
              "      fill: #174EA6;\n",
              "    }\n",
              "\n",
              "    .colab-df-buttons div {\n",
              "      margin-bottom: 4px;\n",
              "    }\n",
              "\n",
              "    [theme=dark] .colab-df-convert {\n",
              "      background-color: #3B4455;\n",
              "      fill: #D2E3FC;\n",
              "    }\n",
              "\n",
              "    [theme=dark] .colab-df-convert:hover {\n",
              "      background-color: #434B5C;\n",
              "      box-shadow: 0px 1px 3px 1px rgba(0, 0, 0, 0.15);\n",
              "      filter: drop-shadow(0px 1px 2px rgba(0, 0, 0, 0.3));\n",
              "      fill: #FFFFFF;\n",
              "    }\n",
              "  </style>\n",
              "\n",
              "    <script>\n",
              "      const buttonEl =\n",
              "        document.querySelector('#df-f689d40c-843e-44f2-9a1f-3c6438dfa6fb button.colab-df-convert');\n",
              "      buttonEl.style.display =\n",
              "        google.colab.kernel.accessAllowed ? 'block' : 'none';\n",
              "\n",
              "      async function convertToInteractive(key) {\n",
              "        const element = document.querySelector('#df-f689d40c-843e-44f2-9a1f-3c6438dfa6fb');\n",
              "        const dataTable =\n",
              "          await google.colab.kernel.invokeFunction('convertToInteractive',\n",
              "                                                    [key], {});\n",
              "        if (!dataTable) return;\n",
              "\n",
              "        const docLinkHtml = 'Like what you see? Visit the ' +\n",
              "          '<a target=\"_blank\" href=https://colab.research.google.com/notebooks/data_table.ipynb>data table notebook</a>'\n",
              "          + ' to learn more about interactive tables.';\n",
              "        element.innerHTML = '';\n",
              "        dataTable['output_type'] = 'display_data';\n",
              "        await google.colab.output.renderOutput(dataTable, element);\n",
              "        const docLink = document.createElement('div');\n",
              "        docLink.innerHTML = docLinkHtml;\n",
              "        element.appendChild(docLink);\n",
              "      }\n",
              "    </script>\n",
              "  </div>\n",
              "\n",
              "\n",
              "<div id=\"df-4e1e7a17-ba13-4ae4-8030-1c7529f1e9ed\">\n",
              "  <button class=\"colab-df-quickchart\" onclick=\"quickchart('df-4e1e7a17-ba13-4ae4-8030-1c7529f1e9ed')\"\n",
              "            title=\"Suggest charts\"\n",
              "            style=\"display:none;\">\n",
              "\n",
              "<svg xmlns=\"http://www.w3.org/2000/svg\" height=\"24px\"viewBox=\"0 0 24 24\"\n",
              "     width=\"24px\">\n",
              "    <g>\n",
              "        <path d=\"M19 3H5c-1.1 0-2 .9-2 2v14c0 1.1.9 2 2 2h14c1.1 0 2-.9 2-2V5c0-1.1-.9-2-2-2zM9 17H7v-7h2v7zm4 0h-2V7h2v10zm4 0h-2v-4h2v4z\"/>\n",
              "    </g>\n",
              "</svg>\n",
              "  </button>\n",
              "\n",
              "<style>\n",
              "  .colab-df-quickchart {\n",
              "      --bg-color: #E8F0FE;\n",
              "      --fill-color: #1967D2;\n",
              "      --hover-bg-color: #E2EBFA;\n",
              "      --hover-fill-color: #174EA6;\n",
              "      --disabled-fill-color: #AAA;\n",
              "      --disabled-bg-color: #DDD;\n",
              "  }\n",
              "\n",
              "  [theme=dark] .colab-df-quickchart {\n",
              "      --bg-color: #3B4455;\n",
              "      --fill-color: #D2E3FC;\n",
              "      --hover-bg-color: #434B5C;\n",
              "      --hover-fill-color: #FFFFFF;\n",
              "      --disabled-bg-color: #3B4455;\n",
              "      --disabled-fill-color: #666;\n",
              "  }\n",
              "\n",
              "  .colab-df-quickchart {\n",
              "    background-color: var(--bg-color);\n",
              "    border: none;\n",
              "    border-radius: 50%;\n",
              "    cursor: pointer;\n",
              "    display: none;\n",
              "    fill: var(--fill-color);\n",
              "    height: 32px;\n",
              "    padding: 0;\n",
              "    width: 32px;\n",
              "  }\n",
              "\n",
              "  .colab-df-quickchart:hover {\n",
              "    background-color: var(--hover-bg-color);\n",
              "    box-shadow: 0 1px 2px rgba(60, 64, 67, 0.3), 0 1px 3px 1px rgba(60, 64, 67, 0.15);\n",
              "    fill: var(--button-hover-fill-color);\n",
              "  }\n",
              "\n",
              "  .colab-df-quickchart-complete:disabled,\n",
              "  .colab-df-quickchart-complete:disabled:hover {\n",
              "    background-color: var(--disabled-bg-color);\n",
              "    fill: var(--disabled-fill-color);\n",
              "    box-shadow: none;\n",
              "  }\n",
              "\n",
              "  .colab-df-spinner {\n",
              "    border: 2px solid var(--fill-color);\n",
              "    border-color: transparent;\n",
              "    border-bottom-color: var(--fill-color);\n",
              "    animation:\n",
              "      spin 1s steps(1) infinite;\n",
              "  }\n",
              "\n",
              "  @keyframes spin {\n",
              "    0% {\n",
              "      border-color: transparent;\n",
              "      border-bottom-color: var(--fill-color);\n",
              "      border-left-color: var(--fill-color);\n",
              "    }\n",
              "    20% {\n",
              "      border-color: transparent;\n",
              "      border-left-color: var(--fill-color);\n",
              "      border-top-color: var(--fill-color);\n",
              "    }\n",
              "    30% {\n",
              "      border-color: transparent;\n",
              "      border-left-color: var(--fill-color);\n",
              "      border-top-color: var(--fill-color);\n",
              "      border-right-color: var(--fill-color);\n",
              "    }\n",
              "    40% {\n",
              "      border-color: transparent;\n",
              "      border-right-color: var(--fill-color);\n",
              "      border-top-color: var(--fill-color);\n",
              "    }\n",
              "    60% {\n",
              "      border-color: transparent;\n",
              "      border-right-color: var(--fill-color);\n",
              "    }\n",
              "    80% {\n",
              "      border-color: transparent;\n",
              "      border-right-color: var(--fill-color);\n",
              "      border-bottom-color: var(--fill-color);\n",
              "    }\n",
              "    90% {\n",
              "      border-color: transparent;\n",
              "      border-bottom-color: var(--fill-color);\n",
              "    }\n",
              "  }\n",
              "</style>\n",
              "\n",
              "  <script>\n",
              "    async function quickchart(key) {\n",
              "      const quickchartButtonEl =\n",
              "        document.querySelector('#' + key + ' button');\n",
              "      quickchartButtonEl.disabled = true;  // To prevent multiple clicks.\n",
              "      quickchartButtonEl.classList.add('colab-df-spinner');\n",
              "      try {\n",
              "        const charts = await google.colab.kernel.invokeFunction(\n",
              "            'suggestCharts', [key], {});\n",
              "      } catch (error) {\n",
              "        console.error('Error during call to suggestCharts:', error);\n",
              "      }\n",
              "      quickchartButtonEl.classList.remove('colab-df-spinner');\n",
              "      quickchartButtonEl.classList.add('colab-df-quickchart-complete');\n",
              "    }\n",
              "    (() => {\n",
              "      let quickchartButtonEl =\n",
              "        document.querySelector('#df-4e1e7a17-ba13-4ae4-8030-1c7529f1e9ed button');\n",
              "      quickchartButtonEl.style.display =\n",
              "        google.colab.kernel.accessAllowed ? 'block' : 'none';\n",
              "    })();\n",
              "  </script>\n",
              "</div>\n",
              "    </div>\n",
              "  </div>\n"
            ],
            "application/vnd.google.colaboratory.intrinsic+json": {
              "type": "dataframe",
              "variable_name": "df_metrics",
              "summary": "{\n  \"name\": \"df_metrics\",\n  \"rows\": 5,\n  \"fields\": [\n    {\n      \"column\": \"model\",\n      \"properties\": {\n        \"dtype\": \"string\",\n        \"num_unique_values\": 5,\n        \"samples\": [\n          \"GB\",\n          \"SVC\",\n          \"kNN\"\n        ],\n        \"semantic_type\": \"\",\n        \"description\": \"\"\n      }\n    },\n    {\n      \"column\": \"f1_score\",\n      \"properties\": {\n        \"dtype\": \"number\",\n        \"std\": 0.036107520640105466,\n        \"min\": 0.7598915989159892,\n        \"max\": 0.8526959421901056,\n        \"num_unique_values\": 5,\n        \"samples\": [\n          0.7598915989159892,\n          0.8526959421901056,\n          0.8252477829942619\n        ],\n        \"semantic_type\": \"\",\n        \"description\": \"\"\n      }\n    }\n  ]\n}"
            }
          },
          "metadata": {},
          "execution_count": 16
        }
      ]
    },
    {
      "cell_type": "markdown",
      "source": [
        "**Загружаем модели и классифицируем произвольный текст**"
      ],
      "metadata": {
        "id": "M-9omFU7jkju"
      }
    },
    {
      "cell_type": "code",
      "source": [
        "# Пример использования сохраненных моделей\n",
        "loaded_models, loaded_vectorizer = load_models()"
      ],
      "metadata": {
        "id": "D02b0HnZ-LWq"
      },
      "execution_count": null,
      "outputs": []
    },
    {
      "cell_type": "code",
      "source": [
        "paragraph = [\"Пользователи, или клиенты, могут отправлять, получать, просматривать и управлять документами через специальные приложения, которые взаимодействуют с сервером ис учёта ресурсов. Таким образом, ис учёта ресурсов обычно использует клиентсерверную архитектуру, где сервер обрабатывает запросы на поставку и хранение материалов, а клиенты работают с этой системой через свои приложения. Клиентсерверная архитектура в ис учёта ресурсов предприятия обеспечивает удобство и эффективность для пользователей. Клиенты могут использовать специализированные приложения для взаимодействия с сервером, отправлять. Сервер, в свою очередь, обеспечивает централизованное хранение данных, обработку запросов, контроль доступа и безопасность информации.\"]"
      ],
      "metadata": {
        "id": "LwTcznEHUXBG"
      },
      "execution_count": null,
      "outputs": []
    },
    {
      "cell_type": "code",
      "source": [
        "preprocessed_paragraph = preprocess_text(paragraph)"
      ],
      "metadata": {
        "id": "nqA-5sb4KDt5"
      },
      "execution_count": null,
      "outputs": []
    },
    {
      "cell_type": "code",
      "source": [
        "# Вывод результата для проверки\n",
        "print(preprocessed_paragraph)"
      ],
      "metadata": {
        "colab": {
          "base_uri": "https://localhost:8080/"
        },
        "id": "HEwQyENHKqgi",
        "outputId": "2e8e4945-cbd2-4fc7-a737-1e47ea61a06d"
      },
      "execution_count": null,
      "outputs": [
        {
          "output_type": "stream",
          "name": "stdout",
          "text": [
            "пользователь клиент мочь отправлять получать просматривать управлять документ специальный приложение который взаимодействовать сервер иса учёт ресурс такой образ иса учёт ресурс обычно использовать клиентсерверный архитектура сервер обрабатывать запрос поставка хранение материал клиент работать система свой приложение клиентсерверный архитектура иса учёт ресурс предприятие обеспечивать удобство эффективность пользователь клиент мочь использовать специализировать приложение взаимодействие сервер отправлять сервер очередь обеспечивать централизовать хранение данные обработка запрос контроль доступ безопасность информация\n"
          ]
        }
      ]
    },
    {
      "cell_type": "code",
      "source": [
        "# Предсказание на новых данных\n",
        "new_data = [preprocessed_paragraph]\n",
        "new_data_vectorized = loaded_vectorizer.transform(new_data)"
      ],
      "metadata": {
        "id": "3sah1h3g-eMN"
      },
      "execution_count": null,
      "outputs": []
    },
    {
      "cell_type": "markdown",
      "source": [
        "**результаты классификации произвольного текста для разных моделей на признаках TF-IDF**"
      ],
      "metadata": {
        "id": "GWSnP89BjyPB"
      }
    },
    {
      "cell_type": "code",
      "source": [
        "for name, model in loaded_models.items():\n",
        "    prediction = model.predict(new_data_vectorized)\n",
        "    print(f\"Предсказание модели {name}: {prediction}\")"
      ],
      "metadata": {
        "colab": {
          "base_uri": "https://localhost:8080/"
        },
        "id": "MRXObJQ1-ucv",
        "outputId": "dc6dc288-e2f4-40c6-f3de-f4897ce9b28a"
      },
      "execution_count": null,
      "outputs": [
        {
          "output_type": "stream",
          "name": "stdout",
          "text": [
            "Предсказание модели RandomForest: [1]\n",
            "Предсказание модели GB: [1]\n",
            "Предсказание модели kNN: [1]\n",
            "Предсказание модели LogisticRegression: [1]\n",
            "Предсказание модели SVC: [1]\n"
          ]
        }
      ]
    },
    {
      "cell_type": "markdown",
      "source": [
        "==================================================================================================================="
      ],
      "metadata": {
        "id": "MHzvOHTFpXnu"
      }
    },
    {
      "cell_type": "markdown",
      "source": [
        "#Классификация текста на новых числовых признаках"
      ],
      "metadata": {
        "id": "-wQdwIqQpXOD"
      }
    },
    {
      "cell_type": "markdown",
      "source": [
        "**Установка библиотек**"
      ],
      "metadata": {
        "id": "SawqfJhJl6nh"
      }
    },
    {
      "cell_type": "code",
      "source": [
        "!pip install spacy"
      ],
      "metadata": {
        "colab": {
          "base_uri": "https://localhost:8080/"
        },
        "id": "9UATE_cIpYKU",
        "outputId": "f9566bea-55f0-40d0-c727-4d7d8e2dfc44"
      },
      "execution_count": null,
      "outputs": [
        {
          "output_type": "stream",
          "name": "stdout",
          "text": [
            "Requirement already satisfied: spacy in /usr/local/lib/python3.10/dist-packages (3.7.6)\n",
            "Requirement already satisfied: spacy-legacy<3.1.0,>=3.0.11 in /usr/local/lib/python3.10/dist-packages (from spacy) (3.0.12)\n",
            "Requirement already satisfied: spacy-loggers<2.0.0,>=1.0.0 in /usr/local/lib/python3.10/dist-packages (from spacy) (1.0.5)\n",
            "Requirement already satisfied: murmurhash<1.1.0,>=0.28.0 in /usr/local/lib/python3.10/dist-packages (from spacy) (1.0.10)\n",
            "Requirement already satisfied: cymem<2.1.0,>=2.0.2 in /usr/local/lib/python3.10/dist-packages (from spacy) (2.0.8)\n",
            "Requirement already satisfied: preshed<3.1.0,>=3.0.2 in /usr/local/lib/python3.10/dist-packages (from spacy) (3.0.9)\n",
            "Requirement already satisfied: thinc<8.3.0,>=8.2.2 in /usr/local/lib/python3.10/dist-packages (from spacy) (8.2.5)\n",
            "Requirement already satisfied: wasabi<1.2.0,>=0.9.1 in /usr/local/lib/python3.10/dist-packages (from spacy) (1.1.3)\n",
            "Requirement already satisfied: srsly<3.0.0,>=2.4.3 in /usr/local/lib/python3.10/dist-packages (from spacy) (2.4.8)\n",
            "Requirement already satisfied: catalogue<2.1.0,>=2.0.6 in /usr/local/lib/python3.10/dist-packages (from spacy) (2.0.10)\n",
            "Requirement already satisfied: weasel<0.5.0,>=0.1.0 in /usr/local/lib/python3.10/dist-packages (from spacy) (0.4.1)\n",
            "Requirement already satisfied: typer<1.0.0,>=0.3.0 in /usr/local/lib/python3.10/dist-packages (from spacy) (0.12.5)\n",
            "Requirement already satisfied: tqdm<5.0.0,>=4.38.0 in /usr/local/lib/python3.10/dist-packages (from spacy) (4.66.5)\n",
            "Requirement already satisfied: requests<3.0.0,>=2.13.0 in /usr/local/lib/python3.10/dist-packages (from spacy) (2.32.3)\n",
            "Requirement already satisfied: pydantic!=1.8,!=1.8.1,<3.0.0,>=1.7.4 in /usr/local/lib/python3.10/dist-packages (from spacy) (2.8.2)\n",
            "Requirement already satisfied: jinja2 in /usr/local/lib/python3.10/dist-packages (from spacy) (3.1.4)\n",
            "Requirement already satisfied: setuptools in /usr/local/lib/python3.10/dist-packages (from spacy) (71.0.4)\n",
            "Requirement already satisfied: packaging>=20.0 in /usr/local/lib/python3.10/dist-packages (from spacy) (24.1)\n",
            "Requirement already satisfied: langcodes<4.0.0,>=3.2.0 in /usr/local/lib/python3.10/dist-packages (from spacy) (3.4.0)\n",
            "Requirement already satisfied: numpy>=1.19.0 in /usr/local/lib/python3.10/dist-packages (from spacy) (1.26.4)\n",
            "Requirement already satisfied: language-data>=1.2 in /usr/local/lib/python3.10/dist-packages (from langcodes<4.0.0,>=3.2.0->spacy) (1.2.0)\n",
            "Requirement already satisfied: annotated-types>=0.4.0 in /usr/local/lib/python3.10/dist-packages (from pydantic!=1.8,!=1.8.1,<3.0.0,>=1.7.4->spacy) (0.7.0)\n",
            "Requirement already satisfied: pydantic-core==2.20.1 in /usr/local/lib/python3.10/dist-packages (from pydantic!=1.8,!=1.8.1,<3.0.0,>=1.7.4->spacy) (2.20.1)\n",
            "Requirement already satisfied: typing-extensions>=4.6.1 in /usr/local/lib/python3.10/dist-packages (from pydantic!=1.8,!=1.8.1,<3.0.0,>=1.7.4->spacy) (4.12.2)\n",
            "Requirement already satisfied: charset-normalizer<4,>=2 in /usr/local/lib/python3.10/dist-packages (from requests<3.0.0,>=2.13.0->spacy) (3.3.2)\n",
            "Requirement already satisfied: idna<4,>=2.5 in /usr/local/lib/python3.10/dist-packages (from requests<3.0.0,>=2.13.0->spacy) (3.8)\n",
            "Requirement already satisfied: urllib3<3,>=1.21.1 in /usr/local/lib/python3.10/dist-packages (from requests<3.0.0,>=2.13.0->spacy) (2.0.7)\n",
            "Requirement already satisfied: certifi>=2017.4.17 in /usr/local/lib/python3.10/dist-packages (from requests<3.0.0,>=2.13.0->spacy) (2024.8.30)\n",
            "Requirement already satisfied: blis<0.8.0,>=0.7.8 in /usr/local/lib/python3.10/dist-packages (from thinc<8.3.0,>=8.2.2->spacy) (0.7.11)\n",
            "Requirement already satisfied: confection<1.0.0,>=0.0.1 in /usr/local/lib/python3.10/dist-packages (from thinc<8.3.0,>=8.2.2->spacy) (0.1.5)\n",
            "Requirement already satisfied: click>=8.0.0 in /usr/local/lib/python3.10/dist-packages (from typer<1.0.0,>=0.3.0->spacy) (8.1.7)\n",
            "Requirement already satisfied: shellingham>=1.3.0 in /usr/local/lib/python3.10/dist-packages (from typer<1.0.0,>=0.3.0->spacy) (1.5.4)\n",
            "Requirement already satisfied: rich>=10.11.0 in /usr/local/lib/python3.10/dist-packages (from typer<1.0.0,>=0.3.0->spacy) (13.8.0)\n",
            "Requirement already satisfied: cloudpathlib<1.0.0,>=0.7.0 in /usr/local/lib/python3.10/dist-packages (from weasel<0.5.0,>=0.1.0->spacy) (0.19.0)\n",
            "Requirement already satisfied: smart-open<8.0.0,>=5.2.1 in /usr/local/lib/python3.10/dist-packages (from weasel<0.5.0,>=0.1.0->spacy) (7.0.4)\n",
            "Requirement already satisfied: MarkupSafe>=2.0 in /usr/local/lib/python3.10/dist-packages (from jinja2->spacy) (2.1.5)\n",
            "Requirement already satisfied: marisa-trie>=0.7.7 in /usr/local/lib/python3.10/dist-packages (from language-data>=1.2->langcodes<4.0.0,>=3.2.0->spacy) (1.2.0)\n",
            "Requirement already satisfied: markdown-it-py>=2.2.0 in /usr/local/lib/python3.10/dist-packages (from rich>=10.11.0->typer<1.0.0,>=0.3.0->spacy) (3.0.0)\n",
            "Requirement already satisfied: pygments<3.0.0,>=2.13.0 in /usr/local/lib/python3.10/dist-packages (from rich>=10.11.0->typer<1.0.0,>=0.3.0->spacy) (2.16.1)\n",
            "Requirement already satisfied: wrapt in /usr/local/lib/python3.10/dist-packages (from smart-open<8.0.0,>=5.2.1->weasel<0.5.0,>=0.1.0->spacy) (1.16.0)\n",
            "Requirement already satisfied: mdurl~=0.1 in /usr/local/lib/python3.10/dist-packages (from markdown-it-py>=2.2.0->rich>=10.11.0->typer<1.0.0,>=0.3.0->spacy) (0.1.2)\n"
          ]
        }
      ]
    },
    {
      "cell_type": "code",
      "source": [
        "!python -m spacy download ru_core_news_sm\n"
      ],
      "metadata": {
        "colab": {
          "base_uri": "https://localhost:8080/"
        },
        "id": "n4Dnu3dapcIR",
        "outputId": "c3f9f264-1d29-4743-cebf-cf2fdee12740"
      },
      "execution_count": null,
      "outputs": [
        {
          "output_type": "stream",
          "name": "stdout",
          "text": [
            "Collecting ru-core-news-sm==3.7.0\n",
            "  Downloading https://github.com/explosion/spacy-models/releases/download/ru_core_news_sm-3.7.0/ru_core_news_sm-3.7.0-py3-none-any.whl (15.3 MB)\n",
            "\u001b[2K     \u001b[90m━━━━━━━━━━━━━━━━━━━━━━━━━━━━━━━━━━━━━━━━\u001b[0m \u001b[32m15.3/15.3 MB\u001b[0m \u001b[31m29.5 MB/s\u001b[0m eta \u001b[36m0:00:00\u001b[0m\n",
            "\u001b[?25hRequirement already satisfied: spacy<3.8.0,>=3.7.0 in /usr/local/lib/python3.10/dist-packages (from ru-core-news-sm==3.7.0) (3.7.6)\n",
            "Collecting pymorphy3>=1.0.0 (from ru-core-news-sm==3.7.0)\n",
            "  Downloading pymorphy3-2.0.2-py3-none-any.whl.metadata (1.8 kB)\n",
            "Requirement already satisfied: dawg-python>=0.7.1 in /usr/local/lib/python3.10/dist-packages (from pymorphy3>=1.0.0->ru-core-news-sm==3.7.0) (0.7.2)\n",
            "Collecting pymorphy3-dicts-ru (from pymorphy3>=1.0.0->ru-core-news-sm==3.7.0)\n",
            "  Downloading pymorphy3_dicts_ru-2.4.417150.4580142-py2.py3-none-any.whl.metadata (2.0 kB)\n",
            "Requirement already satisfied: spacy-legacy<3.1.0,>=3.0.11 in /usr/local/lib/python3.10/dist-packages (from spacy<3.8.0,>=3.7.0->ru-core-news-sm==3.7.0) (3.0.12)\n",
            "Requirement already satisfied: spacy-loggers<2.0.0,>=1.0.0 in /usr/local/lib/python3.10/dist-packages (from spacy<3.8.0,>=3.7.0->ru-core-news-sm==3.7.0) (1.0.5)\n",
            "Requirement already satisfied: murmurhash<1.1.0,>=0.28.0 in /usr/local/lib/python3.10/dist-packages (from spacy<3.8.0,>=3.7.0->ru-core-news-sm==3.7.0) (1.0.10)\n",
            "Requirement already satisfied: cymem<2.1.0,>=2.0.2 in /usr/local/lib/python3.10/dist-packages (from spacy<3.8.0,>=3.7.0->ru-core-news-sm==3.7.0) (2.0.8)\n",
            "Requirement already satisfied: preshed<3.1.0,>=3.0.2 in /usr/local/lib/python3.10/dist-packages (from spacy<3.8.0,>=3.7.0->ru-core-news-sm==3.7.0) (3.0.9)\n",
            "Requirement already satisfied: thinc<8.3.0,>=8.2.2 in /usr/local/lib/python3.10/dist-packages (from spacy<3.8.0,>=3.7.0->ru-core-news-sm==3.7.0) (8.2.5)\n",
            "Requirement already satisfied: wasabi<1.2.0,>=0.9.1 in /usr/local/lib/python3.10/dist-packages (from spacy<3.8.0,>=3.7.0->ru-core-news-sm==3.7.0) (1.1.3)\n",
            "Requirement already satisfied: srsly<3.0.0,>=2.4.3 in /usr/local/lib/python3.10/dist-packages (from spacy<3.8.0,>=3.7.0->ru-core-news-sm==3.7.0) (2.4.8)\n",
            "Requirement already satisfied: catalogue<2.1.0,>=2.0.6 in /usr/local/lib/python3.10/dist-packages (from spacy<3.8.0,>=3.7.0->ru-core-news-sm==3.7.0) (2.0.10)\n",
            "Requirement already satisfied: weasel<0.5.0,>=0.1.0 in /usr/local/lib/python3.10/dist-packages (from spacy<3.8.0,>=3.7.0->ru-core-news-sm==3.7.0) (0.4.1)\n",
            "Requirement already satisfied: typer<1.0.0,>=0.3.0 in /usr/local/lib/python3.10/dist-packages (from spacy<3.8.0,>=3.7.0->ru-core-news-sm==3.7.0) (0.12.5)\n",
            "Requirement already satisfied: tqdm<5.0.0,>=4.38.0 in /usr/local/lib/python3.10/dist-packages (from spacy<3.8.0,>=3.7.0->ru-core-news-sm==3.7.0) (4.66.5)\n",
            "Requirement already satisfied: requests<3.0.0,>=2.13.0 in /usr/local/lib/python3.10/dist-packages (from spacy<3.8.0,>=3.7.0->ru-core-news-sm==3.7.0) (2.32.3)\n",
            "Requirement already satisfied: pydantic!=1.8,!=1.8.1,<3.0.0,>=1.7.4 in /usr/local/lib/python3.10/dist-packages (from spacy<3.8.0,>=3.7.0->ru-core-news-sm==3.7.0) (2.8.2)\n",
            "Requirement already satisfied: jinja2 in /usr/local/lib/python3.10/dist-packages (from spacy<3.8.0,>=3.7.0->ru-core-news-sm==3.7.0) (3.1.4)\n",
            "Requirement already satisfied: setuptools in /usr/local/lib/python3.10/dist-packages (from spacy<3.8.0,>=3.7.0->ru-core-news-sm==3.7.0) (71.0.4)\n",
            "Requirement already satisfied: packaging>=20.0 in /usr/local/lib/python3.10/dist-packages (from spacy<3.8.0,>=3.7.0->ru-core-news-sm==3.7.0) (24.1)\n",
            "Requirement already satisfied: langcodes<4.0.0,>=3.2.0 in /usr/local/lib/python3.10/dist-packages (from spacy<3.8.0,>=3.7.0->ru-core-news-sm==3.7.0) (3.4.0)\n",
            "Requirement already satisfied: numpy>=1.19.0 in /usr/local/lib/python3.10/dist-packages (from spacy<3.8.0,>=3.7.0->ru-core-news-sm==3.7.0) (1.26.4)\n",
            "Requirement already satisfied: language-data>=1.2 in /usr/local/lib/python3.10/dist-packages (from langcodes<4.0.0,>=3.2.0->spacy<3.8.0,>=3.7.0->ru-core-news-sm==3.7.0) (1.2.0)\n",
            "Requirement already satisfied: annotated-types>=0.4.0 in /usr/local/lib/python3.10/dist-packages (from pydantic!=1.8,!=1.8.1,<3.0.0,>=1.7.4->spacy<3.8.0,>=3.7.0->ru-core-news-sm==3.7.0) (0.7.0)\n",
            "Requirement already satisfied: pydantic-core==2.20.1 in /usr/local/lib/python3.10/dist-packages (from pydantic!=1.8,!=1.8.1,<3.0.0,>=1.7.4->spacy<3.8.0,>=3.7.0->ru-core-news-sm==3.7.0) (2.20.1)\n",
            "Requirement already satisfied: typing-extensions>=4.6.1 in /usr/local/lib/python3.10/dist-packages (from pydantic!=1.8,!=1.8.1,<3.0.0,>=1.7.4->spacy<3.8.0,>=3.7.0->ru-core-news-sm==3.7.0) (4.12.2)\n",
            "Requirement already satisfied: charset-normalizer<4,>=2 in /usr/local/lib/python3.10/dist-packages (from requests<3.0.0,>=2.13.0->spacy<3.8.0,>=3.7.0->ru-core-news-sm==3.7.0) (3.3.2)\n",
            "Requirement already satisfied: idna<4,>=2.5 in /usr/local/lib/python3.10/dist-packages (from requests<3.0.0,>=2.13.0->spacy<3.8.0,>=3.7.0->ru-core-news-sm==3.7.0) (3.8)\n",
            "Requirement already satisfied: urllib3<3,>=1.21.1 in /usr/local/lib/python3.10/dist-packages (from requests<3.0.0,>=2.13.0->spacy<3.8.0,>=3.7.0->ru-core-news-sm==3.7.0) (2.0.7)\n",
            "Requirement already satisfied: certifi>=2017.4.17 in /usr/local/lib/python3.10/dist-packages (from requests<3.0.0,>=2.13.0->spacy<3.8.0,>=3.7.0->ru-core-news-sm==3.7.0) (2024.8.30)\n",
            "Requirement already satisfied: blis<0.8.0,>=0.7.8 in /usr/local/lib/python3.10/dist-packages (from thinc<8.3.0,>=8.2.2->spacy<3.8.0,>=3.7.0->ru-core-news-sm==3.7.0) (0.7.11)\n",
            "Requirement already satisfied: confection<1.0.0,>=0.0.1 in /usr/local/lib/python3.10/dist-packages (from thinc<8.3.0,>=8.2.2->spacy<3.8.0,>=3.7.0->ru-core-news-sm==3.7.0) (0.1.5)\n",
            "Requirement already satisfied: click>=8.0.0 in /usr/local/lib/python3.10/dist-packages (from typer<1.0.0,>=0.3.0->spacy<3.8.0,>=3.7.0->ru-core-news-sm==3.7.0) (8.1.7)\n",
            "Requirement already satisfied: shellingham>=1.3.0 in /usr/local/lib/python3.10/dist-packages (from typer<1.0.0,>=0.3.0->spacy<3.8.0,>=3.7.0->ru-core-news-sm==3.7.0) (1.5.4)\n",
            "Requirement already satisfied: rich>=10.11.0 in /usr/local/lib/python3.10/dist-packages (from typer<1.0.0,>=0.3.0->spacy<3.8.0,>=3.7.0->ru-core-news-sm==3.7.0) (13.8.0)\n",
            "Requirement already satisfied: cloudpathlib<1.0.0,>=0.7.0 in /usr/local/lib/python3.10/dist-packages (from weasel<0.5.0,>=0.1.0->spacy<3.8.0,>=3.7.0->ru-core-news-sm==3.7.0) (0.19.0)\n",
            "Requirement already satisfied: smart-open<8.0.0,>=5.2.1 in /usr/local/lib/python3.10/dist-packages (from weasel<0.5.0,>=0.1.0->spacy<3.8.0,>=3.7.0->ru-core-news-sm==3.7.0) (7.0.4)\n",
            "Requirement already satisfied: MarkupSafe>=2.0 in /usr/local/lib/python3.10/dist-packages (from jinja2->spacy<3.8.0,>=3.7.0->ru-core-news-sm==3.7.0) (2.1.5)\n",
            "Requirement already satisfied: marisa-trie>=0.7.7 in /usr/local/lib/python3.10/dist-packages (from language-data>=1.2->langcodes<4.0.0,>=3.2.0->spacy<3.8.0,>=3.7.0->ru-core-news-sm==3.7.0) (1.2.0)\n",
            "Requirement already satisfied: markdown-it-py>=2.2.0 in /usr/local/lib/python3.10/dist-packages (from rich>=10.11.0->typer<1.0.0,>=0.3.0->spacy<3.8.0,>=3.7.0->ru-core-news-sm==3.7.0) (3.0.0)\n",
            "Requirement already satisfied: pygments<3.0.0,>=2.13.0 in /usr/local/lib/python3.10/dist-packages (from rich>=10.11.0->typer<1.0.0,>=0.3.0->spacy<3.8.0,>=3.7.0->ru-core-news-sm==3.7.0) (2.16.1)\n",
            "Requirement already satisfied: wrapt in /usr/local/lib/python3.10/dist-packages (from smart-open<8.0.0,>=5.2.1->weasel<0.5.0,>=0.1.0->spacy<3.8.0,>=3.7.0->ru-core-news-sm==3.7.0) (1.16.0)\n",
            "Requirement already satisfied: mdurl~=0.1 in /usr/local/lib/python3.10/dist-packages (from markdown-it-py>=2.2.0->rich>=10.11.0->typer<1.0.0,>=0.3.0->spacy<3.8.0,>=3.7.0->ru-core-news-sm==3.7.0) (0.1.2)\n",
            "Downloading pymorphy3-2.0.2-py3-none-any.whl (53 kB)\n",
            "\u001b[2K   \u001b[90m━━━━━━━━━━━━━━━━━━━━━━━━━━━━━━━━━━━━━━━━\u001b[0m \u001b[32m53.8/53.8 kB\u001b[0m \u001b[31m3.6 MB/s\u001b[0m eta \u001b[36m0:00:00\u001b[0m\n",
            "\u001b[?25hDownloading pymorphy3_dicts_ru-2.4.417150.4580142-py2.py3-none-any.whl (8.4 MB)\n",
            "\u001b[2K   \u001b[90m━━━━━━━━━━━━━━━━━━━━━━━━━━━━━━━━━━━━━━━━\u001b[0m \u001b[32m8.4/8.4 MB\u001b[0m \u001b[31m30.3 MB/s\u001b[0m eta \u001b[36m0:00:00\u001b[0m\n",
            "\u001b[?25hInstalling collected packages: pymorphy3-dicts-ru, pymorphy3, ru-core-news-sm\n",
            "Successfully installed pymorphy3-2.0.2 pymorphy3-dicts-ru-2.4.417150.4580142 ru-core-news-sm-3.7.0\n",
            "\u001b[38;5;2m✔ Download and installation successful\u001b[0m\n",
            "You can now load the package via spacy.load('ru_core_news_sm')\n",
            "\u001b[38;5;3m⚠ Restart to reload dependencies\u001b[0m\n",
            "If you are in a Jupyter or Colab notebook, you may need to restart Python in\n",
            "order to load all the package's dependencies. You can do this by selecting the\n",
            "'Restart kernel' or 'Restart runtime' option.\n"
          ]
        }
      ]
    },
    {
      "cell_type": "code",
      "source": [
        "import pandas as pd\n",
        "import numpy as np\n",
        "import nltk\n",
        "import spacy\n",
        "import math\n",
        "from collections import Counter\n",
        "from nltk.util import ngrams\n",
        "from nltk.tokenize import word_tokenize, sent_tokenize\n",
        "from nltk.corpus import stopwords\n",
        "import re"
      ],
      "metadata": {
        "id": "V4dK39kCpd8a"
      },
      "execution_count": null,
      "outputs": []
    },
    {
      "cell_type": "code",
      "source": [
        "import sklearn"
      ],
      "metadata": {
        "id": "A4RDznYw1c4q"
      },
      "execution_count": null,
      "outputs": []
    },
    {
      "cell_type": "code",
      "source": [
        "from sklearn.model_selection import train_test_split # делим на тестовую и тренировочную\n",
        "from sklearn.feature_extraction.text import CountVectorizer # мешок слов\n",
        "\n",
        "\n",
        "from sklearn.metrics import accuracy_score, f1_score, confusion_matrix, classification_report # метрика точности, f1 мера, матрица ошибок и отчёт по классификации\n",
        "from sklearn import model_selection # выбор модели и оценка параметров (можно загрузить несколько моделей)\n",
        "from sklearn.linear_model import LogisticRegression # логистическая регрессия\n",
        "from sklearn.ensemble import RandomForestClassifier, GradientBoostingClassifier # бустинг, случайный лес\n",
        "from sklearn.svm import SVC # метод SVM, загружаем с ядром rbf https://scikit-learn.ru/1-4-support-vector-machines/\n",
        "from sklearn.neighbors import KNeighborsClassifier # к ближайших соседей"
      ],
      "metadata": {
        "id": "lA0nnamR1mbU"
      },
      "execution_count": null,
      "outputs": []
    },
    {
      "cell_type": "code",
      "source": [
        "from sklearn.preprocessing import StandardScaler\n",
        "from sklearn.pipeline import Pipeline"
      ],
      "metadata": {
        "id": "sYegJZpG1zxq"
      },
      "execution_count": null,
      "outputs": []
    },
    {
      "cell_type": "code",
      "source": [
        "# Загрузка необходимых ресурсов\n",
        "nltk.download('punkt')\n",
        "nltk.download('stopwords')\n",
        "nlp = spacy.load('ru_core_news_sm')"
      ],
      "metadata": {
        "colab": {
          "base_uri": "https://localhost:8080/"
        },
        "id": "4g0EjqRcpmoX",
        "outputId": "1898d19a-ac73-4e45-b169-b1a7e1b115c6"
      },
      "execution_count": null,
      "outputs": [
        {
          "output_type": "stream",
          "name": "stderr",
          "text": [
            "[nltk_data] Downloading package punkt to /root/nltk_data...\n",
            "[nltk_data]   Unzipping tokenizers/punkt.zip.\n",
            "[nltk_data] Downloading package stopwords to /root/nltk_data...\n",
            "[nltk_data]   Package stopwords is already up-to-date!\n"
          ]
        }
      ]
    },
    {
      "cell_type": "markdown",
      "source": [
        "**Функции для расчета новых числовых признаков (нужны для классификации произвольного текста)**"
      ],
      "metadata": {
        "id": "Qt8svidJmCSd"
      }
    },
    {
      "cell_type": "code",
      "source": [
        "# Функция для подсчета энтропии распределения символов\n",
        "def calculate_entropy(text):\n",
        "    freq = Counter(text)\n",
        "    entropy = 0\n",
        "    for char, count in freq.items():\n",
        "        prob = count / len(text)\n",
        "        entropy -= prob * math.log2(prob)\n",
        "    return entropy\n",
        "\n",
        "# Функция для подсчета энтропии распределения слов\n",
        "def calculate_word_entropy(tokens):\n",
        "    freq = Counter(tokens)\n",
        "    total_words = len(tokens)\n",
        "    entropy = 0\n",
        "    for word, count in freq.items():\n",
        "        prob = count / total_words\n",
        "        entropy -= prob * math.log2(prob)\n",
        "    return entropy\n",
        "\n",
        "\n",
        "# Функция для подсчета TTR\n",
        "def calculate_ttr(tokens):\n",
        "    return len(set(tokens)) / len(tokens)\n",
        "\n",
        "# Функция для подсчета индекса Хердана\n",
        "def calculate_herdan_index(tokens):\n",
        "    return math.log(len(set(tokens))) / math.log(len(tokens))\n",
        "\n",
        "\n",
        "# Функция для подсчета индекса Юла\n",
        "def calculate_yule_index(tokens):\n",
        "    freq = Counter(tokens)\n",
        "    m1 = sum(freq.values())\n",
        "    freq_of_freq = Counter(freq.values())\n",
        "    m2 = sum([f * (f - 1) * freq_of_freq[f] for f in freq_of_freq])\n",
        "    return 10000 * (m2) / (m1 * m1 - m1)\n",
        "\n",
        "\n",
        "# Функция для подсчета частоты использования служебных слов\n",
        "def calculate_function_words_ratio(tokens):\n",
        "    stop_words = set(stopwords.words('russian'))\n",
        "    return sum(1 for token in tokens if token.lower() in stop_words) / len(tokens)\n",
        "\n",
        "# Функция для подсчета средней глубины синтаксического дерева\n",
        "def calculate_avg_tree_depth(doc):\n",
        "    def get_depth(token):\n",
        "        depth = 0\n",
        "        while token.head != token:\n",
        "            token = token.head\n",
        "            depth += 1\n",
        "        return depth\n",
        "\n",
        "    sentence_depths = []\n",
        "    for sent in doc.sents:\n",
        "        depths = [get_depth(token) for token in sent if token.dep_ != 'ROOT']\n",
        "        if depths:\n",
        "            sentence_depths.append(sum(depths) / len(depths))\n",
        "\n",
        "    return sum(sentence_depths) / len(sentence_depths) if sentence_depths else 0\n",
        "\n",
        "\n",
        "# Функция для подсчета соотношения частей речи\n",
        "def calculate_pos_ratio(doc):\n",
        "    pos_counts = Counter(token.pos_ for token in doc)\n",
        "    total = sum(pos_counts.values())\n",
        "    if total == 0:\n",
        "        return {}  # Возвращаем пустой словарь, если текст пустой\n",
        "\n",
        "    # Создаем словарь со всеми возможными частями речи, инициализируя их нулями\n",
        "    all_pos = {pos: 0 for pos in spacy.parts_of_speech.IDS}\n",
        "\n",
        "    # Обновляем значения для найденных частей речи\n",
        "    for pos, count in pos_counts.items():\n",
        "        all_pos[pos] = count / total\n",
        "\n",
        "    return all_pos\n",
        "\n",
        "\n",
        "#!!!!!!!!!!!!!!!!!!!!!!!!!!!!!!!!!!\n",
        "# Функция для подсчета частоты использования падежей - почему-то не работает (!!!)\n",
        "def calculate_case_frequency(doc):\n",
        "    case_counts = Counter(token.morph.get('Case') for token in doc if 'Case' in token.morph)\n",
        "    total = sum(case_counts.values())\n",
        "    return {case: count / total for case, count in case_counts.items()}\n",
        "\n",
        "#!!!!!!!!!!!!!!!!!!!!!!!!!!!!!!!!!!!!!!!1\n",
        "# Функция для подсчета частоты биграмм и триграмм - исключила - дает слишком много малоинформативных признаков (!!!)\n",
        "def calculate_ngram_frequency(tokens, n, top_n=2):\n",
        "    ngram_counts = Counter(ngrams(tokens, n))\n",
        "    total = sum(ngram_counts.values())\n",
        "    return {f'top_{i+1}_{n}gram': ' '.join(ngram) for i, (ngram, _) in enumerate(ngram_counts.most_common(top_n))}\n",
        "\n",
        "\n",
        "# Функции для расчета индекса удобочитаемости Флеша-Кинкейда (адаптированная для русского языка)\n",
        "#функция count_syllables_ru для подсчета слогов в русских словах\n",
        "def count_syllables(word):\n",
        "    vowels = 'аеёиоуыэюя'\n",
        "    return len([char for char in word.lower() if char in vowels])\n",
        "\n",
        "def calculate_flesch_kincaid_grade(text):\n",
        "    # Очистка текста\n",
        "    text = re.sub(r'[^\\w\\s.,!?]', '', text)\n",
        "\n",
        "    sentences = sent_tokenize(text)\n",
        "    words = [word.strip('.,!?:;()[]{}') for word in word_tokenize(text) if word.strip('.,!?:;()[]{}')]\n",
        "\n",
        "    if not sentences or not words:\n",
        "        return 0\n",
        "\n",
        "    avg_sentence_length = len(words) / len(sentences)\n",
        "    avg_syllables_per_word = sum(count_syllables(word) for word in words) / len(words)\n",
        "\n",
        "    # Адаптированные коэффициенты для русского языка\n",
        "    score = 220.755 - (1.1 * avg_sentence_length) - (65.0 * avg_syllables_per_word)\n",
        "\n",
        "    # Ограничение минимального значения\n",
        "    return max(0, score)\n",
        "\n",
        "\n",
        "# Функция для расчета индекса туманности Ганнинга (адаптированная для русского языка)\n",
        "def calculate_gunning_fog_index(text):\n",
        "    if not text:\n",
        "        return 0\n",
        "\n",
        "    # Очистка текста\n",
        "    text = re.sub(r'[^\\w\\s]', '', text.lower())\n",
        "\n",
        "    sentences = sent_tokenize(text)\n",
        "    words = word_tokenize(text)\n",
        "\n",
        "    if len(sentences) == 0 or len(words) == 0:\n",
        "        return 0\n",
        "\n",
        "    complex_words = sum(1 for word in words if count_syllables(word) >= 4)\n",
        "\n",
        "    return 0.4 * ((len(words) / len(sentences)) + 100 * (complex_words / len(words)))\n",
        "\n",
        "# Функция для подсчета частоты повторения слов\n",
        "def calculate_word_repetition(tokens):\n",
        "    freq = Counter(tokens)\n",
        "    return sum(count for count in freq.values() if count > 1) / len(tokens)"
      ],
      "metadata": {
        "id": "Bgj9W4kJp32e"
      },
      "execution_count": null,
      "outputs": []
    },
    {
      "cell_type": "markdown",
      "source": [
        "**Применяем функции к датафрейму (нужны при классификации произвольного текста)**"
      ],
      "metadata": {
        "id": "a7WJdhEYmMtZ"
      }
    },
    {
      "cell_type": "code",
      "source": [
        "# Применение функций к датафрейму\n",
        "def extract_features(df):\n",
        "    features = []\n",
        "    for _, row in df.iterrows():\n",
        "        text = row['content']\n",
        "        tokens = word_tokenize(text.lower())\n",
        "        sentences = sent_tokenize(text)\n",
        "        doc = nlp(text)\n",
        "\n",
        "        feature = {\n",
        "            'char_count': len(text),\n",
        "            'word_count': len(tokens),\n",
        "            'sentence_count': len(sentences),\n",
        "            'avg_word_length': sum(len(word) for word in tokens) / len(tokens),\n",
        "            'avg_sentence_length': len(tokens) / len(sentences),\n",
        "            'ttr': calculate_ttr(tokens),\n",
        "            'herdan_index': calculate_herdan_index(tokens),\n",
        "            'yule_index': calculate_yule_index(tokens),\n",
        "            'function_words_ratio': calculate_function_words_ratio(tokens),\n",
        "            'avg_punctuation_per_sentence': sum(1 for char in text if char in '.,;:!?') / len(sentences),\n",
        "            'avg_tree_depth': calculate_avg_tree_depth(doc),\n",
        "            'char_entropy': calculate_entropy(text),\n",
        "            #'word_entropy': calculate_entropy(' '.join(tokens)),\n",
        "            'word_entropy': calculate_word_entropy(tokens),\n",
        "            'flesch_kincaid_grade': calculate_flesch_kincaid_grade(text),\n",
        "            'gunning_fog_index': calculate_gunning_fog_index(text),\n",
        "            'word_repetition_frequency': calculate_word_repetition(tokens),\n",
        "        }\n",
        "\n",
        "        pos_ratio = calculate_pos_ratio(doc)\n",
        "        feature.update({f'pos_ratio_{pos}': ratio for pos, ratio in pos_ratio.items()})\n",
        "\n",
        "        case_frequency = calculate_case_frequency(doc)\n",
        "        feature.update({f'case_frequency_{case}': freq for case, freq in case_frequency.items()})\n",
        "\n",
        "        #bigram_frequency = calculate_ngram_frequency(tokens, 2)\n",
        "        #feature.update({f'bigram_frequency_{bigram}': freq for bigram, freq in bigram_frequency.items()})\n",
        "\n",
        "        #trigram_frequency = calculate_ngram_frequency(tokens, 3)\n",
        "        #feature.update({f'trigram_frequency_{trigram}': freq for trigram, freq in trigram_frequency.items()})\n",
        "\n",
        "        features.append(feature)\n",
        "\n",
        "    return pd.DataFrame(features)\n"
      ],
      "metadata": {
        "id": "82kNGq9mp7Ff"
      },
      "execution_count": null,
      "outputs": []
    },
    {
      "cell_type": "markdown",
      "source": [
        "**Загружаем готовый датасет с новыми числовыми признаками и меткой класса**"
      ],
      "metadata": {
        "id": "8K7sEJSOmtkK"
      }
    },
    {
      "cell_type": "code",
      "source": [
        "!gdown 1CYtwcQYeKtQF1cAsfzQS3rT_P23-fW_j"
      ],
      "metadata": {
        "colab": {
          "base_uri": "https://localhost:8080/"
        },
        "id": "U2b-RlEGqFbG",
        "outputId": "443ec12f-e560-49c9-c9ae-244c8245c6b7"
      },
      "execution_count": null,
      "outputs": [
        {
          "output_type": "stream",
          "name": "stdout",
          "text": [
            "Downloading...\n",
            "From: https://drive.google.com/uc?id=1CYtwcQYeKtQF1cAsfzQS3rT_P23-fW_j\n",
            "To: /content/gotov_df.csv\n",
            "\r  0% 0.00/2.68M [00:00<?, ?B/s]\r100% 2.68M/2.68M [00:00<00:00, 162MB/s]\n"
          ]
        }
      ]
    },
    {
      "cell_type": "code",
      "source": [
        "df = pd.read_csv('gotov_df.csv')"
      ],
      "metadata": {
        "id": "_Bt6hqmJtxbW"
      },
      "execution_count": null,
      "outputs": []
    },
    {
      "cell_type": "code",
      "source": [
        "X = df.drop('label', axis=1)\n",
        "y = df['label']"
      ],
      "metadata": {
        "id": "Mdg4jEx2t2qa"
      },
      "execution_count": null,
      "outputs": []
    },
    {
      "cell_type": "markdown",
      "source": [
        "**Делим на train и  test**"
      ],
      "metadata": {
        "id": "WcQg4lQpm___"
      }
    },
    {
      "cell_type": "code",
      "source": [
        "X_train, X_test, y_train, y_test = train_test_split(X, y, test_size=0.2, random_state=42)"
      ],
      "metadata": {
        "id": "sSSVx7Cat-bH"
      },
      "execution_count": null,
      "outputs": []
    },
    {
      "cell_type": "markdown",
      "source": [
        "**Определяем пайплайн для моделей**"
      ],
      "metadata": {
        "id": "Ye8X4IIcnIcU"
      }
    },
    {
      "cell_type": "code",
      "source": [
        "def get_models1():\n",
        "    return {\n",
        "        'RandomForest1': RandomForestClassifier(bootstrap=True, n_estimators=100, n_jobs=-1),\n",
        "        \"GB1\": GradientBoostingClassifier(n_estimators=100),\n",
        "        \"kNN1\": Pipeline([\n",
        "            ('scaler', StandardScaler()),\n",
        "            ('knn', KNeighborsClassifier())\n",
        "        ]),\n",
        "        \"LogisticRegression1\": Pipeline([\n",
        "            ('scaler', StandardScaler()),\n",
        "            ('lr', LogisticRegression())\n",
        "        ]),\n",
        "        \"SVC1\": Pipeline([\n",
        "            ('scaler', StandardScaler()),\n",
        "            ('svc', SVC(kernel='rbf'))\n",
        "        ])\n",
        "    }"
      ],
      "metadata": {
        "id": "Zepgh8i8uLUg"
      },
      "execution_count": null,
      "outputs": []
    },
    {
      "cell_type": "markdown",
      "source": [
        "**Обучаем модели и оцениваем качество**"
      ],
      "metadata": {
        "id": "EBTwHQ9cnhSf"
      }
    },
    {
      "cell_type": "code",
      "source": [
        "metrics = {}\n",
        "models = get_models1()\n",
        "\n",
        "for name, model in models.items():\n",
        "    print(f\"Обучение модели: {name}\")\n",
        "    clf = model.fit(X_train, y_train)\n",
        "    y_predict = clf.predict(X_test)\n",
        "    score = f1_score(y_test, y_predict)\n",
        "    metrics[name] = score\n",
        "    print(f\"F1-score для {name}: {score:.4f}\")"
      ],
      "metadata": {
        "colab": {
          "base_uri": "https://localhost:8080/"
        },
        "id": "uMGmDOEVuMxi",
        "outputId": "69732da1-9c91-454c-a772-185ed7de9151"
      },
      "execution_count": null,
      "outputs": [
        {
          "output_type": "stream",
          "name": "stdout",
          "text": [
            "Обучение модели: RandomForest1\n",
            "F1-score для RandomForest1: 0.6968\n",
            "Обучение модели: GB1\n",
            "F1-score для GB1: 0.6999\n",
            "Обучение модели: kNN1\n",
            "F1-score для kNN1: 0.6804\n",
            "Обучение модели: LogisticRegression1\n",
            "F1-score для LogisticRegression1: 0.7030\n",
            "Обучение модели: SVC1\n",
            "F1-score для SVC1: 0.7157\n"
          ]
        }
      ]
    },
    {
      "cell_type": "markdown",
      "source": [
        "**Догружаем необходимые ресурсы**"
      ],
      "metadata": {
        "id": "bUDjSDnWnwIK"
      }
    },
    {
      "cell_type": "code",
      "source": [
        "import pickle\n",
        "import joblib\n",
        "from sklearn.base import BaseEstimator, TransformerMixin"
      ],
      "metadata": {
        "id": "W4KdaXVbx2zC"
      },
      "execution_count": null,
      "outputs": []
    },
    {
      "cell_type": "markdown",
      "source": [
        "**Здесь функции для извлечения признаков из произвольного текста, сохранения и загрузки моделей**"
      ],
      "metadata": {
        "id": "mKZWFfrWn2fE"
      }
    },
    {
      "cell_type": "code",
      "source": [
        "# Класс для извлечения признаков\n",
        "class FeatureExtractor(BaseEstimator, TransformerMixin):\n",
        "    def __init__(self):\n",
        "        # Инициализация необходимых ресурсов\n",
        "        nltk.download('punkt')\n",
        "        nltk.download('stopwords')\n",
        "        self.nlp = spacy.load('ru_core_news_sm')\n",
        "\n",
        "    def fit(self, X, y=None):\n",
        "        return self\n",
        "\n",
        "    def transform(self, X):\n",
        "        return extract_features(pd.DataFrame({'content': X}))\n",
        "\n",
        "# Сохранение моделей\n",
        "def save_models1(models):\n",
        "    for name, model in models.items():\n",
        "        filename = f\"{name}_model1.pkl\"\n",
        "        with open(filename, 'wb') as file:\n",
        "            pickle.dump(model, file)\n",
        "    print(\"Модели сохранены.\")\n",
        "\n",
        "# Загрузка моделей\n",
        "def load_models1():\n",
        "    loaded_models = {}\n",
        "    for name in ['RandomForest1', 'GB1', 'kNN1', 'LogisticRegression1', 'SVC1']:\n",
        "        filename = f\"{name}_model1.pkl\"\n",
        "        with open(filename, 'rb') as file:\n",
        "            loaded_models[name] = pickle.load(file)\n",
        "    print(\"Модели загружены.\")\n",
        "    return loaded_models\n",
        "\n",
        "# Функция для классификации произвольного абзаца\n",
        "def classify_paragraph(paragraph, models):\n",
        "    # Создаем DataFrame с одним абзацем\n",
        "    df = pd.DataFrame({'content': [paragraph]})\n",
        "\n",
        "    # Извлекаем признаки\n",
        "    features = extract_features(df)\n",
        "\n",
        "    # Выбираем нужные столбцы\n",
        "    selected_features = [\n",
        "        'char_count', 'word_count', 'sentence_count', 'avg_word_length',\n",
        "        'avg_sentence_length', 'ttr', 'herdan_index', 'yule_index',\n",
        "        'function_words_ratio', 'avg_punctuation_per_sentence', 'avg_tree_depth',\n",
        "        'char_entropy', 'word_entropy', 'flesch_kincaid_grade', 'gunning_fog_index',\n",
        "        'word_repetition_frequency', 'pos_ratio_ADJ', 'pos_ratio_ADP', 'pos_ratio_ADV',\n",
        "        'pos_ratio_AUX', 'pos_ratio_CCONJ', 'pos_ratio_DET', 'pos_ratio_INTJ',\n",
        "        'pos_ratio_NOUN', 'pos_ratio_NUM', 'pos_ratio_PART', 'pos_ratio_PRON',\n",
        "        'pos_ratio_PROPN', 'pos_ratio_PUNCT', 'pos_ratio_SCONJ', 'pos_ratio_SYM',\n",
        "        'pos_ratio_VERB', 'pos_ratio_X', 'pos_ratio_SPACE'\n",
        "    ]\n",
        "\n",
        "    features = features[selected_features]\n",
        "    #print(features)\n",
        "    # Классифицируем с помощью каждой модели\n",
        "    results = {}\n",
        "    for name, model in models.items():\n",
        "        prediction = model.predict(features)\n",
        "        results[name] = prediction[0]\n",
        "\n",
        "    return results\n"
      ],
      "metadata": {
        "id": "c1KCCNO5uekd"
      },
      "execution_count": null,
      "outputs": []
    },
    {
      "cell_type": "markdown",
      "source": [
        "**Сохраняем обученные модели**"
      ],
      "metadata": {
        "id": "ZRKsGBIVoMmP"
      }
    },
    {
      "cell_type": "code",
      "source": [
        "# Сохраняем обученные модели\n",
        "save_models1(models)\n"
      ],
      "metadata": {
        "colab": {
          "base_uri": "https://localhost:8080/"
        },
        "id": "4nWV7m6ryJdF",
        "outputId": "e2cef81d-0516-4c2f-8573-b436db87a259"
      },
      "execution_count": null,
      "outputs": [
        {
          "output_type": "stream",
          "name": "stdout",
          "text": [
            "Модели сохранены.\n"
          ]
        }
      ]
    },
    {
      "cell_type": "markdown",
      "source": [
        "**Загружаем сохраненные модели**"
      ],
      "metadata": {
        "id": "6vcRWwmdoT9z"
      }
    },
    {
      "cell_type": "code",
      "source": [
        "# Пример использования\n",
        "loaded_models = load_models1()"
      ],
      "metadata": {
        "colab": {
          "base_uri": "https://localhost:8080/"
        },
        "id": "26A3UsKUyRRd",
        "outputId": "81195bda-2550-4f01-fe99-c0cde71352e0"
      },
      "execution_count": null,
      "outputs": [
        {
          "output_type": "stream",
          "name": "stdout",
          "text": [
            "Модели загружены.\n"
          ]
        }
      ]
    },
    {
      "cell_type": "markdown",
      "source": [
        "**Классифицируем произвольный абзац**"
      ],
      "metadata": {
        "id": "fJq4gdR6oeTL"
      }
    },
    {
      "cell_type": "code",
      "source": [
        "# Классифицируем произвольный абзац\n",
        "sample_paragraph = \"Пользователи, или клиенты, могут отправлять, получать, просматривать и управлять документами через специальные приложения, которые взаимодействуют с сервером ис учёта ресурсов. Таким образом, ис учёта ресурсов обычно использует клиентсерверную архитектуру, где сервер обрабатывает запросы на поставку и хранение материалов, а клиенты работают с этой системой через свои приложения. Клиентсерверная архитектура в ис учёта ресурсов предприятия обеспечивает удобство и эффективность для пользователей. Клиенты могут использовать специализированные приложения для взаимодействия с сервером, отправлять. Сервер, в свою очередь, обеспечивает централизованное хранение данных, обработку запросов, контроль доступа и безопасность информации.\"\n",
        "classification_results = classify_paragraph(sample_paragraph, loaded_models)"
      ],
      "metadata": {
        "id": "rbE9_8JOyVUz"
      },
      "execution_count": null,
      "outputs": []
    },
    {
      "cell_type": "code",
      "source": [
        "print(\"Результаты классификации:\")\n",
        "for model_name, prediction in classification_results.items():\n",
        "    #print(f\"{model_name}: {'Позитивный' if prediction == 1 else 'Негативный'}\")\n",
        "    print(f\"{model_name}: {prediction}\")"
      ],
      "metadata": {
        "colab": {
          "base_uri": "https://localhost:8080/"
        },
        "id": "CdSDw2yGyf5o",
        "outputId": "c4ed1fdb-c643-4aa1-c376-7a2b61ef194c"
      },
      "execution_count": null,
      "outputs": [
        {
          "output_type": "stream",
          "name": "stdout",
          "text": [
            "Результаты классификации:\n",
            "RandomForest1: 1\n",
            "GB1: 1\n",
            "kNN1: 0\n",
            "LogisticRegression1: 1\n",
            "SVC1: 1\n"
          ]
        }
      ]
    }
  ]
}